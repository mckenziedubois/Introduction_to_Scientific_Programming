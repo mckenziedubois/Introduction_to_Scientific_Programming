{
 "cells": [
  {
   "cell_type": "markdown",
   "metadata": {
    "editable": false
   },
   "source": [
    "<img src=\"https://comp116sp19.cs.unc.edu/images/COMP116Logo.png\" style=\"display:inline; width:200px\" />\n",
    "\n",
    "# Assignment 5: 311 Database\n",
    "\n",
    "These data were scraped from the 311 Service Request data available from the [New York City Open Data site](https://nycopendata.socrata.com/Social-Services/311-Service-Requests-from-2010-to-Present/erm2-nwe9). The data are presented to you in four arrays each with **N** rows representing service requests over a period of about 4 weeks of full days.\n",
    " \n",
    "**Times:** N by 3 integer array of the _Day_ (counting from 0), _Hour_ (0 to 23), and _Day of the Week_ (Monday is 0) the request was created.\n",
    " \n",
    "**Requests:** N by 2 string array of the _Complaint_ and the _Descriptor_ for the request.\n",
    " \n",
    "**Locations:** N by 2 string array of the _City_ and _[Borough](https://en.wikipedia.org/wiki/Borough)_ for the request.\n",
    " \n",
    "**Coordinates:** N by 2 float array of the _X_ and _Y_ coordinates of the request in the [State Plane Coordinate system](https://en.wikipedia.org/wiki/State_Plane_Coordinate_System). You won't need to know anything about the coordinate system, just that they are two orthogonal coordinates in the plane. \n",
    " \n",
    "Think of the 4 arrays as representing one large table with the **N** rows and 9 columns. "
   ]
  },
  {
   "cell_type": "markdown",
   "metadata": {
    "editable": false
   },
   "source": [
    "## Set up\n",
    "\n",
    "I will set up the environment for you here."
   ]
  },
  {
   "cell_type": "code",
   "execution_count": 1,
   "metadata": {
    "editable": false
   },
   "outputs": [
    {
     "data": {
      "application/javascript": [
       "IPython.notebook.set_autosave_interval(15000)"
      ]
     },
     "metadata": {},
     "output_type": "display_data"
    },
    {
     "name": "stdout",
     "output_type": "stream",
     "text": [
      "Autosaving every 15 seconds\n"
     ]
    },
    {
     "ename": "ModuleNotFoundError",
     "evalue": "No module named 'comp116'",
     "output_type": "error",
     "traceback": [
      "\u001b[0;31m---------------------------------------------------------------------------\u001b[0m",
      "\u001b[0;31mModuleNotFoundError\u001b[0m                       Traceback (most recent call last)",
      "\u001b[0;32m<ipython-input-1-5e63bd53d9e6>\u001b[0m in \u001b[0;36m<module>\u001b[0;34m()\u001b[0m\n\u001b[1;32m      3\u001b[0m \u001b[0;32mimport\u001b[0m \u001b[0mnumpy\u001b[0m \u001b[0;32mas\u001b[0m \u001b[0mnp\u001b[0m\u001b[0;34m\u001b[0m\u001b[0m\n\u001b[1;32m      4\u001b[0m \u001b[0;32mimport\u001b[0m \u001b[0mpylab\u001b[0m\u001b[0;34m\u001b[0m\u001b[0m\n\u001b[0;32m----> 5\u001b[0;31m \u001b[0;32mimport\u001b[0m \u001b[0mcomp116\u001b[0m\u001b[0;34m\u001b[0m\u001b[0m\n\u001b[0m\u001b[1;32m      6\u001b[0m \u001b[0;32mimport\u001b[0m \u001b[0mpickle\u001b[0m\u001b[0;34m\u001b[0m\u001b[0m\n\u001b[1;32m      7\u001b[0m \u001b[0;34m\u001b[0m\u001b[0m\n",
      "\u001b[0;31mModuleNotFoundError\u001b[0m: No module named 'comp116'"
     ]
    }
   ],
   "source": [
    "%matplotlib inline\n",
    "%autosave 15\n",
    "import numpy as np\n",
    "import pylab\n",
    "import comp116\n",
    "import pickle\n",
    "\n",
    "check, report = comp116.start('A5')\n",
    "with open('A5data.pickle', 'rb') as fid:\n",
    "    Times, Requests, Locations, Coordinates = pickle.load(fid)\n",
    "Times.flags.writeable = False\n",
    "Requests.flags.writeable = False\n",
    "Locations.flags.writeable = False\n",
    "Coordinates.flags.writeable = False"
   ]
  },
  {
   "cell_type": "code",
   "execution_count": 5,
   "metadata": {},
   "outputs": [],
   "source": [
    "import pickle\n",
    "with open('A5data.pickle', 'rb') as fid:\n",
    "    Times, Requests, Locations, Coordinates = pickle.load(fid)"
   ]
  },
  {
   "cell_type": "markdown",
   "metadata": {
    "editable": false
   },
   "source": [
    "## Fill out information on userid/collaborators"
   ]
  },
  {
   "cell_type": "code",
   "execution_count": 3,
   "metadata": {},
   "outputs": [],
   "source": [
    "Author = 'mdubois6' # not your pid, your onyen\n",
    "Collaborators = []"
   ]
  },
  {
   "cell_type": "code",
   "execution_count": 4,
   "metadata": {
    "editable": false
   },
   "outputs": [
    {
     "name": "stdout",
     "output_type": "stream",
     "text": [
      "Author appears correct\n",
      "Collaborators appears correct\n"
     ]
    }
   ],
   "source": [
    "check('Author', Author != 'youronyen', points=1)\n",
    "check('Collaborators', Collaborators != ['list', 'their', 'onyens', 'here'], points=1)"
   ]
  },
  {
   "cell_type": "markdown",
   "metadata": {
    "editable": false
   },
   "source": [
    "## 1. How many requests do we have?\n",
    "\n",
    "I'm looking for **N** as in the description above."
   ]
  },
  {
   "cell_type": "code",
   "execution_count": 5,
   "metadata": {},
   "outputs": [
    {
     "name": "stdout",
     "output_type": "stream",
     "text": [
      "Number of requests = 14204\n"
     ]
    }
   ],
   "source": [
    "#Write your code here\n",
    "A1 = len(Times)\n",
    "\n",
    "print('Number of requests =', A1)"
   ]
  },
  {
   "cell_type": "code",
   "execution_count": 6,
   "metadata": {
    "editable": false
   },
   "outputs": [
    {
     "name": "stdout",
     "output_type": "stream",
     "text": [
      "A1 appears correct\n"
     ]
    }
   ],
   "source": [
    "check('A1', A1, points=5)"
   ]
  },
  {
   "cell_type": "markdown",
   "metadata": {
    "editable": false
   },
   "source": [
    "## 2. What was the average number of requests per hour?"
   ]
  },
  {
   "cell_type": "code",
   "execution_count": 10,
   "metadata": {},
   "outputs": [
    {
     "name": "stdout",
     "output_type": "stream",
     "text": [
      "[ 0  0  0 ... 23 23 23]\n"
     ]
    }
   ],
   "source": [
    "print(Times[:,1])"
   ]
  },
  {
   "cell_type": "code",
   "execution_count": 14,
   "metadata": {},
   "outputs": [
    {
     "ename": "AttributeError",
     "evalue": "module 'numpy' has no attribute 'count'",
     "output_type": "error",
     "traceback": [
      "\u001b[0;31m---------------------------------------------------------------------------\u001b[0m",
      "\u001b[0;31mAttributeError\u001b[0m                            Traceback (most recent call last)",
      "\u001b[0;32m<ipython-input-14-fbb630e36d9e>\u001b[0m in \u001b[0;36m<module>\u001b[0;34m()\u001b[0m\n\u001b[1;32m      2\u001b[0m \u001b[0mA2\u001b[0m \u001b[0;34m=\u001b[0m \u001b[0;34m[\u001b[0m\u001b[0;34m]\u001b[0m\u001b[0;34m\u001b[0m\u001b[0m\n\u001b[1;32m      3\u001b[0m \u001b[0;32mfor\u001b[0m \u001b[0mrequests\u001b[0m \u001b[0;32min\u001b[0m \u001b[0mTimes\u001b[0m\u001b[0;34m[\u001b[0m\u001b[0;34m:\u001b[0m\u001b[0;34m,\u001b[0m\u001b[0;36m1\u001b[0m\u001b[0;34m]\u001b[0m\u001b[0;34m:\u001b[0m\u001b[0;34m\u001b[0m\u001b[0m\n\u001b[0;32m----> 4\u001b[0;31m     \u001b[0mnp\u001b[0m\u001b[0;34m.\u001b[0m\u001b[0mcount\u001b[0m\u001b[0;34m(\u001b[0m\u001b[0;36m0\u001b[0m\u001b[0;34m)\u001b[0m\u001b[0;34m\u001b[0m\u001b[0m\n\u001b[0m\u001b[1;32m      5\u001b[0m     \u001b[0;31m#for times in range(0,24):\u001b[0m\u001b[0;34m\u001b[0m\u001b[0;34m\u001b[0m\u001b[0m\n\u001b[1;32m      6\u001b[0m \u001b[0;34m\u001b[0m\u001b[0m\n",
      "\u001b[0;31mAttributeError\u001b[0m: module 'numpy' has no attribute 'count'"
     ]
    }
   ],
   "source": [
    "#Write your code here\n",
    "A2 = []\n",
    "for requests in Times[:,1]:\n",
    "    np.count(0)\n",
    "    #for times in range(0,24):\n",
    "        \n",
    "        #print('Requests/hour =', A2)"
   ]
  },
  {
   "cell_type": "code",
   "execution_count": null,
   "metadata": {},
   "outputs": [],
   "source": []
  },
  {
   "cell_type": "code",
   "execution_count": null,
   "metadata": {
    "editable": false
   },
   "outputs": [],
   "source": [
    "check('A2', A2, points=5)"
   ]
  },
  {
   "cell_type": "markdown",
   "metadata": {
    "editable": false
   },
   "source": [
    "## 3. Which cities are in the data?\n",
    "\n",
    "I want an alphabetized list of the different values in the city column of the locations. Each city name should be in the list only once."
   ]
  },
  {
   "cell_type": "code",
   "execution_count": 15,
   "metadata": {},
   "outputs": [
    {
     "name": "stdout",
     "output_type": "stream",
     "text": [
      "Cities = ['Arverne', 'Astoria', 'Bayside', 'Bellerose', 'Bronx', 'Brooklyn', 'Cambria Heights', 'Central Park', 'College Point', 'Corona', 'East Elmhurst', 'Elmhurst', 'Far Rockaway', 'Floral Park', 'Flushing', 'Forest Hills', 'Fresh Meadows', 'Glen Oaks', 'Hollis', 'Howard Beach', 'Jackson Heights', 'Jamaica', 'Kew Gardens', 'Little Neck', 'Long Island City', 'Maspeth', 'Middle Village', 'New Hyde Park', 'New York', 'Oakland Gardens', 'Ozone Park', 'Queens', 'Queens Village', 'Rego Park', 'Richmond Hill', 'Ridgewood', 'Rockaway Park', 'Rosedale', 'Saint Albans', 'South Ozone Park', 'South Richmond Hill', 'Springfield Gardens', 'Staten Island', 'Sunnyside', 'Whitestone', 'Woodhaven', 'Woodside']\n"
     ]
    }
   ],
   "source": [
    "#Write your code here\n",
    "\n",
    "def setOfUniqueWordsInList( names ):\n",
    "    '''\n",
    "    Given a Python list of names, return the set of the unique words\n",
    "    '''\n",
    "    return sorted(set(names[:,0]))\n",
    "\n",
    "A3 = setOfUniqueWordsInList( Locations )\n",
    "\n",
    "print('Cities =', A3)"
   ]
  },
  {
   "cell_type": "code",
   "execution_count": 16,
   "metadata": {
    "editable": false
   },
   "outputs": [
    {
     "name": "stdout",
     "output_type": "stream",
     "text": [
      "A3 appears correct\n"
     ]
    }
   ],
   "source": [
    "check('A3', A3, points=8)"
   ]
  },
  {
   "cell_type": "markdown",
   "metadata": {
    "editable": false
   },
   "source": [
    "## 4. Which complaints happened every day?\n",
    "\n",
    "Your result should be an alphabetical list of complaints that occur every day in the data. In other words, if there is even a single day without a particular complaint, that complaint should not be in your list. Each complaint should only be in the list once."
   ]
  },
  {
   "cell_type": "code",
   "execution_count": 26,
   "metadata": {},
   "outputs": [
    {
     "ename": "IndentationError",
     "evalue": "expected an indented block (<ipython-input-26-50ede019f940>, line 7)",
     "output_type": "error",
     "traceback": [
      "\u001b[0;36m  File \u001b[0;32m\"<ipython-input-26-50ede019f940>\"\u001b[0;36m, line \u001b[0;32m7\u001b[0m\n\u001b[0;31m    print('Complaints that happened every day', A4)\u001b[0m\n\u001b[0m        ^\u001b[0m\n\u001b[0;31mIndentationError\u001b[0m\u001b[0;31m:\u001b[0m expected an indented block\n"
     ]
    }
   ],
   "source": [
    "#Write your code here\n",
    "A4 = []\n",
    "request_data = Requests[:,0]\n",
    "days = Times[:,0]\n",
    "for complaints in range(len(request_data)):# expecting a list of strings\n",
    "    for times in range(len(days)):\n",
    "    print('Complaints that happened every day', A4)"
   ]
  },
  {
   "cell_type": "code",
   "execution_count": null,
   "metadata": {
    "editable": false
   },
   "outputs": [],
   "source": [
    "check('A4', A4, points=16)"
   ]
  },
  {
   "cell_type": "markdown",
   "metadata": {
    "editable": false
   },
   "source": [
    "## 5. Which time had the most requests?\n",
    "\n",
    "Your result should be a two-element array of the day and hour of the time that had the most requests."
   ]
  },
  {
   "cell_type": "code",
   "execution_count": null,
   "metadata": {},
   "outputs": [],
   "source": [
    "#Write your code here\n",
    "A5 = np.array([0, 0])\n",
    "\n",
    "\n",
    "print('Most requests [Day Hour] =', A5)"
   ]
  },
  {
   "cell_type": "code",
   "execution_count": null,
   "metadata": {
    "editable": false
   },
   "outputs": [],
   "source": [
    "check('A5', A5, points=16)"
   ]
  },
  {
   "cell_type": "markdown",
   "metadata": {
    "editable": false
   },
   "source": [
    "## 6. Where are the parties?\n",
    "\n",
    "Which city has the most requests with descriptor 'Loud Music/Party'?"
   ]
  },
  {
   "cell_type": "code",
   "execution_count": 6,
   "metadata": {},
   "outputs": [
    {
     "name": "stdout",
     "output_type": "stream",
     "text": [
      "Party city = ['No Access' 'Loud Music/Party' 'Loud Music/Party' ... 'No Access'\n",
      " 'Loud Music/Party' 'Partial Access']\n"
     ]
    }
   ],
   "source": [
    "Descriptor = 'Loud Music/Party'\n",
    "\n",
    "#Write your code here\n",
    "A6 = Requests[:,1]\n",
    "\n",
    "\n",
    "print('Party city =', A6)"
   ]
  },
  {
   "cell_type": "code",
   "execution_count": null,
   "metadata": {
    "editable": false
   },
   "outputs": [],
   "source": [
    "check('A6', A6, points=16)"
   ]
  },
  {
   "cell_type": "markdown",
   "metadata": {
    "editable": false
   },
   "source": [
    "## 7. Where are they drinking in the Bronx?\n",
    "\n",
    "Plot points at the coordinates of the requests with borough 'Bronx' and complaint 'Drinking'.\n",
    "\n",
    "Do **not** augment the plot in any way. No titles, etc. "
   ]
  },
  {
   "cell_type": "code",
   "execution_count": null,
   "metadata": {},
   "outputs": [],
   "source": [
    "Borough = 'Bronx'\n",
    "Complaint = 'Drinking'\n",
    "\n",
    "#Write your code here\n",
    "\n",
    "#These lines format the graph to make it look nicer, no need to change them\n",
    "pylab.axes().set_aspect('equal', 'datalim')\n",
    "pylab.grid()\n",
    "\n",
    "# DO NOT TOUCH THIS LINE\n",
    "A7_plot = pylab.gcf()"
   ]
  },
  {
   "cell_type": "code",
   "execution_count": null,
   "metadata": {
    "editable": false
   },
   "outputs": [],
   "source": [
    "check('A7', A7_plot, points=16)"
   ]
  },
  {
   "cell_type": "markdown",
   "metadata": {
    "editable": false
   },
   "source": [
    "## 8. Where is the most blocked driveway?\n",
    "\n",
    "I want the coordinate that has the most requests with complaint 'Blocked Driveway'? I'm expecting a two-element float array with the X/Y coordinate of the driveway with the most complaints."
   ]
  },
  {
   "cell_type": "code",
   "execution_count": 2,
   "metadata": {},
   "outputs": [
    {
     "name": "stdout",
     "output_type": "stream",
     "text": [
      "Most blocked coordinate = [0. 0.]\n"
     ]
    }
   ],
   "source": [
    "Complaint = 'Blocked Driveway'\n",
    "\n",
    "# Write your code here\n",
    "A8 = np.zeros(2)\n",
    "\n",
    "print('Most blocked coordinate =', A8)"
   ]
  },
  {
   "cell_type": "code",
   "execution_count": null,
   "metadata": {
    "editable": false
   },
   "outputs": [],
   "source": [
    "check('A8', A8, points=16)"
   ]
  },
  {
   "cell_type": "markdown",
   "metadata": {
    "editable": false
   },
   "source": [
    "## Done!\n",
    "\n",
    "Now get your report and submit your assignment."
   ]
  },
  {
   "cell_type": "markdown",
   "metadata": {
    "editable": false
   },
   "source": [
    "## Saving your work\n",
    "<img src=\"saveAndCheckpoint.png\" width=\"300\" style=\"float: right\" />\n",
    "\n",
    "Now save your work by going to (menu <font color='green'>File</font>-><font color='green'>Save and Checkpoint</font>)"
   ]
  },
  {
   "cell_type": "code",
   "execution_count": 7,
   "metadata": {
    "editable": false
   },
   "outputs": [
    {
     "ename": "NameError",
     "evalue": "name 'report' is not defined",
     "output_type": "error",
     "traceback": [
      "\u001b[0;31m---------------------------------------------------------------------------\u001b[0m",
      "\u001b[0;31mNameError\u001b[0m                                 Traceback (most recent call last)",
      "\u001b[0;32m<ipython-input-7-57c2dbd5d40e>\u001b[0m in \u001b[0;36m<module>\u001b[0;34m()\u001b[0m\n\u001b[0;32m----> 1\u001b[0;31m \u001b[0mreport\u001b[0m\u001b[0;34m(\u001b[0m\u001b[0mAuthor\u001b[0m\u001b[0;34m,\u001b[0m \u001b[0mCollaborators\u001b[0m\u001b[0;34m)\u001b[0m\u001b[0;34m\u001b[0m\u001b[0m\n\u001b[0m\u001b[1;32m      2\u001b[0m \u001b[0mprint\u001b[0m\u001b[0;34m(\u001b[0m\u001b[0;34m'The submit button for the assignment is in the unlocker notebook'\u001b[0m\u001b[0;34m)\u001b[0m\u001b[0;34m\u001b[0m\u001b[0m\n",
      "\u001b[0;31mNameError\u001b[0m: name 'report' is not defined"
     ]
    }
   ],
   "source": [
    "report(Author, Collaborators)\n",
    "print('The submit button for the assignment is in the unlocker notebook')"
   ]
  },
  {
   "cell_type": "markdown",
   "metadata": {
    "editable": false
   },
   "source": [
    "## Close this notebook and then go back to the AssignmentUnlocker\n",
    "<img src=\"closeAndHalt.png\" width=\"300\" style=\"float: right\" />\n",
    "\n",
    "Before going back to the AssignmentUnlocker and submit your work, you'll need to go close this\n",
    "notebook (menu <font color='green'>File</font>-><font color='green'>Close and Halt</font>.)\n",
    "\n",
    "\n",
    "Note that if you actually saved your work you should not see the leaving site message below.\n",
    "If you do see the `Leave Site` warning, cancel and save your work again.\n",
    "<br />\n",
    "<img src=\"leaveSite.png\" width=\"300\" style=\"float: left\" />"
   ]
  },
  {
   "cell_type": "code",
   "execution_count": null,
   "metadata": {},
   "outputs": [],
   "source": [
    "#Q4"
   ]
  },
  {
   "cell_type": "code",
   "execution_count": 9,
   "metadata": {},
   "outputs": [
    {
     "name": "stdout",
     "output_type": "stream",
     "text": [
      "Complaints that happened every day ['Blocked Driveway', 'Derelict Vehicle', 'Illegal Parking', 'Noise - Commercial', 'Noise - Street/Sidewalk', 'Noise - Vehicle', 'Traffic', 'Vending']\n"
     ]
    }
   ],
   "source": [
    "def compaintsEachDay(times, requests, locations, coordinates):\n",
    "    \n",
    "    ndays = times[-1,0] + 1\n",
    "    \n",
    "    reqs = []\n",
    "    for i in range(ndays): \n",
    "        reqs.append(set())\n",
    "        \n",
    "\n",
    "    for i in range(len(times)):\n",
    "        complaint = requests[i,0]\n",
    "        d = times[i,0]\n",
    "        reqs[d].add(complaint)\n",
    "        \n",
    "    return sorted(set.intersection(*reqs))\n",
    "    #End\n",
    "\n",
    "print('Complaints that happened every day', compaintsEachDay(Times, Requests, Locations, Coordinates))"
   ]
  },
  {
   "cell_type": "code",
   "execution_count": null,
   "metadata": {},
   "outputs": [],
   "source": [
    "#Q5"
   ]
  },
  {
   "cell_type": "code",
   "execution_count": 11,
   "metadata": {},
   "outputs": [
    {
     "name": "stdout",
     "output_type": "stream",
     "text": [
      "Most requests happened on day 13 hour 23\n"
     ]
    }
   ],
   "source": [
    "def dayHourTime(times, requests, locations, coordinates):\n",
    "  \n",
    " \n",
    "    rph = np.bincount(times[:,0]*24 + times[:,1])\n",
    "    #print(rph)\n",
    "    i = np.argmax(rph)\n",
    "    return np.array([i//24, i%24])\n",
    "    #End\n",
    "\n",
    "A5 = dayHourTime(Times, Requests, Locations, Coordinates)\n",
    "print('Most requests happened on day', A5[0], 'hour', A5[1])"
   ]
  },
  {
   "cell_type": "code",
   "execution_count": null,
   "metadata": {},
   "outputs": [],
   "source": [
    "#Q6"
   ]
  },
  {
   "cell_type": "code",
   "execution_count": 12,
   "metadata": {},
   "outputs": [
    {
     "name": "stdout",
     "output_type": "stream",
     "text": [
      "Party city is New York\n"
     ]
    }
   ],
   "source": [
    "def whichCity(complaint, times, requests, locations, coordinates):\n",
    "\n",
    "    isDescriptor = requests[:,1] == complaint\n",
    "    counts = {}\n",
    "    for city in locations[isDescriptor, 0]:\n",
    "        counts[city] = counts.get(city,0) + 1\n",
    "    most = 0\n",
    "    for city, count in counts.items():\n",
    "        if count > most:\n",
    "            most = count\n",
    "            A6 = city\n",
    "    return A6\n",
    "    #End\n",
    "    \n",
    "Descriptor = 'Loud Music/Party'\n",
    "print('Party city is', whichCity(Descriptor, Times, Requests, Locations, Coordinates))"
   ]
  },
  {
   "cell_type": "code",
   "execution_count": 13,
   "metadata": {},
   "outputs": [],
   "source": [
    "#Q9"
   ]
  },
  {
   "cell_type": "code",
   "execution_count": 15,
   "metadata": {},
   "outputs": [
    {
     "name": "stdout",
     "output_type": "stream",
     "text": [
      "[33 45 23  8 10  4  2  3  3  9  3 12  9 18 14 22 19 15 13 14 17 17 43 55\n",
      " 59 53 22 21  9  6  1  0  1  6  4  8  9 15 22 11  5  7 12  7 11 12 15 18\n",
      " 14 17  9  3  4  0  3  4  3  4  2  3  1  3  0  3  4  3  5  9  7 10 14 17\n",
      " 13  8  5  1  0  1  0  3  3  6  5  1  5  3  3  2  3  5  5  6  5 16 17 16\n",
      " 17 16  6  2  2  1  3  1  5  2  6  5  2  1  3  7  4  5  4  6  7 10 14 14\n",
      " 13 19  6  1  5  3  2  0  4  2  0  1  0  3  1  3  2  5  8  6  3 16 25 29\n",
      " 24 24  7  3  3  1  3  0  1  2  1  3  4  3  1  2  0  0  3  0  0  0  0  5\n",
      "  1  2  0  1  0  0  0  0  0  0  1  2  0  0  0  3  5  6  5 10 12 17 28 38\n",
      " 44 40 26 11 14  7  6  3  1  3  4  5  4  9  9  8 10 17 18 16 10  9 28 20\n",
      " 21 10  9  8  4  0  3  1  3  4  5  6  5  4  3  6  3  6  3 11 11  9 20 26\n",
      " 17  8  5  3  1  2  3 11 10  6  3  3  4  4  4  3  3  3  4  7  6 13 21 18\n",
      " 17 10  4  2  2  0  1  1  2  6  6  6  2  5  2  4  4  3  1 10 22 11 16 33\n",
      " 30 15  9  3  3  5  3  2  7  1  3  0  9  1  3  7  9  4  6 13  8 15 20 31\n",
      " 22 14 14  7  3  1  3  0  2  2  2  4  3  6  9  1  9 10  6 13 16 21 48 58\n",
      " 50 42 28 16 17  5 11  5  2  7  3  8  9 11  7 10  9 11 14 11  7 19 40 37\n",
      " 49 40 27 16 15  4  3  2  5  1  2  3  2 13 13  9  8 12 10  7 16 16 25 18\n",
      " 18 17  5  1  2  1  1  1  2  0  5  4  2  1  5  7  3  2  9  7  8  6 21 21\n",
      " 14  7  5  1  2  2  0  0  2  3  3  7  4  5  2  4  8  2  5  4  5 11 10 15\n",
      " 24  6  6  4  3  2  4  4  3  2  3  1  4  2  2  4  3  4  5 10  4 16 21 18\n",
      " 16 11  4  2  4  4  1  1  3  3  0  2  7  1  2  3  3  3  4  6  6  7 12 17\n",
      "  8 16  8  2  3  1  1  2  1  2  4  3  3  3  4  3  8  4  2  4 14  8 25 24\n",
      " 42 27 21 11  5  4  0  1  1  5  6  8  0  8  8  6 14  9 11 10 11 16 31 54\n",
      " 43 35 31 17  7  8  2  2  5  1  0  2  2  8  4  5  9  3  6 10 11  9 18 24\n",
      " 10 14  4  5  6  0  0  2  3  0  2  0  4  2  6  4  5  2  4  7  5 10  9 22\n",
      " 10  2  2  3  3  4  1  0  2  4  1  0  2  3  1  2  5  3  1  5  3  7 13 13\n",
      "  4 11  5  5  4  1  3  2  4  3  2  2  6  1  1 11  5  3 10  9  7 12 25 24]\n",
      "Longest run of quiet is 6 hours.\n"
     ]
    }
   ],
   "source": [
    "def longestTimeWithNoRequests(word, times, requests, locations, coordinates):\n",
    "\n",
    "    boolean = []\n",
    "    for complaint in requests[:,0]:\n",
    "        if word in complaint: \n",
    "            boolean.append(True)\n",
    "        else: \n",
    "            boolean.append(False)\n",
    "                       \n",
    "    \n",
    "    longest_run = 0\n",
    "\n",
    "    lrph = np.bincount(times[boolean,0]*24 + times[boolean,1])\n",
    "    print(lrph)\n",
    "\n",
    "    run = 0\n",
    "    for l in lrph:\n",
    "        if l == 0:\n",
    "            run += 1\n",
    "            if run > longest_run:\n",
    "                longest_run = run\n",
    "        else:\n",
    "            run = 0\n",
    "    return longest_run\n",
    "\n",
    "\n",
    "Word = 'Noise'\n",
    "print('Longest run of quiet is', longestTimeWithNoRequests(Word, Times, Requests, Locations, Coordinates), 'hours.')"
   ]
  },
  {
   "cell_type": "code",
   "execution_count": 16,
   "metadata": {},
   "outputs": [
    {
     "name": "stdout",
     "output_type": "stream",
     "text": [
      "[280 234 325 252 270 810 830]\n",
      "[4. 4. 4. 3. 3. 4. 4.]\n",
      "Average parties each day of the week is [ 70.    58.5   81.25  84.    90.   202.5  207.5 ]\n"
     ]
    }
   ],
   "source": [
    "def averageNumberPartiesEachDayOfWeek(descriptor, times, requests, locations, coordinates):\n",
    "\n",
    "\n",
    "    isLoud = requests[:,1] == descriptor\n",
    "    \n",
    "    dailyevents = np.bincount(times[isLoud,2])\n",
    "    print(dailyevents)\n",
    "    \n",
    "    # \n",
    "    ndays = np.zeros(7)\n",
    "    for d in range(len(ndays)): \n",
    "        ndays[d] = len(set(times[times[:,2]==d, 0]))\n",
    "        # we want to loop through each day of the week \n",
    "        #and our day of the week corresponds to the zeros in ndays \n",
    "        # we care about the number of days so now we want to reflect back on the first column\n",
    "        # which has each individual day in there \n",
    "        \n",
    "    #ndays = np.bincount(np.unique(times[:,2]))\n",
    "    print(ndays)\n",
    "    # print(dailyevents)\n",
    "    # print(ndays)\n",
    "    A10 = dailyevents / ndays\n",
    "    return A10\n",
    "  \n",
    "\n",
    "Descriptor = 'Loud Music/Party'\n",
    "print('Average parties each day of the week is', \n",
    "      averageNumberPartiesEachDayOfWeek(Descriptor, Times, Requests, Locations, Coordinates))"
   ]
  },
  {
   "cell_type": "code",
   "execution_count": null,
   "metadata": {},
   "outputs": [],
   "source": []
  }
 ],
 "metadata": {
  "kernelspec": {
   "display_name": "Python 3",
   "language": "python",
   "name": "python3"
  }
 },
 "nbformat": 4,
 "nbformat_minor": 1
}
