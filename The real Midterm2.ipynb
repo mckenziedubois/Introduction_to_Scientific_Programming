{
 "cells": [
  {
   "cell_type": "markdown",
   "metadata": {
    "editable": false
   },
   "source": [
    "<img src=\"https://comp116sp19.cs.unc.edu/images/COMP116Logo.png\" style=\"display:inline; width:200px\" />\n",
    "\n",
    "# Midterm 2 for Section 1\n",
    "\n",
    "**Don't Panic!**\n",
    "\n",
    "You **may not use the Internet** for anything except retrieving and submitting your exam. Any other use will be a violation of the Honor Code. \n",
    "\n",
    "You **must turn off wireless on your laptop** while you take the exam.\n",
    "\n",
    "You **may use** any resources that you have stored locally on your computer and one 8\" X 10\" paper note.\n",
    "\n",
    "Of course you **may not** use phones, friends, etc.\n",
    "\n",
    "**Submitting your exam:**\n",
    "  * Turn on wireless before you hit the submit button.\n",
    "  * You must submit your exam notebook before you leave the room.\n",
    "  * You must use a valid submit code or you will not get any credit for the submission.\n",
    "  * You will get a positive acknowledgement that submission was successful.\n",
    "  * You can check your [report](https://comp116sp19.cs.unc.edu/io/report/report.cgi) to see that\n",
    "  the submission was successful.\n",
    "\n",
    "\n",
    "\n",
    "\n",
    "## Setup\n",
    "\n",
    "The following code sets up the environment.\n",
    "You cannot and should not update the following cell."
   ]
  },
  {
   "cell_type": "code",
   "execution_count": 1,
   "metadata": {
    "editable": false
   },
   "outputs": [
    {
     "data": {
      "application/javascript": [
       "IPython.notebook.set_autosave_interval(15000)"
      ]
     },
     "metadata": {},
     "output_type": "display_data"
    },
    {
     "name": "stdout",
     "output_type": "stream",
     "text": [
      "Autosaving every 15 seconds\n"
     ]
    }
   ],
   "source": [
    "# Save your work every 15 seconds\n",
    "%autosave 15\n",
    "\n",
    "# imports needed for setup\n",
    "import comp116\n",
    "import numpy as np\n",
    "import pickle\n",
    "check, report = comp116.start('Midterm2')\n",
    "\n",
    "with open('Midterm2.data.pickle', 'rb') as fid:\n",
    "    classroom, hourlyDepth, siteNames, SELECTED_SITE_NAME = pickle.load(fid)\n",
    "\n",
    "# Protect you, as best I can, from accidentally modifying test data\n",
    "classroom.flags.writeable = False \n",
    "hourlyDepth.flags.writeable = False\n",
    "siteNames.flags.writeable = False"
   ]
  },
  {
   "cell_type": "markdown",
   "metadata": {
    "editable": false
   },
   "source": [
    "### Your Onyen, Section, Seat, and Pledge\n",
    "\n",
    "#### Your Onyen\n",
    "On this and all submissions, it's important to put your Onyen on it.\n",
    "\n",
    "#### Section and seat\n",
    "\n",
    "Please enter your section and seat to ensure you are taking the test that the system thinks you should be taking."
   ]
  },
  {
   "cell_type": "code",
   "execution_count": 2,
   "metadata": {},
   "outputs": [],
   "source": [
    "# Put your onyen between the quotes\n",
    "Onyen = 'mdubois6' # UPDATE THIS LINE WITH YOUR CODE\n",
    "\n",
    "# If you are in the 12:30 T/TH class, set Section='1'\n",
    "# If you are in the 2:00 T/TH class, set Section='2'\n",
    "Section = '1' # UPDATE THIS LINE WITH YOUR CODE\n",
    "\n",
    "# Your seat number should agree with attendance/Seating\n",
    "Seat = 'R-101' # UPDATE THIS LINE WITH YOUR CODE"
   ]
  },
  {
   "cell_type": "code",
   "execution_count": 3,
   "metadata": {
    "editable": false
   },
   "outputs": [
    {
     "name": "stdout",
     "output_type": "stream",
     "text": [
      "Q0 Onyen appears correct\n",
      "[['1' 'mdubois6' 'R-101']]\n",
      "Q0 Section appears correct\n",
      "Q0 Seat appears correct\n"
     ]
    }
   ],
   "source": [
    "check('Q0 Onyen', Onyen.lower() in classroom[:, 1], points=1)\n",
    "your_info = classroom[ classroom[:, 1] == Onyen ]\n",
    "print(your_info)\n",
    "if len(your_info) == 0:\n",
    "    print('You need to enter a valid Onyen!!!!')\n",
    "    your_info = np.array([[0, 0, 0]])\n",
    "check('Q0 Section', your_info[0,0] == Section, points=1)\n",
    "check('Q0 Seat', your_info[0,2] == Seat, points=1)"
   ]
  },
  {
   "cell_type": "markdown",
   "metadata": {
    "editable": false
   },
   "source": [
    "#### Honor Pledge\n",
    "\n",
    "I certify that **no unauthorized assistance** has been received or given in the completion of this work. \n",
    "\n",
    "Enter your full name as the value of the Pledge variable below.\n",
    "\n",
    "**If you do not fill this in, you will receive a zero!**"
   ]
  },
  {
   "cell_type": "code",
   "execution_count": 4,
   "metadata": {},
   "outputs": [],
   "source": [
    "Pledge = 'McKenzie DuBois' # UPDATE THIS LINE WITH YOUR CODE"
   ]
  },
  {
   "cell_type": "code",
   "execution_count": 5,
   "metadata": {
    "editable": false
   },
   "outputs": [
    {
     "name": "stdout",
     "output_type": "stream",
     "text": [
      "Q0 Pledge appears correct\n"
     ]
    }
   ],
   "source": [
    "check('Q0 Pledge', Pledge != '', points=1)"
   ]
  },
  {
   "cell_type": "markdown",
   "metadata": {
    "editable": false
   },
   "source": [
    "## Partial Credit\n",
    "\n",
    "I understand that to receive **any** partial credit,\n",
    "I must resubmit this exam within one week of the exam date with no syntax errors and\n",
    "all questions correctly answered (score of 100%)."
   ]
  },
  {
   "cell_type": "code",
   "execution_count": 6,
   "metadata": {},
   "outputs": [],
   "source": [
    "I_understand_how_partial_credit_works = 'Yes'  ## Change this value to Yes"
   ]
  },
  {
   "cell_type": "code",
   "execution_count": 7,
   "metadata": {
    "editable": false
   },
   "outputs": [
    {
     "name": "stdout",
     "output_type": "stream",
     "text": [
      "Q0 I understand how partial credit works appears correct\n"
     ]
    }
   ],
   "source": [
    "check('Q0 I understand how partial credit works', I_understand_how_partial_credit_works != 'No', points=1)"
   ]
  },
  {
   "cell_type": "markdown",
   "metadata": {
    "editable": false
   },
   "source": [
    "<img src=\"https://comp116sp19.cs.unc.edu/images/USGSLogo.png\" style=\"float:right; width:100px\" />\n",
    "\n",
    "## Data\n",
    "\n",
    "The non-string data, `hourlyDepth`, for this exam will be river gage height from the Cape Fear river and the tributaries of it.\n",
    "The data comes from the US Geological Survey which monitors rivers in the United States.\n",
    "I have taken the liberty of slightly modifing the actual data for your exam and the grader.\n",
    "\n",
    "The columns are the station names which are in variable `siteNames` and the rows are the hourly readings.\n",
    "You should not assume that the number of columns in the data used on your computer and that used by the grader are the same.\n",
    "The data within the matrix should also not be assumed to be the same between your computer and the grader.\n",
    "\n",
    "In other words, if asked for the number of columns and you _simply count_ the number of columns of the data used on your computer\n",
    "the grader will grade it incorrect as it will be using different data.\n",
    "You **MUST** calculate things programatically using Python functions.\n",
    "\n",
    "The data for Midterm 2 `hourlyDepth` and `siteNames` will be used for questions 1 through 4.\n",
    "Question 5 will use different data but similar variables.\n",
    "\n",
    "The first twelve hours of data are:\n"
   ]
  },
  {
   "cell_type": "code",
   "execution_count": 8,
   "metadata": {
    "editable": false
   },
   "outputs": [
    {
     "name": "stdout",
     "output_type": "stream",
     "text": [
      "Cape Fear river depth from Haw River/Deep River/Buckhorn Creek to sound.\n"
     ]
    },
    {
     "data": {
      "text/html": [
       "<table border=\"1\" class=\"dataframe\">\n",
       "  <thead>\n",
       "    <tr>\n",
       "      <th></th>\n",
       "      <th>DEEP RIVER AT MONCURE, NC</th>\n",
       "      <th>HAW RIVER NEAR MONCURE, NC</th>\n",
       "      <th>BUCKHORN CREEK NR CORINTH, NC</th>\n",
       "      <th>CAPE FEAR RIVER AT LILLINGTON, NC</th>\n",
       "      <th>CAPE FEAR R AT WILM O HUSKE LOCK NR TARHEEL, NC</th>\n",
       "      <th>CAPE FEAR R AT LOCK #1 NR KELLY, NC</th>\n",
       "    </tr>\n",
       "  </thead>\n",
       "  <tbody>\n",
       "    <tr>\n",
       "      <th>0</th>\n",
       "      <td>2.94</td>\n",
       "      <td>3.52</td>\n",
       "      <td>2.63</td>\n",
       "      <td>4.87</td>\n",
       "      <td>5.87</td>\n",
       "      <td>19.32</td>\n",
       "    </tr>\n",
       "    <tr>\n",
       "      <th>1</th>\n",
       "      <td>2.93</td>\n",
       "      <td>3.52</td>\n",
       "      <td>2.63</td>\n",
       "      <td>4.72</td>\n",
       "      <td>5.83</td>\n",
       "      <td>19.32</td>\n",
       "    </tr>\n",
       "    <tr>\n",
       "      <th>2</th>\n",
       "      <td>2.92</td>\n",
       "      <td>3.50</td>\n",
       "      <td>2.63</td>\n",
       "      <td>4.60</td>\n",
       "      <td>5.79</td>\n",
       "      <td>19.31</td>\n",
       "    </tr>\n",
       "    <tr>\n",
       "      <th>3</th>\n",
       "      <td>2.91</td>\n",
       "      <td>3.50</td>\n",
       "      <td>2.63</td>\n",
       "      <td>4.51</td>\n",
       "      <td>5.74</td>\n",
       "      <td>19.30</td>\n",
       "    </tr>\n",
       "    <tr>\n",
       "      <th>4</th>\n",
       "      <td>2.91</td>\n",
       "      <td>3.50</td>\n",
       "      <td>2.62</td>\n",
       "      <td>4.45</td>\n",
       "      <td>5.69</td>\n",
       "      <td>19.30</td>\n",
       "    </tr>\n",
       "    <tr>\n",
       "      <th>5</th>\n",
       "      <td>2.90</td>\n",
       "      <td>3.48</td>\n",
       "      <td>2.61</td>\n",
       "      <td>4.40</td>\n",
       "      <td>5.63</td>\n",
       "      <td>19.29</td>\n",
       "    </tr>\n",
       "    <tr>\n",
       "      <th>6</th>\n",
       "      <td>2.89</td>\n",
       "      <td>3.48</td>\n",
       "      <td>2.61</td>\n",
       "      <td>4.37</td>\n",
       "      <td>5.57</td>\n",
       "      <td>19.28</td>\n",
       "    </tr>\n",
       "    <tr>\n",
       "      <th>7</th>\n",
       "      <td>2.88</td>\n",
       "      <td>3.48</td>\n",
       "      <td>2.61</td>\n",
       "      <td>4.34</td>\n",
       "      <td>5.50</td>\n",
       "      <td>19.28</td>\n",
       "    </tr>\n",
       "    <tr>\n",
       "      <th>8</th>\n",
       "      <td>2.87</td>\n",
       "      <td>3.48</td>\n",
       "      <td>2.61</td>\n",
       "      <td>4.32</td>\n",
       "      <td>5.44</td>\n",
       "      <td>19.26</td>\n",
       "    </tr>\n",
       "    <tr>\n",
       "      <th>9</th>\n",
       "      <td>2.86</td>\n",
       "      <td>3.47</td>\n",
       "      <td>2.61</td>\n",
       "      <td>4.30</td>\n",
       "      <td>5.35</td>\n",
       "      <td>19.25</td>\n",
       "    </tr>\n",
       "    <tr>\n",
       "      <th>10</th>\n",
       "      <td>2.86</td>\n",
       "      <td>3.47</td>\n",
       "      <td>2.61</td>\n",
       "      <td>4.29</td>\n",
       "      <td>5.28</td>\n",
       "      <td>19.24</td>\n",
       "    </tr>\n",
       "    <tr>\n",
       "      <th>11</th>\n",
       "      <td>2.85</td>\n",
       "      <td>3.46</td>\n",
       "      <td>2.61</td>\n",
       "      <td>4.27</td>\n",
       "      <td>5.20</td>\n",
       "      <td>19.22</td>\n",
       "    </tr>\n",
       "  </tbody>\n",
       "</table>"
      ],
      "text/plain": [
       "<IPython.core.display.HTML object>"
      ]
     },
     "metadata": {},
     "output_type": "display_data"
    }
   ],
   "source": [
    "print('Cape Fear river depth from Haw River/Deep River/Buckhorn Creek to sound.')\n",
    "comp116.array_to_html(hourlyDepth[:12, :], col_names=[siteNames])"
   ]
  },
  {
   "cell_type": "markdown",
   "metadata": {
    "editable": false
   },
   "source": [
    "# Questions\n",
    "\n",
    "## Q1 minimum river hights\n",
    "\n",
    "Find the minimum river heights in `hourlyDepth` that correspond to column in `SELECTED_SITE_NAME`."
   ]
  },
  {
   "cell_type": "code",
   "execution_count": 9,
   "metadata": {},
   "outputs": [
    {
     "name": "stdout",
     "output_type": "stream",
     "text": [
      "The minimum value of HAW RIVER NEAR MONCURE, NC is 2.49\n"
     ]
    }
   ],
   "source": [
    "def getMinimumRiverHeights( depths, column_names, selected_name):\n",
    "    '''\n",
    "    Given a NumPy two dimensional array `depths` that has as many columns as names in `columns_names`,\n",
    "    and given a `selected_name` that is in `column_names`... determine the minimum of the column\n",
    "    of depths that corresponds to selected_name\n",
    "    '''\n",
    "    return np.min(depths[:,column_names == selected_name])\n",
    "\n",
    "print ('The minimum value of', SELECTED_SITE_NAME, 'is', \n",
    "getMinimumRiverHeights(hourlyDepth, siteNames, SELECTED_SITE_NAME))\n",
    "                                    \n",
    "                                    \n",
    "                                    "
   ]
  },
  {
   "cell_type": "code",
   "execution_count": 10,
   "metadata": {
    "editable": false
   },
   "outputs": [
    {
     "name": "stdout",
     "output_type": "stream",
     "text": [
      "Q1 minimum appears correct\n"
     ]
    }
   ],
   "source": [
    "comp116.check_function('Q1 minimum', getMinimumRiverHeights, hourlyDepth, siteNames, SELECTED_SITE_NAME, points=15)"
   ]
  },
  {
   "cell_type": "markdown",
   "metadata": {
    "editable": false
   },
   "source": [
    "## Q2 Unique words in `siteNames`\n",
    "\n",
    "`siteNames` is a list of names that are each composed of blank separated words.\n",
    " 1. Use the character string split method to break each siteNames and \n",
    " 2. Create a list of all the unique words in `siteNames`.\n",
    "\n",
    "\n",
    "**Note:** `'hello cruel world'.split()` returns `['hello', 'cruel', 'world']` "
   ]
  },
  {
   "cell_type": "code",
   "execution_count": 11,
   "metadata": {},
   "outputs": [
    {
     "name": "stdout",
     "output_type": "stream",
     "text": [
      "The unique words in siteNames are ['#1', 'AT', 'BUCKHORN', 'CAPE', 'CORINTH,', 'CREEK', 'DEEP', 'FEAR', 'HAW', 'HUSKE', 'KELLY,', 'LILLINGTON,', 'LOCK', 'MONCURE,', 'NC', 'NEAR', 'NR', 'O', 'R', 'RIVER', 'TARHEEL,', 'WILM']\n"
     ]
    }
   ],
   "source": [
    "def uniqueSiteWords( names ):\n",
    "    '''\n",
    "    Given a parameter names that is a Python list, return the unique words in the list.\n",
    "    '''\n",
    "    unique_word_list = []\n",
    "    for line in ( names ): \n",
    "        for word in line.split():        \n",
    "            if word not in unique_word_list: \n",
    "                unique_word_list.append(word)\n",
    "    return sorted(unique_word_list)\n",
    "\n",
    "print('The unique words in siteNames are', uniqueSiteWords(siteNames))\n"
   ]
  },
  {
   "cell_type": "code",
   "execution_count": 12,
   "metadata": {
    "editable": false,
    "scrolled": true
   },
   "outputs": [
    {
     "name": "stdout",
     "output_type": "stream",
     "text": [
      "Q2 unique site words appears correct\n"
     ]
    }
   ],
   "source": [
    "comp116.check_function('Q2 unique site words', uniqueSiteWords, siteNames, points=15)"
   ]
  },
  {
   "cell_type": "markdown",
   "metadata": {
    "editable": false
   },
   "source": [
    "## Q3 Maximum sites with the string ' AT ' contained in it.\n",
    "\n",
    "`hourlyDepth` has as many columns as `siteNames` has elements.\n",
    "Some `siteNames` elements contain the string `' AT '`.\n",
    "\n",
    "For each column that correspond to `siteNames` that have `' AT '` find the maximum value.\n",
    "You are **NOT** finding a single maximum value but the maximum value for each column that corresponds\n",
    "to `siteNames` elements that have `' AT '` in it.\n",
    "\n",
    "**NOTE:** It is not possible to use NumPy booleans to determine which `siteNames` have `' AT '` in them.\n",
    "\n",
    "**NOTE:** For example, if `' AT ' in siteNames[0]` is True, find the maximum value in `hourlyDepth` column zero.\n",
    "Find the maximum for all such columns that have the string `' AT '` in `siteNames`."
   ]
  },
  {
   "cell_type": "code",
   "execution_count": 13,
   "metadata": {},
   "outputs": [
    {
     "data": {
      "text/plain": [
       "range(0, 4)"
      ]
     },
     "execution_count": 13,
     "metadata": {},
     "output_type": "execute_result"
    }
   ],
   "source": [
    "range(4)"
   ]
  },
  {
   "cell_type": "code",
   "execution_count": 24,
   "metadata": {},
   "outputs": [
    {
     "name": "stdout",
     "output_type": "stream",
     "text": [
      "The maximum values of sites with ' AT ' in it are [8.93, 12.46, 16.86, 21.08]\n",
      "The site names with ' AT ' in it are ['DEEP RIVER AT MONCURE, NC', 'CAPE FEAR RIVER AT LILLINGTON, NC', 'CAPE FEAR R AT WILM O HUSKE LOCK NR TARHEEL, NC', 'CAPE FEAR R AT LOCK #1 NR KELLY, NC']\n"
     ]
    }
   ],
   "source": [
    "def maximumLevelSitesWithString( names, string, depths ):\n",
    "    '''\n",
    "    Given an array of `names`, for the names that contain `string`, \n",
    "    return the maximum values of each of the corresponding columns in depths along \n",
    "    with the names that contain `string`.\n",
    "    \n",
    "    For example, if `names[0]` is 'DEEP RIVER AT MONCURE, NC' and string is\n",
    "    ' AT ', then calculate the maximum for the zeroth column.  But if for\n",
    "    example, `names[1]` is 'HAW RIVER NEAR MONCURE, NC' and string is\n",
    "    ' AT ', then do NOT calculate the maximum for the first column because\n",
    "    the `names[1]` does not contain the string `' AT '`.\n",
    "    \n",
    "    The returned maximum values and names should appear in the same relative order\n",
    "    as their columns.   For example, if `names[0]` and `names[3]` are returned, \n",
    "    then `names[0]` should be in the returned array prior to `names[3]`.\n",
    "    '''\n",
    "    maximum_values = []\n",
    "    list_of_names = []\n",
    "\n",
    "    for indx in range(len(names)):\n",
    "        if string in names[indx]:\n",
    "            maximum_values.append(np.max(depths,axis =0)[indx])\n",
    "            list_of_names.append(names[indx])\n",
    "    return maximum_values, list_of_names\n",
    "    \n",
    "AT_STRING = ' AT '\n",
    "maxs, names = maximumLevelSitesWithString(siteNames, AT_STRING, hourlyDepth)\n",
    "print(\"The maximum values of sites with ' AT ' in it are\", maxs)\n",
    "print(\"The site names with ' AT ' in it are\", names)"
   ]
  },
  {
   "cell_type": "code",
   "execution_count": 15,
   "metadata": {
    "editable": false,
    "scrolled": true
   },
   "outputs": [
    {
     "name": "stdout",
     "output_type": "stream",
     "text": [
      "Q3 max levels appears correct\n",
      "Q3 maxs appears correct\n",
      "Q3 names appears correct\n"
     ]
    }
   ],
   "source": [
    "comp116.check_function('Q3 max levels', maximumLevelSitesWithString, siteNames, AT_STRING, hourlyDepth, points=10)\n",
    "CAPE_FEAR_STRING = 'CAPE FEAR'\n",
    "maxs, names = maximumLevelSitesWithString(siteNames, CAPE_FEAR_STRING, hourlyDepth)\n",
    "check('Q3 maxs', maxs, points=5)\n",
    "check('Q3 names', names, points=5)"
   ]
  },
  {
   "cell_type": "markdown",
   "metadata": {
    "editable": false
   },
   "source": [
    "## Q4 Which site had the most decreases in river height\n"
   ]
  },
  {
   "cell_type": "markdown",
   "metadata": {
    "editable": false
   },
   "source": [
    "### Q4.1 For a column, determine greatest number of descreases and their index"
   ]
  },
  {
   "cell_type": "code",
   "execution_count": 28,
   "metadata": {},
   "outputs": [
    {
     "name": "stdout",
     "output_type": "stream",
     "text": [
      "The number of consecutive decreases for column 0 are 111 and ends at index 643\n"
     ]
    },
    {
     "data": {
      "text/html": [
       "<table border=\"1\" class=\"dataframe\">\n",
       "  <thead>\n",
       "    <tr style=\"text-align: right;\">\n",
       "      <th></th>\n",
       "      <th>0</th>\n",
       "      <th>1</th>\n",
       "      <th>2</th>\n",
       "      <th>3</th>\n",
       "      <th>4</th>\n",
       "      <th>5</th>\n",
       "      <th>6</th>\n",
       "      <th>7</th>\n",
       "      <th>8</th>\n",
       "      <th>9</th>\n",
       "      <th>10</th>\n",
       "      <th>11</th>\n",
       "      <th>12</th>\n",
       "      <th>13</th>\n",
       "      <th>14</th>\n",
       "      <th>15</th>\n",
       "      <th>16</th>\n",
       "      <th>17</th>\n",
       "      <th>18</th>\n",
       "      <th>19</th>\n",
       "      <th>20</th>\n",
       "      <th>21</th>\n",
       "      <th>22</th>\n",
       "      <th>23</th>\n",
       "      <th>24</th>\n",
       "      <th>25</th>\n",
       "      <th>26</th>\n",
       "      <th>27</th>\n",
       "      <th>28</th>\n",
       "      <th>29</th>\n",
       "      <th>30</th>\n",
       "      <th>31</th>\n",
       "      <th>32</th>\n",
       "      <th>33</th>\n",
       "      <th>34</th>\n",
       "      <th>35</th>\n",
       "      <th>36</th>\n",
       "      <th>37</th>\n",
       "      <th>38</th>\n",
       "      <th>39</th>\n",
       "      <th>40</th>\n",
       "      <th>41</th>\n",
       "      <th>42</th>\n",
       "      <th>43</th>\n",
       "      <th>44</th>\n",
       "      <th>45</th>\n",
       "      <th>46</th>\n",
       "      <th>47</th>\n",
       "      <th>48</th>\n",
       "      <th>49</th>\n",
       "      <th>50</th>\n",
       "      <th>51</th>\n",
       "      <th>52</th>\n",
       "      <th>53</th>\n",
       "      <th>54</th>\n",
       "      <th>55</th>\n",
       "      <th>56</th>\n",
       "      <th>57</th>\n",
       "      <th>58</th>\n",
       "      <th>59</th>\n",
       "      <th>60</th>\n",
       "      <th>61</th>\n",
       "      <th>62</th>\n",
       "      <th>63</th>\n",
       "      <th>64</th>\n",
       "      <th>65</th>\n",
       "      <th>66</th>\n",
       "      <th>67</th>\n",
       "      <th>68</th>\n",
       "      <th>69</th>\n",
       "      <th>70</th>\n",
       "      <th>71</th>\n",
       "      <th>72</th>\n",
       "      <th>73</th>\n",
       "      <th>74</th>\n",
       "      <th>75</th>\n",
       "      <th>76</th>\n",
       "      <th>77</th>\n",
       "      <th>78</th>\n",
       "      <th>79</th>\n",
       "      <th>80</th>\n",
       "      <th>81</th>\n",
       "      <th>82</th>\n",
       "      <th>83</th>\n",
       "      <th>84</th>\n",
       "      <th>85</th>\n",
       "      <th>86</th>\n",
       "      <th>87</th>\n",
       "      <th>88</th>\n",
       "      <th>89</th>\n",
       "      <th>90</th>\n",
       "      <th>91</th>\n",
       "      <th>92</th>\n",
       "      <th>93</th>\n",
       "      <th>94</th>\n",
       "      <th>95</th>\n",
       "      <th>96</th>\n",
       "      <th>97</th>\n",
       "      <th>98</th>\n",
       "      <th>99</th>\n",
       "      <th>100</th>\n",
       "      <th>101</th>\n",
       "      <th>102</th>\n",
       "      <th>103</th>\n",
       "      <th>104</th>\n",
       "      <th>105</th>\n",
       "      <th>106</th>\n",
       "      <th>107</th>\n",
       "      <th>108</th>\n",
       "      <th>109</th>\n",
       "      <th>110</th>\n",
       "    </tr>\n",
       "  </thead>\n",
       "  <tbody>\n",
       "    <tr>\n",
       "      <th>0</th>\n",
       "      <td>8.93</td>\n",
       "      <td>8.91</td>\n",
       "      <td>8.85</td>\n",
       "      <td>8.76</td>\n",
       "      <td>8.65</td>\n",
       "      <td>8.53</td>\n",
       "      <td>8.43</td>\n",
       "      <td>8.33</td>\n",
       "      <td>8.25</td>\n",
       "      <td>8.18</td>\n",
       "      <td>8.12</td>\n",
       "      <td>8.08</td>\n",
       "      <td>8.04</td>\n",
       "      <td>8.01</td>\n",
       "      <td>7.99</td>\n",
       "      <td>7.97</td>\n",
       "      <td>7.96</td>\n",
       "      <td>7.94</td>\n",
       "      <td>7.93</td>\n",
       "      <td>7.92</td>\n",
       "      <td>7.91</td>\n",
       "      <td>7.9</td>\n",
       "      <td>7.89</td>\n",
       "      <td>7.88</td>\n",
       "      <td>7.86</td>\n",
       "      <td>7.85</td>\n",
       "      <td>7.84</td>\n",
       "      <td>7.82</td>\n",
       "      <td>7.81</td>\n",
       "      <td>7.8</td>\n",
       "      <td>7.76</td>\n",
       "      <td>7.74</td>\n",
       "      <td>7.73</td>\n",
       "      <td>7.69</td>\n",
       "      <td>7.66</td>\n",
       "      <td>7.64</td>\n",
       "      <td>7.61</td>\n",
       "      <td>7.58</td>\n",
       "      <td>7.54</td>\n",
       "      <td>7.5</td>\n",
       "      <td>7.45</td>\n",
       "      <td>7.41</td>\n",
       "      <td>7.35</td>\n",
       "      <td>7.29</td>\n",
       "      <td>7.21</td>\n",
       "      <td>7.13</td>\n",
       "      <td>7.05</td>\n",
       "      <td>6.96</td>\n",
       "      <td>6.87</td>\n",
       "      <td>6.77</td>\n",
       "      <td>6.66</td>\n",
       "      <td>6.55</td>\n",
       "      <td>6.43</td>\n",
       "      <td>6.3</td>\n",
       "      <td>6.17</td>\n",
       "      <td>6.04</td>\n",
       "      <td>5.91</td>\n",
       "      <td>5.77</td>\n",
       "      <td>5.64</td>\n",
       "      <td>5.51</td>\n",
       "      <td>5.38</td>\n",
       "      <td>5.26</td>\n",
       "      <td>5.15</td>\n",
       "      <td>5.04</td>\n",
       "      <td>4.93</td>\n",
       "      <td>4.83</td>\n",
       "      <td>4.74</td>\n",
       "      <td>4.65</td>\n",
       "      <td>4.57</td>\n",
       "      <td>4.49</td>\n",
       "      <td>4.43</td>\n",
       "      <td>4.37</td>\n",
       "      <td>4.31</td>\n",
       "      <td>4.26</td>\n",
       "      <td>4.21</td>\n",
       "      <td>4.17</td>\n",
       "      <td>4.13</td>\n",
       "      <td>4.09</td>\n",
       "      <td>4.05</td>\n",
       "      <td>4.02</td>\n",
       "      <td>3.99</td>\n",
       "      <td>3.96</td>\n",
       "      <td>3.93</td>\n",
       "      <td>3.91</td>\n",
       "      <td>3.89</td>\n",
       "      <td>3.87</td>\n",
       "      <td>3.85</td>\n",
       "      <td>3.84</td>\n",
       "      <td>3.82</td>\n",
       "      <td>3.8</td>\n",
       "      <td>3.78</td>\n",
       "      <td>3.76</td>\n",
       "      <td>3.75</td>\n",
       "      <td>3.73</td>\n",
       "      <td>3.72</td>\n",
       "      <td>3.7</td>\n",
       "      <td>3.69</td>\n",
       "      <td>3.68</td>\n",
       "      <td>3.66</td>\n",
       "      <td>3.65</td>\n",
       "      <td>3.63</td>\n",
       "      <td>3.61</td>\n",
       "      <td>3.6</td>\n",
       "      <td>3.58</td>\n",
       "      <td>3.57</td>\n",
       "      <td>3.56</td>\n",
       "      <td>3.55</td>\n",
       "      <td>3.54</td>\n",
       "      <td>3.53</td>\n",
       "      <td>3.52</td>\n",
       "      <td>3.51</td>\n",
       "    </tr>\n",
       "  </tbody>\n",
       "</table>"
      ],
      "text/plain": [
       "<IPython.core.display.HTML object>"
      ]
     },
     "metadata": {},
     "output_type": "display_data"
    }
   ],
   "source": [
    "def countConsecutiveDecreases(depth):\n",
    "    '''\n",
    "    Given a one dimensional array, determine the number of decreases in river height.\n",
    "    \n",
    "    Return the number of longest consecutive decreases in river height and its ending index.  If no\n",
    "    decreases in river height, return the ending index of 0.\n",
    "    '''\n",
    "    longest_run_for_each_column = 0 \n",
    "    ending_index = 0\n",
    "    current_run_length = 0\n",
    "    for row_indx in range(len(depth)-1):\n",
    "        if (np.diff(depth,axis =0)[row_indx]) < 0.0:\n",
    "            current_run_length += 1\n",
    "        else:\n",
    "            current_run_length = 0\n",
    "        if current_run_length > longest_run_for_each_column:\n",
    "            longest_run_for_each_column = current_run_length\n",
    "            ending_index = row_indx+1\n",
    "        \n",
    "    return longest_run_for_each_column, ending_index\n",
    "\n",
    "consecutive_decreases, indx = countConsecutiveDecreases(hourlyDepth[:, 0])\n",
    "print('The number of consecutive decreases for column 0 are',\n",
    "      consecutive_decreases, 'and ends at index', indx)\n",
    "comp116.array_to_html(hourlyDepth[(indx-consecutive_decreases):indx, 0].reshape((1, -1)))\n",
    "\n"
   ]
  },
  {
   "cell_type": "code",
   "execution_count": 17,
   "metadata": {
    "editable": false,
    "scrolled": true
   },
   "outputs": [
    {
     "name": "stdout",
     "output_type": "stream",
     "text": [
      "Q4.1 first column consecutive decreases appears correct\n"
     ]
    }
   ],
   "source": [
    "comp116.check_function('Q4.1 first column consecutive decreases', countConsecutiveDecreases, hourlyDepth[:, 0], points=15)"
   ]
  },
  {
   "cell_type": "markdown",
   "metadata": {
    "editable": false
   },
   "source": [
    "### Q4.2 Which site has the longest length of consecutive river decreases\n",
    "\n",
    "You may want to use the function `countConsecutiveDecreases` from question Q4.1."
   ]
  },
  {
   "cell_type": "code",
   "execution_count": 38,
   "metadata": {},
   "outputs": [
    {
     "name": "stdout",
     "output_type": "stream",
     "text": [
      "Site DEEP RIVER AT MONCURE, NC has the most consecutive decreases of 111\n"
     ]
    }
   ],
   "source": [
    "def siteWithLongestConsecutiveDecreases(depth, names):\n",
    "    '''\n",
    "    For a two dimensional array, determine the site (column) that has the most consecutive river decreases\n",
    "    \n",
    "    Return the site name that has the most consecutive river decrease along with the number of consecutive decreases.\n",
    "    If no consecutive river heights decrease, return None and 0\n",
    "    '''\n",
    "    site_name = None\n",
    "    max_decreases = 0\n",
    "    # PUT YOUR CODE HERE\n",
    "    for indx in range(len(depth[4])):\n",
    "        decreases = countConsecutiveDecreases(depth[:,indx])[0]\n",
    "        #print(decreases)\n",
    "        if decreases > max_decreases:\n",
    "            max_decreases = decreases\n",
    "            site_name = names[indx]\n",
    "        \n",
    "    return site_name, max_decreases\n",
    "\n",
    "    \n",
    "site, max_decreases = siteWithLongestConsecutiveDecreases(hourlyDepth, siteNames)\n",
    "print('Site', site, 'has the most consecutive decreases of', max_decreases )"
   ]
  },
  {
   "cell_type": "code",
   "execution_count": null,
   "metadata": {},
   "outputs": [],
   "source": []
  },
  {
   "cell_type": "code",
   "execution_count": null,
   "metadata": {},
   "outputs": [],
   "source": []
  },
  {
   "cell_type": "code",
   "execution_count": 19,
   "metadata": {
    "editable": false,
    "scrolled": true
   },
   "outputs": [
    {
     "name": "stdout",
     "output_type": "stream",
     "text": [
      "Q4.2 max decreases appears correct\n"
     ]
    }
   ],
   "source": [
    "comp116.check_function('Q4.2 max decreases', siteWithLongestConsecutiveDecreases, hourlyDepth, siteNames, points=10)"
   ]
  },
  {
   "cell_type": "markdown",
   "metadata": {
    "editable": false
   },
   "source": [
    "## Q5 Read river locations line data\n",
    "\n",
    "Similar to Assignment 3, write a function `readLocationsFile(name)` that will read the rivers location file whose name is given as the parameter. \n",
    "Your function should return a Python tuple containing 3 values: (names, type, heights)\n",
    "\n",
    "You are given a dataset, locationsByLine.data, consisting of river level heights in feet at several locations on the tributaries to the Cape Fear River. \n",
    "One caveat is that some of the numerical data may be an invalid float format.\n",
    "In that case, ensure that your program does not take an exception but instead substitutes a\n",
    "0 for any `ValueError` exceptions.\n",
    "\n",
    "### Format of a river location data:\n",
    "<pre>\n",
    "\n",
    "COLUMNS        DATA TYPE           CONTENTS\n",
    "--------------------------------------------------------------------------------\n",
    " 1- 14         Location name       The name of the river location\n",
    "15- 23         Type                Either TRIBUTARY or MAIN river\n",
    "24-            River level         An array of daily river levels every 5 characters.\n",
    "</pre>\n",
    "For example:\n",
    "\n",
    "<pre>\n",
    "         1         2         3         4         5         6         7         8         9\n",
    "123456789012345678901234567890123456789012345678901234567890123456789012345678901234567890\n",
    "DEEP RIVER    TRIBUTARY 2.94 2.93 2.92 2.91 2.91 2.9  2.89 2.88 2.87 2.86 2.86 2.85\n",
    "HAW RIVER     TRIBUTARY 3.52 3.52 3.5  3.5  3.5  3.48 3.48 3.48 3.48 3.47 3.47 3.46\n",
    "BUCKHORN CRK  TRIBUTARY 2.63 2.63 2.63 2.63 2.62 2.61 2.61 2.61 2.61 2.61 2.61 2.61\n",
    "CAPE FEER     MAIN      4.87 4.72 4.6  4.51 4.45 4.4  4.37 4.34 4.32 4.3  4.29 4.27\n",
    "</pre>"
   ]
  },
  {
   "cell_type": "code",
   "execution_count": 20,
   "metadata": {},
   "outputs": [
    {
     "name": "stdout",
     "output_type": "stream",
     "text": [
      "river levels:\n"
     ]
    },
    {
     "data": {
      "text/html": [
       "<table border=\"1\" class=\"dataframe\">\n",
       "  <thead>\n",
       "    <tr style=\"text-align: right;\">\n",
       "      <th></th>\n",
       "      <th>0</th>\n",
       "      <th>1</th>\n",
       "      <th>2</th>\n",
       "      <th>3</th>\n",
       "      <th>4</th>\n",
       "      <th>5</th>\n",
       "      <th>6</th>\n",
       "      <th>7</th>\n",
       "      <th>8</th>\n",
       "      <th>9</th>\n",
       "      <th>10</th>\n",
       "      <th>11</th>\n",
       "    </tr>\n",
       "  </thead>\n",
       "  <tbody>\n",
       "    <tr>\n",
       "      <th>DEEP RIVER</th>\n",
       "      <td>0.00</td>\n",
       "      <td>2.93</td>\n",
       "      <td>2.92</td>\n",
       "      <td>2.91</td>\n",
       "      <td>2.91</td>\n",
       "      <td>2.90</td>\n",
       "      <td>2.89</td>\n",
       "      <td>2.88</td>\n",
       "      <td>2.87</td>\n",
       "      <td>2.86</td>\n",
       "      <td>2.86</td>\n",
       "      <td>2.85</td>\n",
       "    </tr>\n",
       "    <tr>\n",
       "      <th>HAW RIVER</th>\n",
       "      <td>3.52</td>\n",
       "      <td>3.52</td>\n",
       "      <td>3.50</td>\n",
       "      <td>3.50</td>\n",
       "      <td>3.50</td>\n",
       "      <td>3.48</td>\n",
       "      <td>3.48</td>\n",
       "      <td>3.48</td>\n",
       "      <td>3.48</td>\n",
       "      <td>3.47</td>\n",
       "      <td>3.47</td>\n",
       "      <td>3.46</td>\n",
       "    </tr>\n",
       "    <tr>\n",
       "      <th>BUCKHORN CREEK</th>\n",
       "      <td>2.63</td>\n",
       "      <td>2.63</td>\n",
       "      <td>2.63</td>\n",
       "      <td>2.63</td>\n",
       "      <td>2.62</td>\n",
       "      <td>2.61</td>\n",
       "      <td>2.61</td>\n",
       "      <td>2.61</td>\n",
       "      <td>2.61</td>\n",
       "      <td>2.61</td>\n",
       "      <td>2.61</td>\n",
       "      <td>2.61</td>\n",
       "    </tr>\n",
       "    <tr>\n",
       "      <th>CAPE FEER</th>\n",
       "      <td>4.87</td>\n",
       "      <td>4.72</td>\n",
       "      <td>4.60</td>\n",
       "      <td>4.51</td>\n",
       "      <td>4.45</td>\n",
       "      <td>4.40</td>\n",
       "      <td>4.37</td>\n",
       "      <td>4.34</td>\n",
       "      <td>4.32</td>\n",
       "      <td>4.30</td>\n",
       "      <td>4.29</td>\n",
       "      <td>4.27</td>\n",
       "    </tr>\n",
       "  </tbody>\n",
       "</table>"
      ],
      "text/plain": [
       "<IPython.core.display.HTML object>"
      ]
     },
     "metadata": {},
     "output_type": "display_data"
    },
    {
     "name": "stdout",
     "output_type": "stream",
     "text": [
      "river types ['TRIBUTARY' 'TRIBUTARY' 'TRIBUTARY' 'MAIN     ']\n"
     ]
    }
   ],
   "source": [
    "def readRiverDataFile(filename):\n",
    "    '''Read a river data file, location name, location type, and the river levels.\n",
    "       Return a tuple of the names, types, and levels that were read.'''\n",
    "    # build them up in lists because they are cheap to append\n",
    "    loc_names = []\n",
    "    loc_types = []\n",
    "    river_levels = []\n",
    "\n",
    "    #your work goes here. You should read the river information as described aove.\n",
    "    \n",
    "    for line in open (filename):\n",
    "        # process only the lines\n",
    "        loc_names.append( line[0:14] )\n",
    "        loc_types.append( line[14:23] )\n",
    "             \n",
    "        valueLine = []\n",
    "        for value in line[23:].split():\n",
    "            try:\n",
    "                valueLine.append(float(value))\n",
    "            except ValueError:\n",
    "                valueLine.append( 0 )\n",
    "        river_levels.append( valueLine )\n",
    "\n",
    "    # convert the results to numpy arrays\n",
    "    loc_names = np.array(loc_names)\n",
    "    loc_types = np.array(loc_types)\n",
    "    river_levels = np.array(river_levels)\n",
    "\n",
    "    # return the 3 results\n",
    "    return (loc_names, loc_types, river_levels)\n",
    "\n",
    "names, types, levels = readRiverDataFile('locationsByLine.data')\n",
    "print(\"river levels:\")\n",
    "comp116.array_to_html(levels, row_names=names)\n",
    "print(\"river types\", types)"
   ]
  },
  {
   "cell_type": "code",
   "execution_count": 21,
   "metadata": {
    "editable": false
   },
   "outputs": [
    {
     "name": "stdout",
     "output_type": "stream",
     "text": [
      "Q5 read river appears correct\n",
      "Q5 river names appears correct\n",
      "Q5 river types appears correct\n",
      "Q5 river level appears correct\n"
     ]
    }
   ],
   "source": [
    "comp116.check_function('Q5 read river', readRiverDataFile, 'locationsByLine.copy.data', points=5)\n",
    "check('Q5 river names', names, points=5)\n",
    "check('Q5 river types', types, points=5)\n",
    "check('Q5 river level', levels, points=5)"
   ]
  },
  {
   "cell_type": "code",
   "execution_count": 22,
   "metadata": {
    "editable": false,
    "scrolled": true
   },
   "outputs": [
    {
     "name": "stdout",
     "output_type": "stream",
     "text": [
      "Q0 I understand how partial credit works appears correct\n",
      "Q0 Onyen appears correct\n",
      "Q0 Pledge appears correct\n",
      "Q0 Seat appears correct\n",
      "Q0 Section appears correct\n",
      "Q1 minimum appears correct\n",
      "Q2 unique site words appears correct\n",
      "Q3 max levels appears correct\n",
      "Q3 maxs appears correct\n",
      "Q3 names appears correct\n",
      "Q4.1 first column consecutive decreases appears correct\n",
      "Q4.2 max decreases appears correct\n",
      "Q5 read river appears correct\n",
      "Q5 river level appears correct\n",
      "Q5 river names appears correct\n",
      "Q5 river types appears correct\n",
      "Report for mdubois6\n",
      "  Pledged on my honor: McKenzie DuBois\n",
      "    mckenziedubois\n",
      "  16.0 of 16 possibly correct for up to 100.0 of 100 points\n",
      "The submit button for the quiz is in the ExamUnlocker notebook\n"
     ]
    }
   ],
   "source": [
    "# It is going to check that your Onyen and Pledge are filled out correctly.\n",
    "# If they are not filled out correctly, you should go back to the unlocker and execute the Submit your exam.\n",
    "report(Onyen, Pledge)\n",
    "print('The submit button for the quiz is in the ExamUnlocker notebook')"
   ]
  },
  {
   "cell_type": "markdown",
   "metadata": {
    "editable": false
   },
   "source": [
    "## Done!\n",
    "<img src=\"restartAndClearOutput.png\" width=\"300\" style=\"float: right\" />\n",
    "\n",
    "Now go back, restart the kernel (menu <font color=\"green\">Kernel</font>-><font color=\"green\">Restart and Clear</font>), and then Shift-Enter your way through the notebook to run all the cells again so you an be sure all your code will work as you expect during grading."
   ]
  },
  {
   "cell_type": "markdown",
   "metadata": {
    "editable": false
   },
   "source": [
    "## Saving your work\n",
    "<img src=\"saveAndCheckpoint.png\" width=\"300\" style=\"float: right\" />\n",
    "\n",
    "Now save your work by going to (menu <font color='green'>File</font>-><font color='green'>Save and Checkpoint</font>)"
   ]
  },
  {
   "cell_type": "markdown",
   "metadata": {
    "editable": false
   },
   "source": [
    "## Close this notebook and then go back to the Exam1AUnlocker\n",
    "<img src=\"closeAndHalt.png\" width=\"300\" style=\"float: right\" />\n",
    "\n",
    "Before going back to the Exam1AUnlocker and submit your work, you'll need to go close this\n",
    "notebook (menu <font color='green'>File</font>-><font color='green'>Close and Halt</font>.)\n",
    "\n",
    "\n",
    "Note that if you actually saved your work you should not see the leaving site message below.\n",
    "If you do see the `Leave Site` warning, cancel and save your work again.\n",
    "<br />\n",
    "<img src=\"leaveSite.png\" width=\"300\" style=\"float: left\" />"
   ]
  }
 ],
 "metadata": {
  "kernelspec": {
   "display_name": "Python 3",
   "language": "python",
   "name": "python3"
  },
  "language_info": {
   "codemirror_mode": {
    "name": "ipython",
    "version": 3
   },
   "file_extension": ".py",
   "mimetype": "text/x-python",
   "name": "python",
   "nbconvert_exporter": "python",
   "pygments_lexer": "ipython3",
   "version": "3.7.0"
  }
 },
 "nbformat": 4,
 "nbformat_minor": 1
}
