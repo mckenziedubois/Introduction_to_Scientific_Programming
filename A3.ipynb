{
 "cells": [
  {
   "cell_type": "markdown",
   "metadata": {
    "editable": false
   },
   "source": [
    "<img src=\"https://comp116sp19.cs.unc.edu/images/COMP116Logo.png\" style=\"display:inline; width:200px\" />\n",
    "\n",
    "# Assignment 3 Protein Data Bank\n",
    "\n",
    "A protein is a molecule that is a sequence of amino acid residues. The <a href=\"http://www.rcsb.org/pdb\"> Protein Data Bank</a> records the 3D structures known for protein molecules. Two examples are HIV Protease (<a href=\"http://www.rcsb.org/pdb/explore.do?structureId=7hvp\">7hvp</a> ), an important AIDS drug target (left below), and green fluorescent protein (<a href=\"http://www.pdb.org/pdb/explore.do?structureId=1GFL\">1gfl</a>), which earned its discoverers the <a href=\"http://nobelprize.org/nobel_prizes/chemistry/laureates/2008/speedread.html\">Nobel Prize</a> (right below).  Many types of information are stored in a PDB file; we will be interested only in lines that start with `ATOM  `, and only in certain columns of these lines.  Their format is described later.\n",
    "\n",
    "<img src=\"files/7HVP.jpg\" alt=\"7hvp\" title=\"7hvp\" width=\"200\" height=\"200\" /><img src=\"files/1GFL.jpg\" alt=\"1gfl\" title=\"1gfl\" width=\"200\" height=\"200\" />"
   ]
  },
  {
   "cell_type": "code",
   "execution_count": 1,
   "metadata": {
    "editable": false
   },
   "outputs": [
    {
     "data": {
      "application/javascript": [
       "IPython.notebook.set_autosave_interval(15000)"
      ]
     },
     "metadata": {},
     "output_type": "display_data"
    },
    {
     "name": "stdout",
     "output_type": "stream",
     "text": [
      "Autosaving every 15 seconds\n"
     ]
    }
   ],
   "source": [
    "%matplotlib inline\n",
    "%autosave 15\n",
    "import numpy as np\n",
    "import pylab\n",
    "from mpl_toolkits.mplot3d import Axes3D # for the 3D plots we'll make below\n",
    "import comp116\n",
    "\n",
    "check, report = comp116.start('A3')"
   ]
  },
  {
   "cell_type": "markdown",
   "metadata": {
    "editable": false
   },
   "source": [
    "## Fill out information on userid/collaborators"
   ]
  },
  {
   "cell_type": "code",
   "execution_count": 2,
   "metadata": {},
   "outputs": [],
   "source": [
    "# fill in your onyen (not PID) here\n",
    "Author = 'mdubois6'\n",
    "\n",
    "Collaborators = []"
   ]
  },
  {
   "cell_type": "code",
   "execution_count": 3,
   "metadata": {
    "editable": false
   },
   "outputs": [
    {
     "name": "stdout",
     "output_type": "stream",
     "text": [
      "Author appears correct\n",
      "Collaborators appears correct\n"
     ]
    }
   ],
   "source": [
    "check('Author', Author != 'youronyen', points=1)\n",
    "check('Collaborators', Collaborators != ['list', 'their', 'onyens', 'here'], points=1)"
   ]
  },
  {
   "cell_type": "markdown",
   "metadata": {
    "editable": false
   },
   "source": [
    "## Help\n",
    "\n",
    "See the <a href=\"#Help\">help section</a> if you need help understanding the file format or how to read the file."
   ]
  },
  {
   "cell_type": "markdown",
   "metadata": {
    "editable": false
   },
   "source": [
    "## 1. Read PDB files.\n",
    "\n",
    "Write a function `readPDBfile(filename)` that will read the atoms for a protein stored in pdb file whose name is given as the argument.  Your function should return a Python tuple containing 4 values: `(anum, aname, resno, coords)`.\n",
    "\n",
    "**anum** should be an array with the serial number for each atom.  \n",
    "**aname** should be an array of strings giving the 4-letter atom name for each atom.  The strings in aname should be in upper case.  \n",
    "**resno** array with a residue sequence number for each atom.  \n",
    "**coords** an nx3 array with xyz coordinates (in angstroms) for each atom.\n",
    "\n",
    "We have included a prototype for your function below. You are to write code in the area indicated."
   ]
  },
  {
   "cell_type": "code",
   "execution_count": 4,
   "metadata": {},
   "outputs": [
    {
     "name": "stdout",
     "output_type": "stream",
     "text": [
      "Part 1 num [   1    2    3 ... 1568 1569 1570]\n",
      "Part 1 name [' N  ' ' CA ' ' C  ' ... ' CG1' ' CG2' ' CD1']\n",
      "Part 1 rn [1 1 1 ... 7 7 7]\n",
      "Part 1 c [[-3.26   7.392 33.952]\n",
      " [-2.317  6.655 34.795]\n",
      " [-0.919  6.658 34.208]\n",
      " ...\n",
      " [ 9.356 -3.429 16.596]\n",
      " [ 9.876 -5.942 16.879]\n",
      " [ 9.287 -3.103 15.111]]\n"
     ]
    }
   ],
   "source": [
    "def readPDBfile(filename):\n",
    "    '''read a PDB file, extract the ATOM lines, and return\n",
    "       atom number, atom name, residue number, and coords for each'''\n",
    "    # build them up in lists because they are cheap to append\n",
    "    anum = []\n",
    "    aname = []\n",
    "    resno = []\n",
    "    coords = []\n",
    "\n",
    "    #your work goes here. You should read the ATOM lines and append the appropriate\n",
    "    for line in open (filename):\n",
    "        if line[:6] == 'ATOM  ':\n",
    "            anum.append(int(line[6:11]))\n",
    "            aname.append(line[12:16])\n",
    "            resno.append(int(line[22:26]))\n",
    "            x = float(line[30:38])\n",
    "            y = float(line[38:46])\n",
    "            z = float(line[46:54])\n",
    "            coords.append((x,y,z))\n",
    "    #fields to the lists anum, aname, resno, and coords\n",
    "    \n",
    "\n",
    "    # convert the results to numpy arrays\n",
    "    anum = np.array(anum)\n",
    "    aname = np.array(aname)\n",
    "    coords = np.array(coords)\n",
    "    resno = np.array(resno)\n",
    "\n",
    "    # return the 4 results\n",
    "    return (anum, aname, resno, coords)\n",
    "\n",
    "# Now we will call your function to test it.\n",
    "# We also use these values for testing in the later parts\n",
    "num, name, rn, c = readPDBfile('7HVP.pdb')\n",
    "\n",
    "print(\"Part 1 num\", num,)\n",
    "print(\"Part 1 name\", name)\n",
    "print(\"Part 1 rn\", rn)\n",
    "print(\"Part 1 c\", c)"
   ]
  },
  {
   "cell_type": "code",
   "execution_count": 5,
   "metadata": {
    "editable": false
   },
   "outputs": [
    {
     "name": "stdout",
     "output_type": "stream",
     "text": [
      "Part 1 num appears correct\n",
      "Part 1 name appears correct\n",
      "Part 1 rn appears correct\n",
      "Part 1 c appears correct\n"
     ]
    }
   ],
   "source": [
    "check(\"Part 1 num\", num, points=4)\n",
    "check(\"Part 1 name\", name, points=4)\n",
    "check(\"Part 1 rn\", rn, points=4)\n",
    "check(\"Part 1 c\", c, points=4)"
   ]
  },
  {
   "cell_type": "code",
   "execution_count": 6,
   "metadata": {},
   "outputs": [
    {
     "data": {
      "text/plain": [
       "array([[ -2.317,   6.655,  34.795],\n",
       "       [  1.413,   6.135,  34.416],\n",
       "       [  2.313,   2.959,  32.574],\n",
       "       [  5.801,   1.439,  32.545],\n",
       "       [  7.293,  -0.834,  29.935],\n",
       "       [  8.302,  -3.944,  31.75 ],\n",
       "       [  5.105,  -5.324,  30.217],\n",
       "       [  3.358,  -4.504,  26.928],\n",
       "       [  1.364,  -1.21 ,  27.218],\n",
       "       [ -1.985,  -3.1  ,  26.849],\n",
       "       [ -5.26 ,  -1.527,  27.763],\n",
       "       [ -8.961,  -2.053,  27.405],\n",
       "       [-10.803,  -0.15 ,  24.739],\n",
       "       [-14.517,   0.181,  24.11 ],\n",
       "       [-15.17 ,   0.571,  20.439],\n",
       "       [-18.955,   0.585,  20.446],\n",
       "       [-20.436,  -2.071,  22.643],\n",
       "       [-17.276,  -4.189,  22.243],\n",
       "       [-14.374,  -4.507,  24.701],\n",
       "       [-11.031,  -5.014,  23.021],\n",
       "       [ -7.451,  -5.148,  24.233],\n",
       "       [ -5.069,  -2.843,  22.396],\n",
       "       [ -1.583,  -1.615,  22.62 ],\n",
       "       [ -0.747,   2.03 ,  23.226],\n",
       "       [  1.792,   2.364,  20.338],\n",
       "       [  3.594,   5.676,  19.944],\n",
       "       [  5.698,   4.054,  17.123],\n",
       "       [  2.456,   3.817,  15.11 ],\n",
       "       [  1.01 ,   6.812,  13.26 ],\n",
       "       [ -2.513,   5.341,  12.938],\n",
       "       [ -4.884,   3.02 ,  14.705],\n",
       "       [ -5.145,  -0.476,  13.267],\n",
       "       [ -7.563,  -3.059,  14.564],\n",
       "       [ -7.813,  -6.744,  13.908],\n",
       "       [-10.583,  -7.427,  11.388],\n",
       "       [-13.987,  -6.34 ,  12.809],\n",
       "       [-17.111,  -4.729,  11.456],\n",
       "       [-17.602,  -1.092,  12.276],\n",
       "       [-20.613,   0.841,  11.077],\n",
       "       [-19.998,   3.078,   7.999],\n",
       "       [-18.58 ,   3.265,   4.468],\n",
       "       [-14.864,   2.249,   4.272],\n",
       "       [-12.16 ,   3.174,   1.817],\n",
       "       [ -9.521,   0.587,   1.066],\n",
       "       [ -6.062,   1.869,   2.172],\n",
       "       [ -2.392,   1.03 ,   2.562],\n",
       "       [ -0.124,   1.281,   5.652],\n",
       "       [  3.323,  -0.399,   6.236],\n",
       "       [  5.016,  -1.936,   9.32 ],\n",
       "       [  8.45 ,  -3.512,   9.945],\n",
       "       [  7.346,  -6.403,   7.589],\n",
       "       [  6.249,  -4.313,   4.521],\n",
       "       [  2.785,  -3.054,   3.348],\n",
       "       [ -0.779,  -4.318,   3.961],\n",
       "       [ -4.102,  -3.267,   2.631],\n",
       "       [ -6.531,  -1.851,   5.197],\n",
       "       [-10.194,  -0.684,   5.064],\n",
       "       [-10.469,   2.867,   6.419],\n",
       "       [-13.182,   4.074,   8.763],\n",
       "       [-13.471,   7.746,   9.582],\n",
       "       [-14.527,   9.677,  12.642],\n",
       "       [-15.397,   6.673,  14.804],\n",
       "       [-15.584,   7.175,  18.656],\n",
       "       [-13.307,   4.939,  20.707],\n",
       "       [-13.08 ,   4.904,  24.519],\n",
       "       [ -9.588,   4.183,  25.872],\n",
       "       [-12.516,   5.909,  29.81 ],\n",
       "       [-10.737,   8.612,  27.902],\n",
       "       [-12.716,   9.6  ,  24.895],\n",
       "       [-11.292,  10.022,  21.38 ],\n",
       "       [-13.009,  10.217,  17.862],\n",
       "       [-11.055,   9.494,  14.657],\n",
       "       [ -9.619,   7.44 ,  11.829],\n",
       "       [ -9.5  ,   3.853,  12.862],\n",
       "       [ -8.23 ,   1.242,  10.395],\n",
       "       [ -8.822,  -2.503,  10.309],\n",
       "       [ -6.822,  -5.257,   8.704],\n",
       "       [ -4.311,  -8.036,   9.434],\n",
       "       [ -2.404,  -6.777,  12.499],\n",
       "       [ -0.863,  -9.186,  15.019],\n",
       "       [ -2.619,  -7.11 ,  17.741],\n",
       "       [ -4.865,  -4.059,  18.012],\n",
       "       [ -2.79 ,  -0.867,  18.025],\n",
       "       [ -3.959,   2.58 ,  19.203],\n",
       "       [ -1.759,   4.934,  17.092],\n",
       "       [ -0.505,   8.457,  17.819],\n",
       "       [ -3.723,   9.73 ,  16.112],\n",
       "       [ -6.041,   8.744,  18.968],\n",
       "       [ -3.289,   9.023,  21.685],\n",
       "       [ -2.99 ,  12.708,  21.227],\n",
       "       [ -6.746,  13.048,  21.697],\n",
       "       [ -6.603,  11.587,  25.217],\n",
       "       [ -3.371,  13.582,  25.6  ],\n",
       "       [  2.905,  11.793,  26.363],\n",
       "       [  6.255,   9.824,  26.833],\n",
       "       [  7.88 ,  10.771,  30.186],\n",
       "       [ 11.396,   9.844,  31.428],\n",
       "       [ 11.907,  14.952,  29.017],\n",
       "       [  8.175,  15.018,  28.486],\n",
       "       [  7.72 ,  14.198,  24.775],\n",
       "       [  4.422,  14.885,  22.931],\n",
       "       [  2.862,  12.663,  20.241],\n",
       "       [  1.911,  15.282,  17.514],\n",
       "       [  4.991,  14.151,  15.616],\n",
       "       [  6.827,  10.792,  15.552],\n",
       "       [  8.826,  10.554,  18.791],\n",
       "       [ 12.309,  10.892,  17.11 ],\n",
       "       [ 15.3  ,  11.252,  19.449],\n",
       "       [ 19.1  ,  11.062,  19.314],\n",
       "       [ 20.915,   8.004,  20.526],\n",
       "       [ 24.5  ,   6.929,  19.977],\n",
       "       [ 25.749,   3.462,  19.023],\n",
       "       [ 29.285,   2.387,  18.25 ],\n",
       "       [ 30.44 ,   5.898,  17.431],\n",
       "       [ 27.267,   6.538,  15.52 ],\n",
       "       [ 25.014,   9.299,  16.655],\n",
       "       [ 21.533,   8.337,  15.291],\n",
       "       [ 17.817,   9.313,  15.355],\n",
       "       [ 15.649,   6.455,  16.606],\n",
       "       [ 11.856,   6.316,  17.092],\n",
       "       [ 10.664,   5.758,  20.698],\n",
       "       [  8.188,   2.89 ,  20.765],\n",
       "       [  5.957,   1.3  ,  23.318],\n",
       "       [  4.698,  -1.041,  20.493],\n",
       "       [  8.229,  -2.458,  19.946],\n",
       "       [  9.258,  -5.483,  21.954],\n",
       "       [ 12.842,  -5.089,  20.763],\n",
       "       [ 15.179,  -2.407,  19.513],\n",
       "       [ 15.825,  -2.529,  15.781],\n",
       "       [ 18.34 ,  -0.43 ,  13.901],\n",
       "       [ 18.858,  -0.271,  10.215],\n",
       "       [ 21.86 ,  -1.9  ,   8.619],\n",
       "       [ 25.071,  -1.004,  10.28 ],\n",
       "       [ 28.243,  -2.956,  10.781],\n",
       "       [ 28.771,  -3.511,  14.495],\n",
       "       [ 31.676,  -5.66 ,  15.555],\n",
       "       [ 30.517,  -8.589,  17.671],\n",
       "       [ 29.045, -12.014,  17.49 ],\n",
       "       [ 25.417, -12.36 ,  16.497],\n",
       "       [ 22.539, -14.773,  15.996],\n",
       "       [ 19.927, -14.404,  13.302],\n",
       "       [ 16.245, -14.143,  14.269],\n",
       "       [ 13.049, -13.077,  12.669],\n",
       "       [ 10.981, -10.25 ,  14.013],\n",
       "       [  7.481,  -9.407,  12.74 ],\n",
       "       [  4.601,  -6.945,  12.701],\n",
       "       [  2.241,  -5.376,  10.117],\n",
       "       [  3.338,  -6.956,   6.734],\n",
       "       [  5.034, -10.077,   8.22 ],\n",
       "       [  8.621, -11.054,   9.067],\n",
       "       [ 12.132,  -9.756,   8.339],\n",
       "       [ 15.438, -11.352,   9.287],\n",
       "       [ 17.794,  -9.688,  11.66 ],\n",
       "       [ 21.164, -10.151,  13.209],\n",
       "       [ 20.95 , -10.037,  16.973],\n",
       "       [ 23.675,  -8.398,  19.014],\n",
       "       [ 23.873,  -8.747,  22.821],\n",
       "       [ 25.11 ,  -6.27 ,  25.458],\n",
       "       [ 25.279,  -3.203,  23.294],\n",
       "       [ 25.647,   0.128,  25.028],\n",
       "       [ 23.281,   2.749,  23.774],\n",
       "       [ 22.577,   6.293,  25.013],\n",
       "       [ 19.09 ,   7.632,  24.582],\n",
       "       [ 21.605,  11.225,  27.74 ],\n",
       "       [ 20.369,   8.198,  29.609],\n",
       "       [ 22.7  ,   5.293,  28.69 ],\n",
       "       [ 21.51 ,   1.712,  28.512],\n",
       "       [ 22.949,  -1.669,  27.53 ],\n",
       "       [ 20.934,  -4.473,  26.014],\n",
       "       [ 20.05 ,  -6.42 ,  22.879],\n",
       "       [ 19.831,  -4.822,  19.489],\n",
       "       [ 18.572,  -6.223,  16.237],\n",
       "       [ 20.243,  -4.906,  13.029],\n",
       "       [ 18.092,  -5.5  ,   9.967],\n",
       "       [ 16.625,  -3.772,   6.921],\n",
       "       [ 14.038,  -1.765,   8.885],\n",
       "       [ 12.907,   1.63 ,   7.491],\n",
       "       [ 13.37 ,   3.512,  10.79 ],\n",
       "       [ 15.534,   3.153,  13.808],\n",
       "       [ 13.298,   1.824,  16.586],\n",
       "       [ 13.88 ,   1.883,  20.422],\n",
       "       [ 11.812,  -0.957,  21.89 ],\n",
       "       [ 10.735,  -1.493,  25.527],\n",
       "       [ 13.814,  -3.607,  26.004],\n",
       "       [ 15.676,  -0.374,  26.486],\n",
       "       [ 12.812,   2.046,  27.253],\n",
       "       [ 12.487,   0.26 ,  30.563],\n",
       "       [ 16.066,   1.162,  31.387],\n",
       "       [ 15.888,   4.997,  31.053],\n",
       "       [ 12.513,   4.913,  32.911],\n",
       "       [  6.595,   5.958,  31.12 ],\n",
       "       [  3.348,   6.503,  29.15 ],\n",
       "       [  1.192,   9.153,  30.846],\n",
       "       [ -2.338,  10.395,  30.078],\n",
       "       [  1.703,   5.755,   7.376],\n",
       "       [  4.083,   3.622,   9.214],\n",
       "       [  2.98 ,   1.333,  12.064],\n",
       "       [  5.609,  -0.373,  14.165],\n",
       "       [  4.032,  -3.673,  16.445],\n",
       "       [  7.464,  -5.252,  16.696]])"
      ]
     },
     "execution_count": 6,
     "metadata": {},
     "output_type": "execute_result"
    }
   ],
   "source": [
    "c[ name == ' CA ']"
   ]
  },
  {
   "cell_type": "markdown",
   "metadata": {
    "editable": false
   },
   "source": [
    "## 2. Draw a 3D graph of the Calpha backbone of the protein.\n",
    "\n",
    "Write a function <tt>drawCA(aname, coords)</tt> that uses <tt>Axes3d.plot</tt> to draw the Calpha backbone of the protein: it should connect atoms with name <tt> ' CA ' </tt> (that is SPACE C A SPACE) in sequence, and ignore all the other atoms.  Information about how to make the 3D plot is in the help section below."
   ]
  },
  {
   "cell_type": "code",
   "execution_count": 7,
   "metadata": {},
   "outputs": [
    {
     "data": {
      "text/plain": [
       "<Figure size 432x288 with 0 Axes>"
      ]
     },
     "metadata": {},
     "output_type": "display_data"
    },
    {
     "data": {
      "image/png": "[encoded data removed]",
      "text/plain": [
       "<Figure size 432x288 with 1 Axes>"
      ]
     },
     "metadata": {
      "needs_background": "light"
     },
     "output_type": "display_data"
    }
   ],
   "source": [
    "def drawCA(aname, coords):\n",
    "    x=[]\n",
    "    y=[]\n",
    "    z=[]\n",
    "    '''plot the Calpha backbone of an atom'''\n",
    "    fig = pylab.figure()\n",
    "    c = coords[aname == ' CA ']\n",
    "    x = c[:,0]\n",
    "    y = c[:,1]\n",
    "    z = c[:,2]\n",
    "    # your work goes here\n",
    "    fig = pylab.figure()\n",
    "    ax = Axes3D(fig)\n",
    "    ax.plot(x,y,z)\n",
    "    # your work goes here\n",
    "    return fig\n",
    "\n",
    "# test your functions\n",
    "drawCA(name, c)\n",
    "\n",
    "# LEAVE THIS LINE THE LAST IN THE CELL\n",
    "CAFigure = pylab.gcf()"
   ]
  },
  {
   "cell_type": "code",
   "execution_count": 8,
   "metadata": {
    "editable": false
   },
   "outputs": [
    {
     "name": "stdout",
     "output_type": "stream",
     "text": [
      "Part 2 fig appears correct\n"
     ]
    }
   ],
   "source": [
    "check('Part 2 fig', CAFigure, points=12)"
   ]
  },
  {
   "cell_type": "markdown",
   "metadata": {
    "editable": false
   },
   "source": [
    "## 3. List the Hbonds\n",
    "\n",
    "Write a function <tt>Hbonds(anum, aname, resno, coords)</tt> that looks for pairs with a Nitrogen (second letter of the name is 'N) and Oxygen (second letter is 'O') atoms whose distance is between 2.6 and 3.2 angstroms, inclusive. Such a pair is deemed to form a hydrogen bond if the residue sequence numbers of these atoms differ by at least 2. Return a list containing the pairs of atom numbers for hydrogen bonding pairs.\n",
    "\n",
    "**NOTE:** A pair with Nitrogen (second letter of the name is 'N') is not the same as the name is `' N   '`!\n",
    "\n",
    "**NOTE** The pairs should be the Nitrogen then Oxygen atom.  You will get an incorrect"
   ]
  },
  {
   "cell_type": "code",
   "execution_count": 9,
   "metadata": {},
   "outputs": [],
   "source": [
    "# this is the function you must write\n",
    "def Hbonds(anum, aname, resno, coords):\n",
    "    '''Find hydrogen bonds'''\n",
    "    pairs = [] # build up the result in this list\n",
    "    for nitrogen in range(len(aname)):\n",
    "        if (aname[nitrogen][1] == 'N'):\n",
    "            for oxygen in range(len(aname)):       \n",
    "                if (aname[oxygen][1] == 'O'):\n",
    "                    if (abs(resno[nitrogen] - resno[oxygen]) >= 2) and (2.6 <= np.sqrt(np.sum((coords[nitrogen]-coords[oxygen])**2))<= 3.2):\n",
    "                        pairs.append((anum[nitrogen],anum[oxygen]))\n",
    "    #your work goes here\n",
    "    return pairs \n",
    "\n",
    "# now we test your Hbonds function\n",
    "pairs3 = Hbonds(num, name, rn, c)\n"
   ]
  },
  {
   "cell_type": "code",
   "execution_count": 20,
   "metadata": {},
   "outputs": [
    {
     "name": "stdout",
     "output_type": "stream",
     "text": [
      "[(17, 1493), (70, 983), (81, 66), (89, 176), (103, 158), (111, 506), (122, 141), (155, 106), (173, 92), (178, 630), (186, 77), (194, 181), (209, 200), (218, 1531), (241, 638), (248, 583), (256, 633), (274, 259), (332, 446), (348, 428), (373, 1525), (377, 396), (408, 368), (432, 591), (441, 277), (441, 463), (451, 470), (452, 576), (481, 467), (496, 552), (503, 114), (512, 533), (530, 515), (554, 704), (562, 484), (573, 455), (580, 237), (595, 251), (606, 598), (620, 609), (634, 167), (635, 244), (643, 181), (651, 229), (651, 239), (655, 216), (664, 794), (664, 802), (665, 224), (666, 654), (673, 569), (705, 557), (714, 685), (714, 693), (724, 1501), (731, 779), (739, 1486), (746, 727), (746, 729), (776, 734), (829, 224), (832, 225), (840, 825), (848, 935), (862, 917), (870, 1265), (893, 884), (914, 865), (932, 851), (945, 836), (953, 1405), (968, 956), (968, 959), (972, 956), (1000, 1397), (1007, 1342), (1015, 1392), (1033, 1018), (1091, 1205), (1107, 1187), (1124, 1170), (1136, 1155), (1148, 1139), (1152, 1139), (1167, 1127), (1191, 1350), (1200, 1036), (1201, 1031), (1201, 1036), (1202, 1094), (1211, 1335), (1240, 1324), (1255, 1311), (1271, 1292), (1285, 1274), (1289, 1274), (1307, 1270), (1308, 1258), (1321, 1243), (1332, 1214), (1339, 996), (1347, 1194), (1354, 1010), (1365, 1357), (1393, 926), (1394, 1003), (1402, 940), (1410, 998), (1414, 975), (1423, 35), (1423, 57), (1425, 1413), (1432, 1328), (1433, 1417), (1441, 1413), (1449, 1436), (1456, 1436), (1464, 1316), (1483, 742), (1490, 20), (1498, 727), (1528, 225), (1536, 376), (1563, 971)]\n"
     ]
    }
   ],
   "source": [
    "print(pairs3)"
   ]
  },
  {
   "cell_type": "code",
   "execution_count": 10,
   "metadata": {
    "editable": false
   },
   "outputs": [
    {
     "name": "stdout",
     "output_type": "stream",
     "text": [
      "Part 3 pairs appears correct\n"
     ]
    }
   ],
   "source": [
    "check('Part 3 pairs', np.array(sorted(pairs3)), points=20)"
   ]
  },
  {
   "cell_type": "markdown",
   "metadata": {
    "editable": false
   },
   "source": [
    "## 4. Now use your functions on the second protein. \n",
    "\n",
    "You do not have to update the code below.  It will invoke the previous code."
   ]
  },
  {
   "cell_type": "code",
   "execution_count": 11,
   "metadata": {},
   "outputs": [],
   "source": [
    "# load the data\n",
    "num1GFL, name1GFL, rn1GFL, c1GFL = readPDBfile('1GFL.pdb')"
   ]
  },
  {
   "cell_type": "code",
   "execution_count": 12,
   "metadata": {
    "editable": false
   },
   "outputs": [
    {
     "name": "stdout",
     "output_type": "stream",
     "text": [
      "Part 4 num appears correct\n",
      "Part 4 name appears correct\n",
      "Part 4 rn appears correct\n",
      "Part 4 c appears correct\n"
     ]
    }
   ],
   "source": [
    "check(\"Part 4 num\", num1GFL, points=4)\n",
    "check(\"Part 4 name\", name1GFL, points=4)\n",
    "check(\"Part 4 rn\", rn1GFL, points=4)\n",
    "check(\"Part 4 c\", c1GFL, points=4)"
   ]
  },
  {
   "cell_type": "code",
   "execution_count": 13,
   "metadata": {},
   "outputs": [
    {
     "data": {
      "text/plain": [
       "<Figure size 432x288 with 0 Axes>"
      ]
     },
     "metadata": {},
     "output_type": "display_data"
    },
    {
     "data": {
      "image/png": "[encoded data removed]",
      "text/plain": [
       "<Figure size 432x288 with 1 Axes>"
      ]
     },
     "metadata": {
      "needs_background": "light"
     },
     "output_type": "display_data"
    }
   ],
   "source": [
    "# draw the graph\n",
    "drawCA(name1GFL, c1GFL)\n",
    "figure1GFL = pylab.gcf()"
   ]
  },
  {
   "cell_type": "code",
   "execution_count": 14,
   "metadata": {
    "editable": false
   },
   "outputs": [
    {
     "name": "stdout",
     "output_type": "stream",
     "text": [
      "Part 4 fig appears correct\n"
     ]
    }
   ],
   "source": [
    "check('Part 4 fig', figure1GFL, points=14)"
   ]
  },
  {
   "cell_type": "code",
   "execution_count": 15,
   "metadata": {},
   "outputs": [],
   "source": [
    "# list the Hbonds\n",
    "pairs1GFL = Hbonds(num1GFL, name1GFL, rn1GFL, c1GFL)"
   ]
  },
  {
   "cell_type": "code",
   "execution_count": 16,
   "metadata": {
    "editable": false
   },
   "outputs": [
    {
     "name": "stdout",
     "output_type": "stream",
     "text": [
      "Part 4 pairs appears correct\n"
     ]
    }
   ],
   "source": [
    "check('Part 4 pairs', np.array(sorted(pairs1GFL)), points=20)"
   ]
  },
  {
   "cell_type": "markdown",
   "metadata": {
    "editable": false
   },
   "source": [
    "# Helps\n",
    "\n",
    "## Opening and Reading files\n",
    "\n",
    "Reading a file such as `7hvp.pdb` (for HIV protease) is easy in Python. You can simply say:\n",
    "\n",
    "    for line in open('7hvp.pdb', 'r'):\n",
    "        # do something for every line\n",
    "            \n",
    "The first argument to the `open` function is a string giving the name of the file. The second argument to the `open` function is a string indicating the file mode. We're using `'r'` here because we are reading the file. Other possible values include `'w'` for creating a new file to write and `'a'` for appending to an existing file.\n",
    "\n",
    "If the first six characters of the line are `'ATOM  '` (2 spaces on the end) then that line has interesting information. The numbers and names occupy fixed positions on a line, so you can extract them with indexing and convert them from strings to numbers, if necessary, in your reader.\n"
   ]
  },
  {
   "cell_type": "markdown",
   "metadata": {
    "editable": false
   },
   "source": [
    "## Format of ATOM records\n",
    "\n",
    "This is from the documentation of the PDB format on the rcsb web site.\n",
    "\n",
    "<pre>\n",
    "COLUMNS        DATA TYPE           CONTENTS\n",
    "--------------------------------------------------------------------------------\n",
    " 1- 6          Record name         \"ATOM  \"\n",
    " 7 - 11        Integer             Atom serial number.\n",
    "13 - 16        Atom                Atom name.\n",
    "17             Character           Alternate location indicator.\n",
    "18 - 20        Residue name        Residue name.\n",
    "22             Character           Chain identifier.\n",
    "23 - 26        Integer             Residue sequence number.\n",
    "27             AChar               Code for insertion of residues.\n",
    "31 - 38        Real(8.3)           Orthogonal coordinates for X in Angstroms.\n",
    "39 - 46        Real(8.3)           Orthogonal coordinates for Y in Angstroms.\n",
    "47 - 54        Real(8.3)           Orthogonal coordinates for Z in Angstroms.\n",
    "55 - 60        Real(6.2)           Occupancy.\n",
    "61 - 66        Real(6.2)           Temperature factor (Default = 0.0).\n",
    "73 - 76        LString(4)          Segment identifier, left-justified.\n",
    "77 - 78        LString(2)          Element symbol, right-justified.\n",
    "79 - 80        LString(2)          Charge on the atom.\n",
    "</pre>\n",
    "\n",
    "**Example:**\n",
    "\n",
    "<pre>\n",
    "         1         2         3         4         5         6         7         8\n",
    "12345678901234567890123456789012345678901234567890123456789012345678901234567890\n",
    "ATOM      1  N   PRO A   1      -3.260   7.392  33.952  1.00 24.47           N\n",
    "ATOM      2  CA  PRO A   1      -2.317   6.655  34.795  1.00 22.40           C\n",
    "ATOM      3  C   PRO A   1      -0.919   6.658  34.208  1.00 20.82           C\n",
    "ATOM      4  O   PRO A   1      -0.802   7.111  33.058  1.00 21.07           O\n",
    "ATOM      5  CB  PRO A   1      -2.897   5.256  34.804  1.00 23.12           C\n",
    "ATOM      6  CG  PRO A   1      -4.336   5.353  34.377  1.00 24.12           C\n",
    "ATOM      7  CD  PRO A   1      -4.607   6.783  33.948  1.00 24.43           C\n",
    "</pre>"
   ]
  },
  {
   "cell_type": "markdown",
   "metadata": {
    "editable": false
   },
   "source": [
    "### Other hints\n",
    "\n",
    "1. Do **not** modify data files! Your readPDBfile should work on any of the files.\n",
    "2. Your reader returns many variables. To capture them all, you'll have to call it with a line something like this: `a, an, rn, c = readPDBfile('A4/7hvp.pdb')`. This is called an unpacking assignment, the thing on the right of the = operator is a sequence, so python knows to unpack it into the variables listed. The number of variables must match the length of the sequence or you'll get an error message.\n",
    "3. To plot the 3D line drawings requested use the Axes3D object like this:\n",
    "<pre>\n",
    "    fig = pylab.figure()\n",
    "    ax = Axes3D(fig)\n",
    "    ax.plot(x, y, z) # x, y, and z are 1D arrays\n",
    "</pre>    \n",
    "4. Compare strings with the usual comparison operators we used for numbers.\n",
    "5. Numpy arrays of strings are a bit strange. To get the second character of the name in order to determine its type, you'll need to subscript the array to get the string and then subscript the resulting string. You can't say `aname[3, 1]` to get the 2nd character of the 4th atom name. Instead you have to say `aname[3][1]`.\n",
    "6. Break the problems down into small tasks. When making your loops, think of what has to be done once (like opening the file) and what has to be done repeatedly (like processing the line.)\n"
   ]
  },
  {
   "cell_type": "code",
   "execution_count": 17,
   "metadata": {},
   "outputs": [
    {
     "name": "stdout",
     "output_type": "stream",
     "text": [
      "aBc ABC abc\n",
      "123 123\n",
      "<class 'str'> <class 'int'>\n",
      "3.14 3.14\n",
      "<class 'str'> <class 'float'>\n"
     ]
    }
   ],
   "source": [
    "#more help in code form, nothing to do here\n",
    "\n",
    "#strings have several methods that you will find useful for this assignment\n",
    "s = 'aBc'\n",
    "t = s.upper() # make it all upper case\n",
    "u = t.lower() # make that all lower case\n",
    "print(s, t, u)\n",
    "\n",
    "# we can convert from strings to integers or floats\n",
    "s = '123'  # a string with the characters 1, 2, and 3\n",
    "i = int(s)  # now it is the number 123 (one hundred twenty three)\n",
    "\n",
    "# note that they look the same when we print them but their types are different\n",
    "print(s, i)\n",
    "print(type(s), type(i))\n",
    "\n",
    "t = '3.14'  # a string with characters 3, period, 1, and 4\n",
    "f = float(t)  # a floating point number 3.14\n",
    "\n",
    "print(t, f)\n",
    "print(type(t), type(f))"
   ]
  },
  {
   "cell_type": "markdown",
   "metadata": {
    "editable": false
   },
   "source": [
    "## Done!\n",
    "\n",
    "Now get your report and submit your assignment."
   ]
  },
  {
   "cell_type": "code",
   "execution_count": 18,
   "metadata": {
    "editable": false
   },
   "outputs": [
    {
     "name": "stdout",
     "output_type": "stream",
     "text": [
      "Author appears correct\n",
      "Collaborators appears correct\n",
      "Part 1 c appears correct\n",
      "Part 1 name appears correct\n",
      "Part 1 num appears correct\n",
      "Part 1 rn appears correct\n",
      "Part 2 fig appears correct\n",
      "Part 3 pairs appears correct\n",
      "Part 4 c appears correct\n",
      "Part 4 fig appears correct\n",
      "Part 4 name appears correct\n",
      "Part 4 num appears correct\n",
      "Part 4 pairs appears correct\n",
      "Part 4 rn appears correct\n",
      "Report for mdubois6\n",
      "  Collaborators: []\n",
      "  14.0 of 14 possibly correct for up to 100.0 of 100 points\n"
     ]
    },
    {
     "data": {
      "text/html": [
       "\n",
       "<p>Click the button below to submit your notebook. \n",
       "Watch for a confirmation message that your notebook was successfully uploaded. \n",
       "</p>\n",
       "<p>If you are prompted for a submit code, you must enter a valid submit code shown\n",
       "on the screen in the front of class for the submission to be accepted.\n",
       "</p>\n",
       "You may submit as often as you wish.\n",
       "Early submissions may receive bonus points and late submissions may receive penalty points\n",
       "(see the syallabus for more details).\n",
       "But your grade will be the submission with the most points.\n",
       "</p>\n",
       "<button id=\"submitButton116\">Submit notebook IPython.notebook.notebook_name</button>\n",
       "<p id=\"submitResponse116\"></p>\n",
       "<script>\n",
       "var site = 'https://comp116sp19.cs.unc.edu/';\n",
       "var notebook = IPython.notebook.notebook_name;\n",
       "var needSubmitCode = false;\n",
       "document.getElementById(\"submitButton116\").innerHTML = \"Submit notebook \" + notebook;\n",
       "$('#submitButton116').on('click', function() {\n",
       "    var site = 'https://comp116sp19.cs.unc.edu/',\n",
       "        $sresp = $('#submitResponse116'),\n",
       "        button = $('#submitButton116');\n",
       "    button.prop('disabled', true);\n",
       "    // wait until save is complete before pushing the notebook\n",
       "    $([IPython.events]).one('notebook_saved.Notebook', function() {\n",
       "        // get the token by logging in\n",
       "        $sresp.html('logging in');\n",
       "        $.ajax({\n",
       "            url: site + 'io/token/token.cgi',\n",
       "            dataType: 'jsonp'\n",
       "        }).done(function(data) {\n",
       "            // Get submit code if needed, '' otherwise\n",
       "            if (needSubmitCode) {\n",
       "               submitCode = prompt(\"Enter the submit code displayed at the front of the class : \", \"xxxx\");\n",
       "               if (submitCode == null) {\n",
       "                  submitCode = '';\n",
       "               }\n",
       "            } else {\n",
       "               submitCode = '';\n",
       "            }\n",
       "            var notebook = 'unlocker.pickle',\n",
       "                uuid = data.token,\n",
       "                command = \"comp116.pushPickle('\" + notebook + \"', '\" + uuid + \"')\",\n",
       "                kernel = IPython.notebook.kernel,\n",
       "                handler = function (out) {\n",
       "                };\n",
       "            $sresp.html('Setting up');\n",
       "            kernel.execute(command, {shell: { reply: handler }});\n",
       "            var notebook = IPython.notebook.notebook_name,\n",
       "                uuid = data.token,\n",
       "                command = \"comp116.pushNotebook('\" + notebook + \"', '\" + uuid + \"', '\" + submitCode + \"')\",\n",
       "                kernel = IPython.notebook.kernel,\n",
       "                handler = function (out) {\n",
       "                    $('#comp116-stop-message').show();\n",
       "                    if (out.content.status == \"ok\") {\n",
       "                        $sresp.html(\"Successfully submitted \" + notebook);\n",
       "                        $('#comp116-stop-message').hide();\n",
       "                    } else if(out.content.status == \"error\") {\n",
       "                        $sresp.html(out.content.ename + \": \" + out.content.evalue);\n",
       "                    } else { // if output is something we haven't thought of\n",
       "                        $sresp.html(\"[out type not implemented]\")\n",
       "                    }\n",
       "                    button.prop('disabled', false);\n",
       "                };\n",
       "            $sresp.html('Submitting');\n",
       "            kernel.execute(command, {shell: { reply: handler }});\n",
       "        }).fail(function() {\n",
       "            $sresp.html(\"Login failed. If you didn't get a login prompt, ensure you are online by opening a browser tab to python.org\");\n",
       "            if (! navigator.onLine) {\n",
       "               $sresp.html('Browser offline');\n",
       "            }\n",
       "            button.prop('disabled', false);\n",
       "        });\n",
       "    });\n",
       "    // trigger the save\n",
       "    $sresp.html('Saving');\n",
       "    IPython.notebook.save_notebook();\n",
       "});"
      ],
      "text/plain": [
       "<IPython.core.display.HTML object>"
      ]
     },
     "execution_count": 18,
     "metadata": {},
     "output_type": "execute_result"
    }
   ],
   "source": [
    "report(Author, Collaborators)"
   ]
  },
  {
   "cell_type": "markdown",
   "metadata": {
    "editable": false
   },
   "source": [
    "## Saving your work\n",
    "<img src=\"saveAndCheckpoint.png\" width=\"300\" style=\"float: right\" />\n",
    "\n",
    "Now save your work by going to (menu <font color='green'>File</font>-><font color='green'>Save and Checkpoint</font>)"
   ]
  },
  {
   "cell_type": "code",
   "execution_count": 19,
   "metadata": {
    "editable": false
   },
   "outputs": [
    {
     "name": "stdout",
     "output_type": "stream",
     "text": [
      "Author appears correct\n",
      "Collaborators appears correct\n",
      "Part 1 c appears correct\n",
      "Part 1 name appears correct\n",
      "Part 1 num appears correct\n",
      "Part 1 rn appears correct\n",
      "Part 2 fig appears correct\n",
      "Part 3 pairs appears correct\n",
      "Part 4 c appears correct\n",
      "Part 4 fig appears correct\n",
      "Part 4 name appears correct\n",
      "Part 4 num appears correct\n",
      "Part 4 pairs appears correct\n",
      "Part 4 rn appears correct\n",
      "Report for mdubois6\n",
      "  Collaborators: []\n",
      "  14.0 of 14 possibly correct for up to 100.0 of 100 points\n",
      "The submit button for the assignment is in the unlocker notebook\n"
     ]
    }
   ],
   "source": [
    "# don't change this, the values come from the first cell of this notebook.\n",
    "report(Author, Collaborators)\n",
    "print('The submit button for the assignment is in the unlocker notebook')"
   ]
  },
  {
   "cell_type": "markdown",
   "metadata": {
    "editable": false
   },
   "source": [
    "## Close this notebook and then go back to the AssignmentUnlocker\n",
    "<img src=\"closeAndHalt.png\" width=\"300\" style=\"float: right\" />\n",
    "\n",
    "Before going back to the AssignmentUnlocker and submit your work, you'll need to go close this\n",
    "notebook (menu <font color='green'>File</font>-><font color='green'>Close and Halt</font>.)\n",
    "\n",
    "\n",
    "Note that if you actually saved your work you should not see the leaving site message below.\n",
    "If you do see the `Leave Site` warning, cancel and save your work again.\n",
    "<br />\n",
    "<img src=\"leaveSite.png\" width=\"300\" style=\"float: left\" />"
   ]
  }
 ],
 "metadata": {
  "kernelspec": {
   "display_name": "Python 3",
   "language": "python",
   "name": "python3"
  },
  "language_info": {
   "codemirror_mode": {
    "name": "ipython",
    "version": 3
   },
   "file_extension": ".py",
   "mimetype": "text/x-python",
   "name": "python",
   "nbconvert_exporter": "python",
   "pygments_lexer": "ipython3",
   "version": "3.7.0"
  }
 },
 "nbformat": 4,
 "nbformat_minor": 1
}
