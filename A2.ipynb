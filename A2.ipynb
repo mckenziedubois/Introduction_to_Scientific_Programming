{
 "cells": [
  {
   "cell_type": "markdown",
   "metadata": {
    "editable": false
   },
   "source": [
    "<img src=\"https://comp116sp19.cs.unc.edu/images/COMP116Logo.png\" style=\"display:inline; width:200px\" />\n",
    "\n",
    "# Assignment 2\n",
    "\n",
    "**Note:** You do not need, nor should you use loops on this assignment. There are more hints down at the [bottom of this notebook](#Hints).\n",
    "\n",
    "**Remember** always start work at the top of the notebook and execute every cell.\n",
    "\n",
    "## Setup for the environment"
   ]
  },
  {
   "cell_type": "code",
   "execution_count": 1,
   "metadata": {
    "editable": false
   },
   "outputs": [
    {
     "data": {
      "application/javascript": [
       "IPython.notebook.set_autosave_interval(15000)"
      ]
     },
     "metadata": {},
     "output_type": "display_data"
    },
    {
     "name": "stdout",
     "output_type": "stream",
     "text": [
      "Autosaving every 15 seconds\n"
     ]
    }
   ],
   "source": [
    "%matplotlib inline\n",
    "%autosave 15\n",
    "import numpy as np\n",
    "import pylab\n",
    "import pickle\n",
    "\n",
    "import comp116\n",
    "check, report = comp116.start('A2')\n",
    "with open('A2data.pickle', 'rb') as fid:\n",
    "    classroom = pickle.load(fid)"
   ]
  },
  {
   "cell_type": "markdown",
   "metadata": {
    "editable": false
   },
   "source": [
    "## Put your Onyen, Collaborators, and Section\n",
    "\n",
    "On this and all submissions, it's important to put your Onyen on it."
   ]
  },
  {
   "cell_type": "code",
   "execution_count": 2,
   "metadata": {},
   "outputs": [],
   "source": [
    "# Put your onyen between the quotes\n",
    "Onyen = 'mdubois6'\n",
    "\n",
    "# If you have no collaborators then remove all the strings from this list\n",
    "# it should look like Collaborators = [ ]\n",
    "Collaborators = [ ]\n",
    "\n",
    "# If you are in the 12:30 T/TH class, set Section='1'\n",
    "# If you are in the 2:00 T/TH class, set Section='2'\n",
    "Section = '1' \n"
   ]
  },
  {
   "cell_type": "code",
   "execution_count": 3,
   "metadata": {
    "editable": false
   },
   "outputs": [
    {
     "name": "stdout",
     "output_type": "stream",
     "text": [
      "You are in section 1\n",
      "Section appears correct\n",
      "Onyen appears correct\n",
      "Collaborators appears correct\n"
     ]
    }
   ],
   "source": [
    "# Does the classroom show you as in the section you think you are?\n",
    "your_info = classroom[ (classroom[:,0] == Section) & (classroom[:,1] == Onyen) ]\n",
    "if len(your_info) == 0:\n",
    "    print('The class information does NOT have', Onyen, 'in section', Section)\n",
    "else:\n",
    "    print('You are in section', Section)\n",
    "\n",
    "check('Section', len(your_info) , points=1)\n",
    "check('Onyen', Onyen in classroom[:, 1], points=1)\n",
    "check('Collaborators', Collaborators !=  [ 'list', 'their', 'onyens', 'here' ], points=1)"
   ]
  },
  {
   "cell_type": "markdown",
   "metadata": {
    "editable": false
   },
   "source": [
    "## Learning Objective\n",
    "\n",
    "In this assignment you'll define **functions** and then use them to define more advanced functions, and then use those for yet more advanced functions. You will apply functions multiple times (functional composition) and see the results.\n",
    "\n",
    "The problem domain of this assignment is binary images but **functions** are the subject. Don't worry about being asked on exams about image processing. \n",
    "\n",
    "Of course, you'll get further practice using the powerful array operations."
   ]
  },
  {
   "cell_type": "markdown",
   "metadata": {
    "editable": false
   },
   "source": [
    "# Introduction\n",
    "\n",
    "In this assignment you will create new functions in Python for processing simple binary images with a single bright object in the foreground, and a dark background. The foreground has intensity 1, and the background intensity 0, so at times it is convenient to think of the image as an matrix of boolean (True/False) data. The images for this assignment came from the [Laboratory for Engineering Man/Machine Systems at Brown University](https://www.brown.edu/research/labs/engineering-man-machine-systems/systems/).\n",
    "\n",
    "Below left is a binary image that shows a bright square in the dark background.\n",
    "\n",
    "<img src=\"files/BinaryImages.png\" />\n",
    "\n",
    "## Producing the images above\n",
    "\n",
    "Don't worry about being asked on exams about image processing.\n",
    "These examples are just here to help you visualize the processing that goes on to create an image.\n",
    "\n",
    "## Example images\n",
    "\n",
    "The cell below produces an example of creating the images above."
   ]
  },
  {
   "cell_type": "code",
   "execution_count": 4,
   "metadata": {
    "editable": false
   },
   "outputs": [
    {
     "data": {
      "text/plain": [
       "<matplotlib.image.AxesImage at 0x11e09fe80>"
      ]
     },
     "execution_count": 4,
     "metadata": {},
     "output_type": "execute_result"
    },
    {
     "data": {
      "image/png": "[encoded data removed]",
      "text/plain": [
       "<Figure size 144x144 with 1 Axes>"
      ]
     },
     "metadata": {
      "needs_background": "light"
     },
     "output_type": "display_data"
    },
    {
     "data": {
      "image/png": "[encoded data removed]",
      "text/plain": [
       "<Figure size 144x144 with 1 Axes>"
      ]
     },
     "metadata": {
      "needs_background": "light"
     },
     "output_type": "display_data"
    },
    {
     "data": {
      "image/png": "[encoded data removed]",
      "text/plain": [
       "<Figure size 144x144 with 1 Axes>"
      ]
     },
     "metadata": {
      "needs_background": "light"
     },
     "output_type": "display_data"
    }
   ],
   "source": [
    "pylab.figure(figsize=(2,2))\n",
    "pylab.title('3x3 black box')\n",
    "box = np.zeros(9).reshape(3,3)\n",
    "pylab.imshow(box, cmap=pylab.gray())\n",
    "\n",
    "pylab.figure(figsize=(2,2))\n",
    "pylab.title('box w/ center')\n",
    "white_center = np.zeros_like(box) # Create a box of zeros of the same dimension as `box`\n",
    "white_center = np.zeros(9).reshape(3,3)\n",
    "white_center[1,1] = 1\n",
    "pylab.imshow(white_center, cmap=pylab.gray())\n",
    "\n",
    "pylab.figure(figsize=(2,2))\n",
    "pylab.title('move to left')\n",
    "move_left = np.zeros_like(white_center)\n",
    "# Move white_center's to left\n",
    "move_left[:, :-1] = white_center[:, 1:]\n",
    "pylab.imshow(move_left, cmap=pylab.gray())"
   ]
  },
  {
   "cell_type": "markdown",
   "metadata": {
    "editable": false
   },
   "source": [
    "## Part 1: Scrolling the Image\n",
    "\n",
    "Much of the animation in old video games, like Pacman and Super Mario Brothers, consists of a foreground image scrolling across a fixed background. A few cells above and to the right is what the box image looks like after scrolling left and right, respectively. You can make the foreground in a binary image scroll by clever array indexing.\n",
    "Some of this scolling is demonstrated in the cell above.\n",
    "\n",
    "For this part of the assignment, you will create four different functions. Each function will take two parameters; the first is the binary image data, and the second is a number of pixels. Each function will return one value: the new binary image that is the same size as the input image. The names of the functions should be: scrollLeft, scrollRight, scrollUp, scrollDown and they should cause the foreground of the image parameter to move in the appropriate direction by the specified number of pixels. You may assume that the number of pixels specified in the second parameter is always smaller than the size of the image in the relevant direction. You should also assume that the background extends to infinity. When part of the image scrolls off of one side, you should create more 0s on the other side, so that the output image is the same size as the input image."
   ]
  },
  {
   "cell_type": "code",
   "execution_count": 5,
   "metadata": {
    "editable": false
   },
   "outputs": [
    {
     "data": {
      "text/plain": [
       "Text(0.5,1,'Test image')"
      ]
     },
     "execution_count": 5,
     "metadata": {},
     "output_type": "execute_result"
    },
    {
     "data": {
      "image/png": "[encoded data removed]",
      "text/plain": [
       "<Figure size 432x288 with 1 Axes>"
      ]
     },
     "metadata": {
      "needs_background": "light"
     },
     "output_type": "display_data"
    }
   ],
   "source": [
    "# This is a helper to load images\n",
    "# you won't need to modify it\n",
    "def load_binary_image(name):\n",
    "    '''Load a binary image from a file'''\n",
    "    im = pylab.imread(name)\n",
    "    if im.ndim == 3:\n",
    "        result = im[:, :, 0] != 0\n",
    "    elif im.ndim == 2:\n",
    "        result = im != 0\n",
    "    return result\n",
    "\n",
    "# and load and display the test image\n",
    "# don't change this\n",
    "test_image = load_binary_image('test.png')\n",
    "pylab.imshow(test_image, cmap=pylab.gray())\n",
    "pylab.title('Test image')"
   ]
  },
  {
   "cell_type": "code",
   "execution_count": 6,
   "metadata": {},
   "outputs": [],
   "source": [
    "#slicing an array (row, colomn)"
   ]
  },
  {
   "cell_type": "markdown",
   "metadata": {
    "editable": false
   },
   "source": [
    "## Write scroll functions"
   ]
  },
  {
   "cell_type": "markdown",
   "metadata": {
    "editable": false
   },
   "source": [
    "Prototypes for the functions you are to write are included below. **You will add code in each of the functions.**\n",
    "\n",
    "**Important note** The code you write inside these functions should only refer to the parameters `img` and `amt`; _never_ to the global variable `test_image`."
   ]
  },
  {
   "cell_type": "code",
   "execution_count": 7,
   "metadata": {},
   "outputs": [],
   "source": [
    "def scrollLeft(img, amt):\n",
    "    '''Return a new image that is the given image scrolled left by amt pixels'''\n",
    "    new = np.zeros_like(img)\n",
    "    new[:, :-amt] = img[:, amt:]\n",
    "    \n",
    "    # do something to fill in values in new here\n",
    "    return new\n",
    "\n",
    "def scrollRight(img, amt):\n",
    "    '''Return a new image that is the given image scrolled right by amt pixels'''\n",
    "    new = np.zeros_like(img)\n",
    "    # do something to fill in values in new here\n",
    "    new[:, amt:] = img[:, :-amt]\n",
    "    return new\n",
    "\n",
    "def scrollUp(img, amt):\n",
    "    '''Return a new image that is the given image scrolled up by amt pixels'''\n",
    "    new = np.zeros_like(img)\n",
    "    # do something to fill in values in new here\n",
    "    new[:-amt, :] = img[amt:, :]\n",
    "    return new\n",
    "\n",
    "\n",
    "def scrollDown(img, amt):\n",
    "    '''Return a new image that is the given image scrolled down by amt pixels'''\n",
    "    new = np.zeros_like(img)\n",
    "    # do something to fill in values in new here\n",
    "    new[amt:, :] = img[:-amt, :]\n",
    "    return new\n",
    "\n",
    "# This is a check to help prevent you from using global variables\n",
    "comp116.no_globals(scrollLeft, scrollRight, scrollUp, scrollDown)"
   ]
  },
  {
   "cell_type": "markdown",
   "metadata": {
    "editable": false
   },
   "source": [
    "After writing your functions, test them on the image provided with the assignment.\n",
    "\n",
    "Use your functions to produce the following results. We show a small sample of how your image should appear over to the right.\n",
    "\n",
    "<img src=\"files/sample1A.png\" style=\"float: right; height: 150px\" />\n",
    "\n",
    "### 1A. Scroll the image up by 10 pixels.\n",
    "\n",
    "There's no need to change any code in this cell.\n",
    "It will test scrollUp function you modified in\n",
    "the previous cell."
   ]
  },
  {
   "cell_type": "code",
   "execution_count": 8,
   "metadata": {},
   "outputs": [
    {
     "data": {
      "text/plain": [
       "<matplotlib.image.AxesImage at 0x11e2a7908>"
      ]
     },
     "execution_count": 8,
     "metadata": {},
     "output_type": "execute_result"
    },
    {
     "data": {
      "image/png": "[encoded data removed]",
      "text/plain": [
       "<Figure size 432x288 with 1 Axes>"
      ]
     },
     "metadata": {
      "needs_background": "light"
     },
     "output_type": "display_data"
    }
   ],
   "source": [
    "# we provide the code for you this time, no need to change\n",
    "# anythin in this cell.  It will test scrollUp defined in\n",
    "# the previous cell\n",
    "up10 = scrollUp(test_image, 10) # This calls your function from the previous cell\n",
    "\n",
    "# and display it so you can see your work\n",
    "pylab.imshow(up10, cmap=pylab.gray())"
   ]
  },
  {
   "cell_type": "code",
   "execution_count": 9,
   "metadata": {
    "editable": false
   },
   "outputs": [
    {
     "name": "stdout",
     "output_type": "stream",
     "text": [
      "Part 1A appears correct\n"
     ]
    }
   ],
   "source": [
    "check('Part 1A', up10, points=4)"
   ]
  },
  {
   "cell_type": "markdown",
   "metadata": {
    "editable": false
   },
   "source": [
    "<img src=\"files/sample1B.png\" style=\"float: right; height: 150px\" />\n",
    "\n",
    "### 1B. Scroll the result of part A down by 10 pixels.\n",
    "\n",
    "There's no need to change any code in this cell.\n",
    "It will test scrollDown function you modified in\n",
    "the previous cell."
   ]
  },
  {
   "cell_type": "code",
   "execution_count": 10,
   "metadata": {},
   "outputs": [
    {
     "data": {
      "text/plain": [
       "<matplotlib.image.AxesImage at 0x11e344940>"
      ]
     },
     "execution_count": 10,
     "metadata": {},
     "output_type": "execute_result"
    },
    {
     "data": {
      "image/png": "[encoded data removed]",
      "text/plain": [
       "<Figure size 432x288 with 1 Axes>"
      ]
     },
     "metadata": {
      "needs_background": "light"
     },
     "output_type": "display_data"
    }
   ],
   "source": [
    "# again we do the test for you\n",
    "# No need to change any code in this cell.\n",
    "updown10 = scrollDown(up10, 10)\n",
    "\n",
    "# and display it so we can see our work\n",
    "pylab.imshow(updown10, cmap=pylab.gray())"
   ]
  },
  {
   "cell_type": "code",
   "execution_count": 11,
   "metadata": {
    "editable": false
   },
   "outputs": [
    {
     "name": "stdout",
     "output_type": "stream",
     "text": [
      "Part 1B appears correct\n"
     ]
    }
   ],
   "source": [
    "check('Part 1B', updown10, points=4)"
   ]
  },
  {
   "cell_type": "markdown",
   "metadata": {
    "editable": false
   },
   "source": [
    "<img src=\"files/sample1C.png\" style=\"float: right; height: 150px\" />\n",
    "\n",
    "### 1C. Scroll the test image left by half of its width. \n",
    "\n",
    "**Note:** Do not hard code the width, you must extract it from the test_image in your code. I will test your submission with an image having different dimensions."
   ]
  },
  {
   "cell_type": "code",
   "execution_count": 12,
   "metadata": {},
   "outputs": [
    {
     "data": {
      "text/plain": [
       "<matplotlib.image.AxesImage at 0x11e39ab00>"
      ]
     },
     "execution_count": 12,
     "metadata": {},
     "output_type": "execute_result"
    },
    {
     "data": {
      "image/png": "[encoded data removed]",
      "text/plain": [
       "<Figure size 432x288 with 1 Axes>"
      ]
     },
     "metadata": {
      "needs_background": "light"
     },
     "output_type": "display_data"
    }
   ],
   "source": [
    "# this time you get to write the code\n",
    "# put code here to shift test_image to the left by half of its width using your scrollLeft function.\n",
    "\n",
    "leftByHalf = np.zeros_like(test_image) # replace this with a call to your scrollLeft\n",
    "amt = ((np.shape(test_image)[-1])//2)\n",
    "leftByHalf = scrollLeft(test_image,amt)\n",
    "\n",
    "    \n",
    "# and display it so we can see our work\n",
    "pylab.imshow(leftByHalf, cmap=pylab.gray())"
   ]
  },
  {
   "cell_type": "code",
   "execution_count": 13,
   "metadata": {
    "editable": false
   },
   "outputs": [
    {
     "name": "stdout",
     "output_type": "stream",
     "text": [
      "Part 1C appears correct\n"
     ]
    }
   ],
   "source": [
    "check('Part 1C', leftByHalf, points=4)"
   ]
  },
  {
   "cell_type": "markdown",
   "metadata": {
    "editable": false
   },
   "source": [
    "<img src=\"sample1D.png\" style=\"float: right; height: 150px\" />\n",
    "\n",
    "### 1D. Finally, scroll the result of the previous part back to the right by the same amount."
   ]
  },
  {
   "cell_type": "code",
   "execution_count": 14,
   "metadata": {},
   "outputs": [
    {
     "data": {
      "text/plain": [
       "<matplotlib.image.AxesImage at 0x11e4444e0>"
      ]
     },
     "execution_count": 14,
     "metadata": {},
     "output_type": "execute_result"
    },
    {
     "data": {
      "image/png": "[encoded data removed]",
      "text/plain": [
       "<Figure size 432x288 with 1 Axes>"
      ]
     },
     "metadata": {
      "needs_background": "light"
     },
     "output_type": "display_data"
    }
   ],
   "source": [
    "# put code here to shift the leftByHalf image produced above back to the right by the same amount \n",
    "# using your scrollRight function.\n",
    "\n",
    "rightByHalf = np.zeros_like(test_image) # replace this with your code\n",
    "\n",
    "rightByHalf = scrollRight(leftByHalf,amt)\n",
    "\n",
    "# and display it so we can see our work\n",
    "pylab.imshow(rightByHalf, cmap=pylab.gray())"
   ]
  },
  {
   "cell_type": "code",
   "execution_count": 15,
   "metadata": {
    "editable": false
   },
   "outputs": [
    {
     "name": "stdout",
     "output_type": "stream",
     "text": [
      "Part 1D appears correct\n"
     ]
    }
   ],
   "source": [
    "check('Part 1D', rightByHalf, points=5)"
   ]
  },
  {
   "cell_type": "markdown",
   "metadata": {
    "editable": false
   },
   "source": [
    "# Part 2: Boundary Detector\n",
    "\n",
    "A common image-processing task is to identify the boundary (outline) of an object. Conceptually the boundary is the set of all pixels in the foreground that are adjacent to the background. Here is an image of a dachshund and another image of its boundary.\n",
    "\n",
    "<img src=\"files/BinaryBoundary.png\" />\n",
    "\n",
    "We can use the scrolling functions from the first part of this assignment to determine if a pixel is on the object boundary or not. Suppose that image is I, and LI is the result of the command:\n",
    "\n",
    "    LI = scrollLeft(I, 1).\n",
    "\n",
    "A pixel, [i,j] is on the right edge of the boundary if and only if I[i,j] is foreground and LI[i,j] is background. You can use the other scrolling functions from part 1 to identify the pixels on the other sides of the boundary. Combine these tests together with the correct logical operator, and you will be able to identify the entire boundary of the object. For this part of the assignment you will write one function that has one input parameter: a binary image, and returns a single value, a new binary image, where only the edge of the original object is in the foreground. (The boundary images you produce will have only black and white intensities.) You should name this function `findBoundary`.\n",
    "\n",
    "**Note:** Do not refer to the global variable `test_image` inside your function. You must only operate on the parameter `img`.\n",
    "\n",
    "**Hint:** Assume A and B are binary images (boolean arrays) with the same shape. The operation `A & B` produces `True` at pixels where both A and B are `True`. `A | B` produces `True` at pixels where either A or B are `True`. `~A` turns `True` into `False` and `False` into `True`.\n"
   ]
  },
  {
   "cell_type": "code",
   "execution_count": 16,
   "metadata": {},
   "outputs": [],
   "source": [
    "def findBoundary(img):\n",
    "    '''Return an image that is one for boundary pixels and zero elsewhere'''\n",
    "\n",
    "    # compute the result of finding the boundary here\n",
    "    result = np.zeros_like(img) # result should be the same size as the img\n",
    "    result = (~scrollLeft(img,1) & img) | (~scrollRight(img,1) & img) | (~scrollUp(img,1) & img) | (~scrollDown(img,1) & img)\n",
    "    return result\n",
    "\n",
    "# check to be sure you didn't use a global variable\n",
    "comp116.no_globals(findBoundary)"
   ]
  },
  {
   "cell_type": "markdown",
   "metadata": {
    "editable": false
   },
   "source": [
    "<img src=\"files/sample2.png\" style=\"float: right; height: 150px\" />\n",
    "\n",
    "Now we can test your function. Your result should look like the sample to the right."
   ]
  },
  {
   "cell_type": "code",
   "execution_count": 17,
   "metadata": {},
   "outputs": [
    {
     "data": {
      "text/plain": [
       "<matplotlib.image.AxesImage at 0x11e06c128>"
      ]
     },
     "execution_count": 17,
     "metadata": {},
     "output_type": "execute_result"
    },
    {
     "data": {
      "image/png": "[encoded data removed]",
      "text/plain": [
       "<Figure size 432x288 with 1 Axes>"
      ]
     },
     "metadata": {
      "needs_background": "light"
     },
     "output_type": "display_data"
    }
   ],
   "source": [
    "# we'll call the function (no need to change this)\n",
    "boundary = findBoundary(test_image)\n",
    "# and display the result\n",
    "pylab.imshow(boundary, cmap=pylab.gray())"
   ]
  },
  {
   "cell_type": "code",
   "execution_count": 18,
   "metadata": {
    "editable": false
   },
   "outputs": [
    {
     "name": "stdout",
     "output_type": "stream",
     "text": [
      "Part 2 appears correct\n"
     ]
    }
   ],
   "source": [
    "check('Part 2', boundary, points=30)"
   ]
  },
  {
   "cell_type": "markdown",
   "metadata": {
    "editable": false
   },
   "source": [
    "### Part 3: Dilate and Erode\n",
    "\n",
    "Two other famous image processing operations are dilate and erode. Dilate makes the foreground grow into the background, and erode makes the foreground shrink, as if the background were washing it away. Here is an example showing the dilation and erosion of an image of a robot. The original image in the center is from the collection at Brown. The eroded image is on the left, and the dilated image is on the right.\n",
    "\n",
    "<img src=\"files/BinaryDilateErode.png\" />\n",
    "\n",
    "It is easy to erode an image – just change the intensity of the boundary from 1 to 0. To dilate an image use a process similar to that you used to find the boundary to smear the image left, right, up, and down. For this problem you must write two, functions, each of which takes an image as an input, and returns a new image as its output. Name these functions `dilateImage` and `erodeImage`."
   ]
  },
  {
   "cell_type": "code",
   "execution_count": 19,
   "metadata": {},
   "outputs": [],
   "source": [
    "def findBoundary1(img):\n",
    "    '''Return an image that is one for boundary pixels and zero elsewhere'''\n",
    "\n",
    "    # compute the result of finding the boundary here\n",
    "    result = np.zeros_like(img) # result should be the same size as the img\n",
    "    result = (scrollLeft(img,1) & ~img) | (scrollRight(img,1) & ~img) | (scrollUp(img,1) & ~img) | (scrollDown(img,1) & ~img)\n",
    "    return result\n",
    "\n",
    "# check to be sure you didn't use a global variable\n",
    "comp116.no_globals(findBoundary1)"
   ]
  },
  {
   "cell_type": "code",
   "execution_count": 20,
   "metadata": {},
   "outputs": [],
   "source": [
    "# prototypes for your functions\n",
    "\n",
    "def dilateImage(img):\n",
    "    '''Return an image that is the dilation of the input img'''\n",
    "    result = (findBoundary1(img) | img)\n",
    "    # compute the dilation here and return it below\n",
    "    return result\n",
    "\n",
    "\n",
    "def erodeImage(img):\n",
    "    '''Return an image that is the erosion of the input img'''\n",
    "    result = (~findBoundary(img) & img) # replace this with your code\n",
    "    # compute the value of the erosion and return it below\n",
    "    return result\n",
    "\n",
    "comp116.no_globals(dilateImage, erodeImage)"
   ]
  },
  {
   "cell_type": "markdown",
   "metadata": {
    "editable": false
   },
   "source": [
    "And we can test these two functions by applying them in several ways.\n",
    "\n",
    "<img src=\"files/sample3A.png\" style=\"float: right; height: 150px\" />\n",
    "\n",
    "**3A.** Dilate the original image, and then dilate that result, and then dilate that result as well. Display the final result.\n"
   ]
  },
  {
   "cell_type": "code",
   "execution_count": 21,
   "metadata": {},
   "outputs": [
    {
     "data": {
      "text/plain": [
       "<matplotlib.image.AxesImage at 0x11e038da0>"
      ]
     },
     "execution_count": 21,
     "metadata": {},
     "output_type": "execute_result"
    },
    {
     "data": {
      "image/png": "[encoded data removed]",
      "text/plain": [
       "<Figure size 432x288 with 1 Axes>"
      ]
     },
     "metadata": {
      "needs_background": "light"
     },
     "output_type": "display_data"
    }
   ],
   "source": [
    "D3 = dilateImage(dilateImage(dilateImage(test_image)))\n",
    "pylab.imshow(D3, cmap=pylab.gray())"
   ]
  },
  {
   "cell_type": "code",
   "execution_count": 22,
   "metadata": {
    "editable": false
   },
   "outputs": [
    {
     "name": "stdout",
     "output_type": "stream",
     "text": [
      "Part 3A appears correct\n"
     ]
    }
   ],
   "source": [
    "check('Part 3A', D3, points=10)"
   ]
  },
  {
   "cell_type": "markdown",
   "metadata": {
    "editable": false
   },
   "source": [
    "<img src=\"files/sample3B.png\" style=\"float: right; height: 150px\" />\n",
    "\n",
    "**3B.** Erode the original image, and then erode that result, and then erode that result also. Show the final result. \n",
    "\n",
    "This time you write the code below by replacing the `np.zeros_like(test_image)` with appropriate nested function calls as in the previous part."
   ]
  },
  {
   "cell_type": "code",
   "execution_count": 23,
   "metadata": {},
   "outputs": [
    {
     "data": {
      "text/plain": [
       "<matplotlib.image.AxesImage at 0x11e53fa58>"
      ]
     },
     "execution_count": 23,
     "metadata": {},
     "output_type": "execute_result"
    },
    {
     "data": {
      "image/png": "[encoded data removed]",
      "text/plain": [
       "<Figure size 432x288 with 1 Axes>"
      ]
     },
     "metadata": {
      "needs_background": "light"
     },
     "output_type": "display_data"
    }
   ],
   "source": [
    "E3 = erodeImage(erodeImage(erodeImage(test_image))) # replace this with your code\n",
    "pylab.imshow(E3, cmap=pylab.gray())"
   ]
  },
  {
   "cell_type": "code",
   "execution_count": 24,
   "metadata": {
    "editable": false
   },
   "outputs": [
    {
     "name": "stdout",
     "output_type": "stream",
     "text": [
      "Part 3B appears correct\n"
     ]
    }
   ],
   "source": [
    "check('Part 3B', E3, points=10)"
   ]
  },
  {
   "cell_type": "markdown",
   "metadata": {
    "editable": false
   },
   "source": [
    "<img src=\"files/sample3C.png\" style=\"float: right; height: 150px\" />\n",
    "\n",
    "**3C.** Take the image you just produced – the result of three consecutive erosions. Now apply three consecutive dilations to it."
   ]
  },
  {
   "cell_type": "code",
   "execution_count": 25,
   "metadata": {},
   "outputs": [
    {
     "data": {
      "text/plain": [
       "<matplotlib.image.AxesImage at 0x10cf2c6d8>"
      ]
     },
     "execution_count": 25,
     "metadata": {},
     "output_type": "execute_result"
    },
    {
     "data": {
      "image/png": "[encoded data removed]",
      "text/plain": [
       "<Figure size 432x288 with 1 Axes>"
      ]
     },
     "metadata": {
      "needs_background": "light"
     },
     "output_type": "display_data"
    }
   ],
   "source": [
    "E3D3 = dilateImage(dilateImage(dilateImage(E3))) # replace this with your code\n",
    "pylab.imshow(E3D3, cmap=pylab.gray())"
   ]
  },
  {
   "cell_type": "code",
   "execution_count": 26,
   "metadata": {
    "editable": false
   },
   "outputs": [
    {
     "name": "stdout",
     "output_type": "stream",
     "text": [
      "Part 3C appears correct\n"
     ]
    }
   ],
   "source": [
    "check('Part 3C', E3D3, points=10)"
   ]
  },
  {
   "cell_type": "markdown",
   "metadata": {
    "editable": false
   },
   "source": [
    "<img src=\"files/sample3D.png\" style=\"float: right; height: 150px\" />\n",
    "\n",
    "**3D.** Find the boundary of the original image, and then dilate the boundary image."
   ]
  },
  {
   "cell_type": "code",
   "execution_count": 27,
   "metadata": {},
   "outputs": [
    {
     "data": {
      "text/plain": [
       "<matplotlib.image.AxesImage at 0x11e574320>"
      ]
     },
     "execution_count": 27,
     "metadata": {},
     "output_type": "execute_result"
    },
    {
     "data": {
      "image/png": "[encoded data removed]",
      "text/plain": [
       "<Figure size 432x288 with 1 Axes>"
      ]
     },
     "metadata": {
      "needs_background": "light"
     },
     "output_type": "display_data"
    }
   ],
   "source": [
    "DB = dilateImage(findBoundary(test_image)) # replace this\n",
    "pylab.imshow(DB, cmap=pylab.gray())"
   ]
  },
  {
   "cell_type": "code",
   "execution_count": 28,
   "metadata": {
    "editable": false
   },
   "outputs": [
    {
     "name": "stdout",
     "output_type": "stream",
     "text": [
      "Part 3D appears correct\n"
     ]
    }
   ],
   "source": [
    "check('Part 3D', DB, points=10)"
   ]
  },
  {
   "cell_type": "markdown",
   "metadata": {
    "editable": false
   },
   "source": [
    "<img src=\"files/sample3E.png\" style=\"float: right; height: 150px\" />\n",
    "\n",
    "**3E.** Then take the original image, dilate it once, and then find its boundary."
   ]
  },
  {
   "cell_type": "code",
   "execution_count": 29,
   "metadata": {},
   "outputs": [
    {
     "data": {
      "text/plain": [
       "<matplotlib.image.AxesImage at 0x11e5c3f98>"
      ]
     },
     "execution_count": 29,
     "metadata": {},
     "output_type": "execute_result"
    },
    {
     "data": {
      "image/png": "[encoded data removed]",
      "text/plain": [
       "<Figure size 432x288 with 1 Axes>"
      ]
     },
     "metadata": {
      "needs_background": "light"
     },
     "output_type": "display_data"
    }
   ],
   "source": [
    "BD = findBoundary(dilateImage(test_image)) # replace this\n",
    "pylab.imshow(BD, cmap=pylab.gray())"
   ]
  },
  {
   "cell_type": "code",
   "execution_count": 30,
   "metadata": {
    "editable": false
   },
   "outputs": [
    {
     "name": "stdout",
     "output_type": "stream",
     "text": [
      "Part 3E appears correct\n"
     ]
    }
   ],
   "source": [
    "check('Part 3E', BD, points=10)"
   ]
  },
  {
   "cell_type": "markdown",
   "metadata": {
    "editable": false
   },
   "source": [
    "## Hints\n",
    "\n",
    "1. **Global Variables.** Just say no to global variables. You should NOT be referring to test_image in your function bodies. You should only operate on img parameter in the function. If you use test_image in your function body you won't get the right answer when you try to apply it to other images. I've also seen this mistake with boundary; several of you are reusing it in your erode function. You have to compute the boundary of the img argument which will be different from test_image in later steps.\n",
    "2. **Comparisons to 1 or 0.** Don't compare these images to 0 or 1 like img == 1 or img != 0. There is no need. These things are already True or False.\n",
    "3. **Adding Images.** Don't combine images (boundaries for example) using addition. You must use the logical or operator \"|\" to combine them. Addition will look sort of like it works but it doesn't do the right thing.\n",
    "4. **Clearing Pixels.** The trick to clearing all the pixels on the boundary is to use logical and (&) with the complement of the boundary image."
   ]
  },
  {
   "cell_type": "markdown",
   "metadata": {
    "editable": false
   },
   "source": [
    "## Done!\n",
    "<img src=\"restartAndClearOutput.png\" width=\"300\" style=\"float: right\" />\n",
    "\n",
    "Now go back, restart the kernel (menu <font color=\"green\">Kernel</font>-><font color=\"green\">Restart and Clear</font>), and then Shift-Enter your way through the notebook to run all the cells again so you an be sure all your code will work as you expect during grading."
   ]
  },
  {
   "cell_type": "markdown",
   "metadata": {
    "editable": false
   },
   "source": [
    "## Saving your work\n",
    "<img src=\"saveAndCheckpoint.png\" width=\"300\" style=\"float: right\" />\n",
    "\n",
    "Now save your work by going to (menu <font color='green'>File</font>-><font color='green'>Save and Checkpoint</font>)"
   ]
  },
  {
   "cell_type": "code",
   "execution_count": 31,
   "metadata": {
    "editable": false
   },
   "outputs": [
    {
     "name": "stdout",
     "output_type": "stream",
     "text": [
      "Collaborators appears correct\n",
      "Onyen appears correct\n",
      "Part 1A appears correct\n",
      "Part 1B appears correct\n",
      "Part 1C appears correct\n",
      "Part 1D appears correct\n",
      "Part 2 appears correct\n",
      "Part 3A appears correct\n",
      "Part 3B appears correct\n",
      "Part 3C appears correct\n",
      "Part 3D appears correct\n",
      "Part 3E appears correct\n",
      "Section appears correct\n",
      "Report for mdubois6\n",
      "The submit button for the assignment is in the unlocker notebook\n"
     ]
    },
    {
     "name": "stderr",
     "output_type": "stream",
     "text": [
      "You must fill in the collaborators variable before you can submit your work.\n"
     ]
    }
   ],
   "source": [
    "# don't change this, the values come from the first cell of this notebook.\n",
    "report(Onyen, Collaborators)\n",
    "print('The submit button for the assignment is in the unlocker notebook')"
   ]
  },
  {
   "cell_type": "markdown",
   "metadata": {
    "editable": false
   },
   "source": [
    "## Close this notebook and then go back to the AssignmentUnlocker\n",
    "<img src=\"closeAndHalt.png\" width=\"300\" style=\"float: right\" />\n",
    "\n",
    "Before going back to the AssignmentUnlocker and submit your work, you'll need to go close this\n",
    "notebook (menu <font color='green'>File</font>-><font color='green'>Close and Halt</font>.)\n",
    "\n",
    "\n",
    "Note that if you actually saved your work you should not see the leaving site message below.\n",
    "If you do see the `Leave Site` warning, cancel and save your work again.\n",
    "<br />\n",
    "<img src=\"leaveSite.png\" width=\"300\" style=\"float: left\" />"
   ]
  }
 ],
 "metadata": {
  "kernelspec": {
   "display_name": "Python 3",
   "language": "python",
   "name": "python3"
  },
  "language_info": {
   "codemirror_mode": {
    "name": "ipython",
    "version": 3
   },
   "file_extension": ".py",
   "mimetype": "text/x-python",
   "name": "python",
   "nbconvert_exporter": "python",
   "pygments_lexer": "ipython3",
   "version": "3.7.0"
  }
 },
 "nbformat": 4,
 "nbformat_minor": 1
}
