{
 "cells": [
  {
   "cell_type": "markdown",
   "metadata": {
    "editable": false
   },
   "source": [
    "<img src=\"https://comp116sp19.cs.unc.edu/images/COMP116Logo.png\" style=\"display:inline; width:200px\" />\n",
    "\n",
    "# Assignment 4 Estimating Statistical Significance\n",
    "\n",
    "\n",
    "This NASA post, <a href=\"http://www.nasa.gov/topics/earth/features/midweek_rainfall.html\">NASA Data Link Pollution to Rainy Summer Days in the Southeast</a>, claims that in the southeastern US it rains more Tuesday through Thursday than it does Saturday through Monday. The presence of a seven-day cycle in the weather is \"eerie\" evidence that human activity influences the weather.\n",
    "\n",
    "Your mission in this assignment is to see if you can validate their claim using data from the instruments at RDU airport. To quote from the article:\n",
    "\n",
    ">Rainfall measurements collected from ground-based gauges can vary from one gauge site to the next because of fickle weather patterns. So, to identify any kind of significant weekly rainfall trend, Bell and colleagues looked at the big picture from Earth's orbit.\n",
    "\n",
    "We are not really equipped to confirm or refute their claim but we're in the southeast, and have some data, let's see what we can do.\n",
    "\n",
    "I have collected 10 years of data into a single file, `krdu-2001-2010.csv`, in a format suitable for use with np.loadtxt(). These data have 4 columns; year, month, day, and rainfall in inches.\n",
    "\n",
    "First, you should read these posts by Allen Downey:\n",
    "\n",
    "1. <a href=\"http://allendowney.blogspot.com/2011/05/there-is-only-one-test.html\">There is only one test!</a>\n",
    "2. <a href=\"http://allendowney.blogspot.com/2011/06/more-hypotheses-less-trivia.html\">More hypotheses, less trivia.</a> Pay special attention to the paragraph <b>Permutation</b> under <b>Difference in means</b>. You shouldn't use his code; write your own.\n",
    "\n",
    "## Learning objectives\n",
    "\n",
    "The goal of this assignment is to give you more experience writing functions with loops and to expose you to an important use of computers in science.\n",
    "\n",
    "## What to do\n",
    "\n",
    "1. Read the data.\n",
    "2. Determine the days of the week from the dates. (You can't just slice the array)\n",
    "3. Write a function to get the average daily rainfall during midweek (Tuesday through Thursday) and weekend (Thursday through Monday).  Treat Friday as neither a weekday nor weekend.\n",
    "4. Report the average rainfall for midweek and weekend, and their difference (delta). I provide a check for this so you can be sure you're on the right track.\n",
    "5. Determine and report the p value (the likelihood that the effect is not real) by simulation. You'll need to first, compute the delta which in our case is the difference between the means for midweek and weekend. Then you'll run the function many times, each time permuting the day labels, and counting the number of times that the difference between the new means is greater than delta. Now divide that count by the number of trials you ran. That will be the p value. If count is 0, that means you didn't find even a single permutation that produced a greater difference in means; the effect is very likely real. On the other hand, if count is huge, then there were many permutations that produced greater differences, so the difference is likely just random.\n"
   ]
  },
  {
   "cell_type": "markdown",
   "metadata": {
    "editable": false
   },
   "source": [
    "# Notes\n",
    "\n",
    "## Datetime tip\n",
    "\n",
    "\n",
    "\n",
    "**1)** The <a href=\"https://docs.python.org/3.5/library/datetime.html#datetime.date.weekday\"><b>weekday</b></a> method of the <b>date</b> class from the <b>datetime</b> module will be useful for getting the day of the week from the date. **Note:** The `weekday()` method returns `0` for Monday, `1` for Tuesday, `2` for Wednesday, etc until `6` for Sunday.\n",
    "\n",
    "The date class knows nothing about numpy so you'll need to use a loop to process all the days. Also your data will be floats but the date function insists on ints; you'll need to use the int() function to convert them to int. \n",
    "\n",
    "\n",
    "You use it like this:\n"
   ]
  },
  {
   "cell_type": "code",
   "execution_count": 1,
   "metadata": {},
   "outputs": [
    {
     "name": "stdout",
     "output_type": "stream",
     "text": [
      "2000-01-01 5 5\n"
     ]
    }
   ],
   "source": [
    "from datetime import date\n",
    "\n",
    "# later in your code when you want to determine the day of the week\n",
    "# you create a date object from a year, month, and day.\n",
    "# I'll fake up a year, month, and day so we can see it work\n",
    "year = 2000\n",
    "month = 1\n",
    "day = 1\n",
    "do = date(year, month, day)\n",
    "# and use its weekday method\n",
    "day1 = do.weekday()\n",
    "\n",
    "# or do it all in one step\n",
    "day2 = date(year, month, day).weekday()\n",
    "\n",
    "print(do, day1, day2)"
   ]
  },
  {
   "cell_type": "markdown",
   "metadata": {
    "editable": false
   },
   "source": [
    "I would highly recommend that you copy the above cell and play with datetime.\n",
    "For example, what day of the week were you born on?\n",
    "When is the next Friday the 13th?"
   ]
  },
  {
   "cell_type": "markdown",
   "metadata": {
    "editable": false
   },
   "source": [
    "## Random permutations of numbers\n",
    "\n",
    "**2)** The <a href=\"http://docs.scipy.org/doc/numpy/reference/generated/numpy.random.permutation.html\"> `np.random.permutation`</a> function will be useful for permuting the data.\n",
    "For example, let's assume you had an NumPy array of 10 numbers, 0, 1, 2, ... 9.\n",
    "But you want them in some random order.\n",
    "\n",
    "You use it like this:"
   ]
  },
  {
   "cell_type": "code",
   "execution_count": 2,
   "metadata": {},
   "outputs": [
    {
     "data": {
      "text/plain": [
       "array([8, 2, 5, 6, 3, 1, 0, 7, 4, 9])"
      ]
     },
     "execution_count": 2,
     "metadata": {},
     "output_type": "execute_result"
    }
   ],
   "source": [
    "# first I'll create some array I want to shuffle.\n",
    "import numpy as np\n",
    "np.random.seed(10) # Only used so we all get the same result in class\n",
    "\n",
    "A = np.arange(10)\n",
    "B = np.random.permutation(A)\n",
    "B"
   ]
  },
  {
   "cell_type": "markdown",
   "metadata": {
    "editable": false
   },
   "source": [
    "## Time required for submission\n",
    "\n",
    "**3)** You'll need to use a loop to run your simulation many times. I found that 1000 trials gives a faily stable result and doesn't require too long to run (good for debugging). Feel free to play with larger numbers but **I will time limit your submissions and assume they failed if they require more than 30 seconds to run on my computer**. \n",
    "\n",
    "You can use the time package to determine the time your program took to execute."
   ]
  },
  {
   "cell_type": "code",
   "execution_count": 3,
   "metadata": {},
   "outputs": [
    {
     "name": "stdout",
     "output_type": "stream",
     "text": [
      "A sleep( 5 ) took 5.000861167907715 seconds!\n"
     ]
    }
   ],
   "source": [
    "import time\n",
    "\n",
    "# Get the start time\n",
    "t0 = time.time()\n",
    "\n",
    "# Now sleep for 5 seconds\n",
    "length = 5\n",
    "time.sleep( length )\n",
    "\n",
    "# Now check how long it took\n",
    "print('A sleep(', length, ') took', time.time() - t0, 'seconds!')"
   ]
  },
  {
   "cell_type": "markdown",
   "metadata": {
    "editable": false
   },
   "source": [
    "## Checks\n",
    "\n",
    "Since I'm not writing a lot of code for you, I can't give you the usual super structured checks.  I'm going to give you some very general ones to help keep you on track. You'll be responsible for making sure you put your various results into the correct variable names.\n",
    "\n",
    "You should *play* with the data.\n",
    "For example, you can add to every weekday's rain amount and see what happens.\n",
    "There are checks in here, but you should make sure your program works by playing with the data.\n",
    "\n",
    "**4)** I confirmed my intuition about how this should work by tweaking the data. For example, if I add 0.1 inches of rain to every Tuesday, the p value drops to zero (very significant) but if I replace the rainfall with random numbers it rises to near 0.5 (not significant at all)."
   ]
  },
  {
   "cell_type": "markdown",
   "metadata": {
    "editable": false
   },
   "source": [
    "## Setup\n",
    "\n",
    "Set up the environment for the assignment."
   ]
  },
  {
   "cell_type": "code",
   "execution_count": 4,
   "metadata": {
    "editable": false
   },
   "outputs": [],
   "source": [
    "%matplotlib inline\n",
    "import numpy as np\n",
    "import pylab\n",
    "import time\n",
    "from datetime import date\n",
    "import comp116\n",
    "check, report = comp116.start('A4')"
   ]
  },
  {
   "cell_type": "code",
   "execution_count": 5,
   "metadata": {},
   "outputs": [],
   "source": [
    "# fill in your onyen (not PID) here\n",
    "Author = 'mdubois6'\n",
    "Collaborators = []"
   ]
  },
  {
   "cell_type": "code",
   "execution_count": 6,
   "metadata": {
    "editable": false
   },
   "outputs": [
    {
     "name": "stdout",
     "output_type": "stream",
     "text": [
      "0.1: Author filled in appears correct\n",
      "0.2: Collaborators filled in appears correct\n"
     ]
    }
   ],
   "source": [
    "check('0.1: Author filled in', Author != 'youronyen', points=1)\n",
    "check('0.2: Collaborators filled in', Collaborators != ['list', 'their', 'onyens', 'here'], points=1)"
   ]
  },
  {
   "cell_type": "markdown",
   "metadata": {
    "editable": false
   },
   "source": [
    "## Read the data\n",
    "\n",
    "First you should read the data. The delimiter is comma."
   ]
  },
  {
   "cell_type": "code",
   "execution_count": 7,
   "metadata": {},
   "outputs": [],
   "source": [
    "\n",
    "# Read the file krdu-2001-2010.csv which is comma delimited\n",
    "# Store the data in data\n",
    "data = np.loadtxt('krdu-2001-2010.csv',delimiter = ',')"
   ]
  },
  {
   "cell_type": "code",
   "execution_count": 8,
   "metadata": {
    "editable": false
   },
   "outputs": [
    {
     "name": "stdout",
     "output_type": "stream",
     "text": [
      "1: data appears correct\n"
     ]
    }
   ],
   "source": [
    "check('1: data', data, points=8)"
   ]
  },
  {
   "cell_type": "markdown",
   "metadata": {
    "editable": false
   },
   "source": [
    "## Compute the day of the week\n",
    "\n",
    "Then work out the day of the week for each date (0 is Monday)"
   ]
  },
  {
   "cell_type": "code",
   "execution_count": 9,
   "metadata": {},
   "outputs": [
    {
     "ename": "ValueError",
     "evalue": "year 0 is out of range",
     "output_type": "error",
     "traceback": [
      "\u001b[0;31m---------------------------------------------------------------------------\u001b[0m",
      "\u001b[0;31mValueError\u001b[0m                                Traceback (most recent call last)",
      "\u001b[0;32m<ipython-input-9-8e9f34617ccf>\u001b[0m in \u001b[0;36m<module>\u001b[0;34m()\u001b[0m\n\u001b[1;32m      9\u001b[0m     \u001b[0mmonth\u001b[0m \u001b[0;34m=\u001b[0m \u001b[0mint\u001b[0m\u001b[0;34m(\u001b[0m\u001b[0mdata\u001b[0m\u001b[0;34m[\u001b[0m\u001b[0mday\u001b[0m\u001b[0;34m]\u001b[0m\u001b[0;34m[\u001b[0m\u001b[0;36m1\u001b[0m\u001b[0;34m]\u001b[0m\u001b[0;34m)\u001b[0m\u001b[0;34m\u001b[0m\u001b[0m\n\u001b[1;32m     10\u001b[0m     \u001b[0mday1\u001b[0m \u001b[0;34m=\u001b[0m \u001b[0mint\u001b[0m\u001b[0;34m(\u001b[0m\u001b[0mdata\u001b[0m\u001b[0;34m[\u001b[0m\u001b[0mday\u001b[0m\u001b[0;34m]\u001b[0m\u001b[0;34m[\u001b[0m\u001b[0;36m2\u001b[0m\u001b[0;34m]\u001b[0m\u001b[0;34m)\u001b[0m\u001b[0;34m\u001b[0m\u001b[0m\n\u001b[0;32m---> 11\u001b[0;31m     \u001b[0mdayOfWeek\u001b[0m\u001b[0;34m[\u001b[0m\u001b[0mday\u001b[0m\u001b[0;34m]\u001b[0m \u001b[0;34m=\u001b[0m \u001b[0;34m(\u001b[0m\u001b[0mdate\u001b[0m\u001b[0;34m(\u001b[0m\u001b[0myear\u001b[0m\u001b[0;34m,\u001b[0m\u001b[0mmonth\u001b[0m\u001b[0;34m,\u001b[0m\u001b[0mday1\u001b[0m\u001b[0;34m)\u001b[0m\u001b[0;34m.\u001b[0m\u001b[0mweekday\u001b[0m\u001b[0;34m(\u001b[0m\u001b[0;34m)\u001b[0m\u001b[0;34m)\u001b[0m\u001b[0;34m\u001b[0m\u001b[0m\n\u001b[0m\u001b[1;32m     12\u001b[0m \u001b[0mdayOfWeek\u001b[0m \u001b[0;34m=\u001b[0m \u001b[0mnp\u001b[0m\u001b[0;34m.\u001b[0m\u001b[0marray\u001b[0m\u001b[0;34m(\u001b[0m\u001b[0mdayOfWeek\u001b[0m\u001b[0;34m)\u001b[0m\u001b[0;34m\u001b[0m\u001b[0m\n\u001b[1;32m     13\u001b[0m \u001b[0;31m#print(dayOfWeek)\u001b[0m\u001b[0;34m\u001b[0m\u001b[0;34m\u001b[0m\u001b[0m\n",
      "\u001b[0;31mValueError\u001b[0m: year 0 is out of range"
     ]
    }
   ],
   "source": [
    "# leave your result in dayOfWeek which will be a\n",
    "# NumPy array that has as many rows as data but\n",
    "# the datetime.weekday() of the date in the corresponding\n",
    "# row of data's first three columns (column with index 0, 1, 2)\n",
    "\n",
    "dayOfWeek = np.zeros(len(data), dtype=int)\n",
    "for day in range(len(data)): # Walk through each year 2000 through 2100\n",
    "    year = int(data[day][0])\n",
    "    month = int(data[day][1])\n",
    "    day1 = int(data[day][2])\n",
    "    dayOfWeek[day] = (date(year,month,day1).weekday())\n",
    "dayOfWeek = np.array(dayOfWeek)\n",
    "#print(dayOfWeek)\n",
    "\n",
    "print('The length of dayOfWeek is', len(dayOfWeek), 'which should equal the length of data[:, 0]', len(data))"
   ]
  },
  {
   "cell_type": "code",
   "execution_count": null,
   "metadata": {
    "editable": false
   },
   "outputs": [],
   "source": [
    "check('2: days of week', dayOfWeek, points=20)"
   ]
  },
  {
   "cell_type": "markdown",
   "metadata": {
    "editable": false
   },
   "source": [
    "## Compute rainfall amounts\n",
    "\n",
    "Write a function that takes two arguments, an array of day numbers and\n",
    "an array of rainfall amounts and returns the midweek and weekend rain as\n",
    "defined by the NASA researchers. Remember you can return multiple results\n",
    "by packing them into a tuple.\n",
    "\n",
    "I **strongly recommend** using numpy array boolean functions to group your days\n",
    "into midweek and weekend; looping is likely to be too slow when you\n",
    "call your function thousands of times in the next part.\n",
    "You should not write a for loop that tests if each item!\n",
    "\n"
   ]
  },
  {
   "cell_type": "code",
   "execution_count": null,
   "metadata": {},
   "outputs": [],
   "source": [
    "# Put the code for your function here\n",
    "\n",
    "def rainfallamts (days,rain):\n",
    "    midwk = []\n",
    "    wkend = []\n",
    "    for day in range(len(days)):\n",
    "        if days[day] > 4 or days[day] == 0:    \n",
    "            wkend.append(rain[day])\n",
    "        if days[day] > 0 and days[day] < 4:\n",
    "            midwk.append(rain[day]) \n",
    "    # now call your function and store the returned values in variables midwk\n",
    "    # and wkend\n",
    "    \n",
    "    return np.average(midwk), np.average(wkend)\n",
    "\n",
    "# then compute their difference in variable delta\n",
    "\n",
    "midwk, wkend = rainfallamts(dayOfWeek,data[:,3])                     \n",
    "\n",
    "\n",
    "delta = midwk - wkend \n",
    "\n",
    "print('It rained', midwk, 'inches mid week')\n",
    "print('It rained', wkend, 'inches weekend')\n",
    "print('Difference was', delta, 'inches')"
   ]
  },
  {
   "cell_type": "code",
   "execution_count": null,
   "metadata": {
    "editable": false
   },
   "outputs": [],
   "source": [
    "check('3: mid wk rain', midwk, points=15)\n",
    "check('4: wk end rain', wkend, points=15)\n",
    "check('5: difference', delta, points=15)"
   ]
  },
  {
   "cell_type": "markdown",
   "metadata": {
    "editable": false
   },
   "source": [
    "## Test the null hypothesis\n",
    "\n",
    "Now that you can determine the weekday rain amount and weekend rain amount, we can\n",
    "finally test the null hypothesis that the day labeling is random\n",
    "by running your function many times with different permutations of the days\n",
    "and counting how many times the difference between the means is greater than the delta\n",
    "you computed above."
   ]
  },
  {
   "cell_type": "code",
   "execution_count": null,
   "metadata": {},
   "outputs": [],
   "source": [
    "N = 1000 # number of trials, you can experiment with this\n",
    "count = 0 # number of permutations that produced greater difference than delta\n",
    "\n",
    "p = 0.0 # your code should compute the probability in this variable\n",
    "\n",
    "# let's fix the starting point for random numbers to try to reduce the\n",
    "# variability from run to run. Of course, in a real simulation you wouldn't\n",
    "# do this but it should make grading easier.\n",
    "\n",
    "np.random.seed(0)\n",
    "\n",
    "# Write your code here to loop N times.   For each loop randomize the dayOfWeek,\n",
    "# use data[:, 3] with the shuffled day of the week and get the weekday and weekend\n",
    "# rain amounts similar to the previous cell.\n",
    "\n",
    "\n",
    "for indx in range(N):\n",
    "    random_day_mean_midwk, random_day_mean_wknd = rainfallamts((np.random.permutation(dayOfWeek)), data[:,3])\n",
    "    random_day_diff = random_day_mean_midwk - random_day_mean_wknd\n",
    "    if random_day_diff > delta:\n",
    "        count += 1\n",
    "        \n",
    "p = count / N \n",
    "\n",
    "print('p =', p)"
   ]
  },
  {
   "cell_type": "code",
   "execution_count": null,
   "metadata": {
    "editable": false
   },
   "outputs": [],
   "source": [
    "# Note: because of the randomness your answer may be quite different\n",
    "# from the \"expected\" value below and still be correct. I have set\n",
    "# the tolerance pretty wide.\n",
    "\n",
    "check('6: p value', p, points=25, precision=1)"
   ]
  },
  {
   "cell_type": "markdown",
   "metadata": {
    "editable": false
   },
   "source": [
    "## Results\n",
    "\n",
    "100,000 reps gives me a p-value of 0.06 with about 55 seconds of computation. Not quite significant by the common standard of 0.05. As I said earlier, we don't have enough data to test the hypothesis; the NASA guys used the entire southeast. "
   ]
  },
  {
   "cell_type": "markdown",
   "metadata": {
    "editable": false
   },
   "source": [
    "## Done!\n",
    "<img src=\"restartAndClearOutput.png\" width=\"300\" style=\"float: right\" />\n",
    "\n",
    "Now go back, restart the kernel (menu <font color=\"green\">Kernel</font>-><font color=\"green\">Restart and Clear</font>), and then Shift-Enter your way through the notebook to run all the cells again so you an be sure all your code will work as you expect during grading."
   ]
  },
  {
   "cell_type": "markdown",
   "metadata": {
    "editable": false
   },
   "source": [
    "## Saving your work\n",
    "<img src=\"saveAndCheckpoint.png\" width=\"300\" style=\"float: right\" />\n",
    "\n",
    "Now save your work by going to (menu <font color='green'>File</font>-><font color='green'>Save and Checkpoint</font>)"
   ]
  },
  {
   "cell_type": "code",
   "execution_count": null,
   "metadata": {
    "editable": false
   },
   "outputs": [],
   "source": [
    "report(Author, Collaborators)\n",
    "print('The submit button for the assignment is in the unlocker notebook')"
   ]
  },
  {
   "cell_type": "markdown",
   "metadata": {
    "editable": false
   },
   "source": [
    "## Close this notebook and then go back to the AssignmentUnlocker\n",
    "<img src=\"closeAndHalt.png\" width=\"300\" style=\"float: right\" />\n",
    "\n",
    "Before going back to the AssignmentUnlocker and submit your work, you'll need to go close this\n",
    "notebook (menu <font color='green'>File</font>-><font color='green'>Close and Halt</font>.)\n",
    "\n",
    "\n",
    "Note that if you actually saved your work you should not see the leaving site message below.\n",
    "If you do see the `Leave Site` warning, cancel and save your work again.\n",
    "<br />\n",
    "<img src=\"leaveSite.png\" width=\"300\" style=\"float: left\" />"
   ]
  }
 ],
 "metadata": {
  "kernelspec": {
   "display_name": "Python 3",
   "language": "python",
   "name": "python3"
  },
  "language_info": {
   "codemirror_mode": {
    "name": "ipython",
    "version": 3
   },
   "file_extension": ".py",
   "mimetype": "text/x-python",
   "name": "python",
   "nbconvert_exporter": "python",
   "pygments_lexer": "ipython3",
   "version": "3.7.0"
  }
 },
 "nbformat": 4,
 "nbformat_minor": 1
}
