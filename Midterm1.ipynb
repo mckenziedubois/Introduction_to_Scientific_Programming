{
 "cells": [
  {
   "cell_type": "markdown",
   "metadata": {
    "editable": false
   },
   "source": [
    "<img src=\"https://comp116sp19.cs.unc.edu/images/COMP116Logo.png\" style=\"display:inline; width:200px\" />\n",
    "\n",
    "# Midterm Exam 1 for Section 1\n",
    "\n",
    "**Don't Panic!**\n",
    "\n",
    "You **may not use** _loops_ or any other loop variants such as _list comprehensions_. Any numpy functions are OK.\n",
    "\n",
    "You **may not use the Internet** for anything except retrieving and submitting your exam. Any other use will be a violation of the Honor Code. \n",
    "\n",
    "You **must turn off wireless on your laptop** while you take the exam.\n",
    "\n",
    "You **may use** any resources that you have stored locally on your computer and one 8\" X 10\" paper note.\n",
    "\n",
    "Of course you **may not** use phones, friends, etc.\n",
    "\n",
    "**Submitting your exam:**\n",
    "  * Turn on wireless before you hit the submit button.\n",
    "  * You must submit your exam notebook before you leave the room.\n",
    "  * You must use a valid submit code.\n",
    "  * You will get a positive acknowledgement that submission was successful.\n",
    "  * You can check your [report](https://comp116sp19.cs.unc.edu/io/report/report.cgi) to see that\n",
    "  the submission was successful.\n",
    "\n",
    "\n",
    "\n",
    "\n",
    "## Setup\n",
    "\n",
    "The following code sets up the environment.\n",
    "You cannot and should not update the following cell."
   ]
  },
  {
   "cell_type": "code",
   "execution_count": 1,
   "metadata": {
    "editable": false
   },
   "outputs": [
    {
     "data": {
      "application/javascript": [
       "IPython.notebook.set_autosave_interval(15000)"
      ]
     },
     "metadata": {},
     "output_type": "display_data"
    },
    {
     "name": "stdout",
     "output_type": "stream",
     "text": [
      "Autosaving every 15 seconds\n"
     ]
    }
   ],
   "source": [
    "# Save your work every 15 seconds\n",
    "%autosave 15\n",
    "%matplotlib inline\n",
    "\n",
    "# imports needed for setup\n",
    "import comp116\n",
    "import numpy as np\n",
    "import pickle\n",
    "import pylab\n",
    "check, report = comp116.start('Midterm1')\n",
    "\n",
    "with open('Midterm1.data.pickle', 'rb') as fid:\n",
    "    classroom, hourlyDepth, siteNames, COLS_TO_PLOT, FALLS_LAKE_SITE_NAME = pickle.load(fid)\n",
    "\n",
    "# Protect you, as best I can, from accidentally modifying test data\n",
    "classroom.flags.writeable = False \n",
    "hourlyDepth.flags.writeable = False \n",
    "siteNames.flags.writeable = False \n",
    "COLS_TO_PLOT.flags.writeable = False"
   ]
  },
  {
   "cell_type": "markdown",
   "metadata": {
    "editable": false
   },
   "source": [
    "### Your Onyen, Section, Seat, and Pledge\n",
    "\n",
    "#### Your Onyen\n",
    "On this and all submissions, it's important to put your Onyen on it.\n",
    "\n",
    "#### Section and seat\n",
    "\n",
    "Please enter your section and seat to ensure you are taking the test that the system thinks you should be taking."
   ]
  },
  {
   "cell_type": "code",
   "execution_count": 2,
   "metadata": {},
   "outputs": [],
   "source": [
    "# Put your onyen between the quotes\n",
    "Onyen = 'your case sensitive onyen here' # UPDATE THIS LINE WITH YOUR CODE\n",
    "\n",
    "# If you are in the 12:30 T/TH class, set Section='1'\n",
    "# If you are in the 2:00 T/TH class, set Section='2'\n",
    "Section = '0' # UPDATE THIS LINE WITH YOUR CODE\n",
    "\n",
    "# Your seat number should agree with attendance/Seating\n",
    "Seat = '' # UPDATE THIS LINE WITH YOUR CODE"
   ]
  },
  {
   "cell_type": "code",
   "execution_count": 3,
   "metadata": {
    "editable": false
   },
   "outputs": [
    {
     "name": "stdout",
     "output_type": "stream",
     "text": [
      "Q0 Onyen incorrect\n",
      "[]\n"
     ]
    },
    {
     "ename": "IndexError",
     "evalue": "index 0 is out of bounds for axis 0 with size 0",
     "output_type": "error",
     "traceback": [
      "\u001b[0;31m---------------------------------------------------------------------------\u001b[0m",
      "\u001b[0;31mIndexError\u001b[0m                                Traceback (most recent call last)",
      "\u001b[0;32m<ipython-input-3-c28c22e96e0d>\u001b[0m in \u001b[0;36m<module>\u001b[0;34m()\u001b[0m\n\u001b[1;32m      2\u001b[0m \u001b[0myour_info\u001b[0m \u001b[0;34m=\u001b[0m \u001b[0mclassroom\u001b[0m\u001b[0;34m[\u001b[0m \u001b[0mclassroom\u001b[0m\u001b[0;34m[\u001b[0m\u001b[0;34m:\u001b[0m\u001b[0;34m,\u001b[0m \u001b[0;36m1\u001b[0m\u001b[0;34m]\u001b[0m \u001b[0;34m==\u001b[0m \u001b[0mOnyen\u001b[0m \u001b[0;34m]\u001b[0m\u001b[0;34m\u001b[0m\u001b[0m\n\u001b[1;32m      3\u001b[0m \u001b[0mprint\u001b[0m\u001b[0;34m(\u001b[0m\u001b[0myour_info\u001b[0m\u001b[0;34m)\u001b[0m\u001b[0;34m\u001b[0m\u001b[0m\n\u001b[0;32m----> 4\u001b[0;31m \u001b[0mcheck\u001b[0m\u001b[0;34m(\u001b[0m\u001b[0;34m'Q0 Section'\u001b[0m\u001b[0;34m,\u001b[0m \u001b[0myour_info\u001b[0m\u001b[0;34m[\u001b[0m\u001b[0;36m0\u001b[0m\u001b[0;34m,\u001b[0m\u001b[0;36m0\u001b[0m\u001b[0;34m]\u001b[0m \u001b[0;34m==\u001b[0m \u001b[0mSection\u001b[0m\u001b[0;34m,\u001b[0m \u001b[0mpoints\u001b[0m\u001b[0;34m=\u001b[0m\u001b[0;36m1\u001b[0m\u001b[0;34m)\u001b[0m\u001b[0;34m\u001b[0m\u001b[0m\n\u001b[0m\u001b[1;32m      5\u001b[0m \u001b[0mcheck\u001b[0m\u001b[0;34m(\u001b[0m\u001b[0;34m'Q0 Seat'\u001b[0m\u001b[0;34m,\u001b[0m \u001b[0myour_info\u001b[0m\u001b[0;34m[\u001b[0m\u001b[0;36m0\u001b[0m\u001b[0;34m,\u001b[0m\u001b[0;36m2\u001b[0m\u001b[0;34m]\u001b[0m \u001b[0;34m==\u001b[0m \u001b[0mSeat\u001b[0m\u001b[0;34m,\u001b[0m \u001b[0mpoints\u001b[0m\u001b[0;34m=\u001b[0m\u001b[0;36m1\u001b[0m\u001b[0;34m)\u001b[0m\u001b[0;34m\u001b[0m\u001b[0m\n",
      "\u001b[0;31mIndexError\u001b[0m: index 0 is out of bounds for axis 0 with size 0"
     ]
    }
   ],
   "source": [
    "check('Q0 Onyen', Onyen.lower() in classroom[:, 1], points=1)\n",
    "your_info = classroom[ classroom[:, 1] == Onyen ]\n",
    "print(your_info)\n",
    "check('Q0 Section', your_info[0,0] == Section, points=1)\n",
    "check('Q0 Seat', your_info[0,2] == Seat, points=1)"
   ]
  },
  {
   "cell_type": "markdown",
   "metadata": {
    "editable": false
   },
   "source": [
    "#### Honor Pledge\n",
    "\n",
    "I certify that **no unauthorized assistance** has been received or given in the completion of this work. \n",
    "\n",
    "Enter your full name as the value of the Pledge variable below.\n",
    "\n",
    "**If you do not fill this in, you will receive a zero!**"
   ]
  },
  {
   "cell_type": "code",
   "execution_count": null,
   "metadata": {},
   "outputs": [],
   "source": [
    "Pledge = '' # UPDATE THIS LINE WITH YOUR CODE"
   ]
  },
  {
   "cell_type": "code",
   "execution_count": null,
   "metadata": {
    "editable": false
   },
   "outputs": [],
   "source": [
    "check('Q0 Pledge', Pledge != '', points=1)"
   ]
  },
  {
   "cell_type": "markdown",
   "metadata": {
    "editable": false
   },
   "source": [
    "<img src=\"https://comp116sp19.cs.unc.edu/images/USGSLogo.png\" style=\"float:right; width:100px\" />\n",
    "\n",
    "## Data\n",
    "\n",
    "The non-string data, `hourlyDepth`, for this exam will be river gage height from the Neuse River from Falls Lake (Raleigh) to the Pamlico Sound (Atlantic Ocean).\n",
    "The data comes from the US Geological Survey which monitors rivers in the United States.\n",
    "I have taken the liberty of slightly modifing the actual data for your exam and the grader.\n",
    "\n",
    "The columns are the station names which are in variable `siteNames` and the rows are the hourly readings.\n",
    "You should not assume that the number of columns in the data used on your computer and that used by the grader are the same.\n",
    "The data within the matrix should also not be assumed to be the same between your computer and the grader.\n",
    "\n",
    "In other words, if asked for the number of columns and you _simply count_ the number of columns of the data used on your computer\n",
    "the grader will grade it incorrect as it will be using different data.\n",
    "You **MUST** calculate things programatically using Python functions.\n",
    "\n",
    "The first twelve hours of data are:"
   ]
  },
  {
   "cell_type": "code",
   "execution_count": 4,
   "metadata": {
    "editable": false
   },
   "outputs": [
    {
     "name": "stdout",
     "output_type": "stream",
     "text": [
      "Neuse river depth from Falls Lake to the Pamlico Sound.\n"
     ]
    },
    {
     "data": {
      "text/html": [
       "<table border=\"1\" class=\"dataframe\">\n",
       "  <thead>\n",
       "    <tr>\n",
       "      <th></th>\n",
       "      <th>BEAVERDAM CREEK AT DAM NEAR CREEDMOOR, NC</th>\n",
       "      <th>FALLS LAKE ABOVE DAM NR FALLS, NC</th>\n",
       "      <th>NEUSE RIVER NEAR FALLS, NC</th>\n",
       "      <th>NEUSE RIVER NEAR CLAYTON, NC</th>\n",
       "      <th>NEUSE RIVER AT SMITHFIELD, NC</th>\n",
       "      <th>NEUSE RIVER NEAR GOLDSBORO, NC</th>\n",
       "      <th>NEUSE RIVER AT KINSTON, NC</th>\n",
       "    </tr>\n",
       "  </thead>\n",
       "  <tbody>\n",
       "    <tr>\n",
       "      <th>0</th>\n",
       "      <td>254.48</td>\n",
       "      <td>254.44</td>\n",
       "      <td>3.80</td>\n",
       "      <td>6.48</td>\n",
       "      <td>14.10</td>\n",
       "      <td>16.50</td>\n",
       "      <td>14.63</td>\n",
       "    </tr>\n",
       "    <tr>\n",
       "      <th>1</th>\n",
       "      <td>254.48</td>\n",
       "      <td>254.44</td>\n",
       "      <td>3.67</td>\n",
       "      <td>6.58</td>\n",
       "      <td>14.09</td>\n",
       "      <td>16.52</td>\n",
       "      <td>14.63</td>\n",
       "    </tr>\n",
       "    <tr>\n",
       "      <th>2</th>\n",
       "      <td>254.46</td>\n",
       "      <td>254.43</td>\n",
       "      <td>3.76</td>\n",
       "      <td>6.68</td>\n",
       "      <td>14.08</td>\n",
       "      <td>16.54</td>\n",
       "      <td>14.64</td>\n",
       "    </tr>\n",
       "    <tr>\n",
       "      <th>3</th>\n",
       "      <td>254.43</td>\n",
       "      <td>254.42</td>\n",
       "      <td>3.75</td>\n",
       "      <td>6.78</td>\n",
       "      <td>14.09</td>\n",
       "      <td>16.55</td>\n",
       "      <td>14.66</td>\n",
       "    </tr>\n",
       "    <tr>\n",
       "      <th>4</th>\n",
       "      <td>254.45</td>\n",
       "      <td>254.40</td>\n",
       "      <td>3.76</td>\n",
       "      <td>6.87</td>\n",
       "      <td>14.09</td>\n",
       "      <td>16.57</td>\n",
       "      <td>14.66</td>\n",
       "    </tr>\n",
       "    <tr>\n",
       "      <th>5</th>\n",
       "      <td>254.42</td>\n",
       "      <td>254.39</td>\n",
       "      <td>3.74</td>\n",
       "      <td>6.95</td>\n",
       "      <td>14.10</td>\n",
       "      <td>16.59</td>\n",
       "      <td>14.68</td>\n",
       "    </tr>\n",
       "    <tr>\n",
       "      <th>6</th>\n",
       "      <td>254.40</td>\n",
       "      <td>254.37</td>\n",
       "      <td>3.70</td>\n",
       "      <td>7.02</td>\n",
       "      <td>14.12</td>\n",
       "      <td>16.60</td>\n",
       "      <td>14.69</td>\n",
       "    </tr>\n",
       "    <tr>\n",
       "      <th>7</th>\n",
       "      <td>254.40</td>\n",
       "      <td>254.36</td>\n",
       "      <td>3.76</td>\n",
       "      <td>7.08</td>\n",
       "      <td>14.15</td>\n",
       "      <td>16.61</td>\n",
       "      <td>14.69</td>\n",
       "    </tr>\n",
       "    <tr>\n",
       "      <th>8</th>\n",
       "      <td>254.38</td>\n",
       "      <td>254.37</td>\n",
       "      <td>3.72</td>\n",
       "      <td>7.14</td>\n",
       "      <td>14.19</td>\n",
       "      <td>16.62</td>\n",
       "      <td>14.70</td>\n",
       "    </tr>\n",
       "    <tr>\n",
       "      <th>9</th>\n",
       "      <td>254.37</td>\n",
       "      <td>254.36</td>\n",
       "      <td>3.73</td>\n",
       "      <td>7.20</td>\n",
       "      <td>14.24</td>\n",
       "      <td>16.63</td>\n",
       "      <td>14.71</td>\n",
       "    </tr>\n",
       "    <tr>\n",
       "      <th>10</th>\n",
       "      <td>254.36</td>\n",
       "      <td>254.33</td>\n",
       "      <td>3.76</td>\n",
       "      <td>7.25</td>\n",
       "      <td>14.28</td>\n",
       "      <td>16.64</td>\n",
       "      <td>14.71</td>\n",
       "    </tr>\n",
       "    <tr>\n",
       "      <th>11</th>\n",
       "      <td>254.35</td>\n",
       "      <td>254.32</td>\n",
       "      <td>3.78</td>\n",
       "      <td>7.29</td>\n",
       "      <td>14.33</td>\n",
       "      <td>16.66</td>\n",
       "      <td>14.71</td>\n",
       "    </tr>\n",
       "  </tbody>\n",
       "</table>"
      ],
      "text/plain": [
       "<IPython.core.display.HTML object>"
      ]
     },
     "metadata": {},
     "output_type": "display_data"
    }
   ],
   "source": [
    "print('Neuse river depth from Falls Lake to the Pamlico Sound.')\n",
    "comp116.array_to_html(hourlyDepth[:12], col_names=[siteNames])"
   ]
  },
  {
   "cell_type": "markdown",
   "metadata": {
    "editable": false
   },
   "source": [
    "`COLS_TO_PLOT` is a boolean that is the same length as `siteNames` and the same length as the number of columns in `hourlyDepth`.\n",
    "Of course, `COLS_TO_PLOT` used by the grader will have different values than the one you use.\n",
    "But you can be assured that the length of `COLS_TO_PLOT` will be the same as `siteNames` and `hourlyDepth`'s columns."
   ]
  },
  {
   "cell_type": "code",
   "execution_count": 5,
   "metadata": {
    "editable": false
   },
   "outputs": [
    {
     "data": {
      "text/html": [
       "<table border=\"1\" class=\"dataframe\">\n",
       "  <thead>\n",
       "    <tr style=\"text-align: right;\">\n",
       "      <th></th>\n",
       "      <th>BEAVERDAM CREEK AT DAM NEAR CREEDMOOR, NC</th>\n",
       "      <th>FALLS LAKE ABOVE DAM NR FALLS, NC</th>\n",
       "      <th>NEUSE RIVER NEAR FALLS, NC</th>\n",
       "      <th>NEUSE RIVER NEAR CLAYTON, NC</th>\n",
       "      <th>NEUSE RIVER AT SMITHFIELD, NC</th>\n",
       "      <th>NEUSE RIVER NEAR GOLDSBORO, NC</th>\n",
       "      <th>NEUSE RIVER AT KINSTON, NC</th>\n",
       "    </tr>\n",
       "  </thead>\n",
       "  <tbody>\n",
       "    <tr>\n",
       "      <th>COLS_TO_PLOT</th>\n",
       "      <td>False</td>\n",
       "      <td>False</td>\n",
       "      <td>False</td>\n",
       "      <td>False</td>\n",
       "      <td>True</td>\n",
       "      <td>False</td>\n",
       "      <td>True</td>\n",
       "    </tr>\n",
       "  </tbody>\n",
       "</table>"
      ],
      "text/plain": [
       "<IPython.core.display.HTML object>"
      ]
     },
     "metadata": {},
     "output_type": "display_data"
    }
   ],
   "source": [
    "comp116.array_to_html(COLS_TO_PLOT.reshape(1, -1), row_names=['COLS_TO_PLOT'], col_names=siteNames)"
   ]
  },
  {
   "cell_type": "markdown",
   "metadata": {
    "editable": false
   },
   "source": [
    "# Questions\n",
    "\n",
    "## Q1 Strings\n",
    "\n",
    "The following questons test your knowledge of strings.\n",
    "\n",
    "### Q1.1 First element of  `siteNames`'s third character\n",
    "\n",
    "You're being asked for the first element of `siteNames`'s third character.\n",
    "For example, an array `arr = np.array(['abcdefg', 'hijklmn', 'opqrstuvwxyz'])`'s  first element is the string `'abcdefg'`.\n",
    "The third character of that string is `'c'`."
   ]
  },
  {
   "cell_type": "code",
   "execution_count": 6,
   "metadata": {},
   "outputs": [
    {
     "ename": "IndexError",
     "evalue": "invalid index to scalar variable.",
     "output_type": "error",
     "traceback": [
      "\u001b[0;31m---------------------------------------------------------------------------\u001b[0m",
      "\u001b[0;31mIndexError\u001b[0m                                Traceback (most recent call last)",
      "\u001b[0;32m<ipython-input-6-df5b4c87e04b>\u001b[0m in \u001b[0;36m<module>\u001b[0;34m()\u001b[0m\n\u001b[1;32m      1\u001b[0m \u001b[0;31m# What is the third character in the first site's name?\u001b[0m\u001b[0;34m\u001b[0m\u001b[0;34m\u001b[0m\u001b[0m\n\u001b[0;32m----> 2\u001b[0;31m \u001b[0mthird_char_first_site\u001b[0m \u001b[0;34m=\u001b[0m \u001b[0mCOLS_TO_PLOT\u001b[0m\u001b[0;34m[\u001b[0m\u001b[0;36m0\u001b[0m\u001b[0;34m]\u001b[0m\u001b[0;34m[\u001b[0m\u001b[0;36m2\u001b[0m\u001b[0;34m]\u001b[0m \u001b[0;31m# UPDATE THIS LINE WITH YOUR CODE\u001b[0m\u001b[0;34m\u001b[0m\u001b[0m\n\u001b[0m\u001b[1;32m      3\u001b[0m \u001b[0mprint\u001b[0m\u001b[0;34m(\u001b[0m\u001b[0;34m'The third character of the first element of siteNames is'\u001b[0m\u001b[0;34m,\u001b[0m \u001b[0mthird_char_first_site\u001b[0m\u001b[0;34m)\u001b[0m\u001b[0;34m\u001b[0m\u001b[0m\n",
      "\u001b[0;31mIndexError\u001b[0m: invalid index to scalar variable."
     ]
    }
   ],
   "source": [
    "# What is the third character in the first site's name?\n",
    "third_char_first_site = COLS_TO_PLOT[0][2] # UPDATE THIS LINE WITH YOUR CODE\n",
    "print('The third character of the first element of siteNames is', third_char_first_site)"
   ]
  },
  {
   "cell_type": "code",
   "execution_count": 7,
   "metadata": {
    "editable": false
   },
   "outputs": [
    {
     "ename": "NameError",
     "evalue": "name 'third_char_first_site' is not defined",
     "output_type": "error",
     "traceback": [
      "\u001b[0;31m---------------------------------------------------------------------------\u001b[0m",
      "\u001b[0;31mNameError\u001b[0m                                 Traceback (most recent call last)",
      "\u001b[0;32m<ipython-input-7-4f5e184b96f4>\u001b[0m in \u001b[0;36m<module>\u001b[0;34m()\u001b[0m\n\u001b[0;32m----> 1\u001b[0;31m \u001b[0mcheck\u001b[0m\u001b[0;34m(\u001b[0m\u001b[0;34m'Q1.1 third charactor of the first element'\u001b[0m\u001b[0;34m,\u001b[0m \u001b[0mthird_char_first_site\u001b[0m\u001b[0;34m,\u001b[0m \u001b[0mpoints\u001b[0m\u001b[0;34m=\u001b[0m\u001b[0;36m3\u001b[0m\u001b[0;34m)\u001b[0m\u001b[0;34m\u001b[0m\u001b[0m\n\u001b[0m",
      "\u001b[0;31mNameError\u001b[0m: name 'third_char_first_site' is not defined"
     ]
    }
   ],
   "source": [
    "check('Q1.1 third charactor of the first element', third_char_first_site, points=3)"
   ]
  },
  {
   "cell_type": "markdown",
   "metadata": {
    "editable": false
   },
   "source": [
    "### Q1.2 Middle character of the last `siteNames` element"
   ]
  },
  {
   "cell_type": "code",
   "execution_count": 8,
   "metadata": {},
   "outputs": [
    {
     "name": "stdout",
     "output_type": "stream",
     "text": [
      "13\n",
      "The middle character of the last element of siteNames is T\n"
     ]
    }
   ],
   "source": [
    "# What is the middle character in the last site name?\n",
    "middle_value = len(siteNames[-1])//2\n",
    "print(middle_value)\n",
    "middle_char_last_site = siteNames[-1][middle_value] # UPDATE THIS LINE WITH YOUR CODE\n",
    "print('The middle character of the last element of siteNames is', middle_char_last_site)"
   ]
  },
  {
   "cell_type": "code",
   "execution_count": 9,
   "metadata": {
    "editable": false
   },
   "outputs": [
    {
     "name": "stdout",
     "output_type": "stream",
     "text": [
      "Q1.2 middle charactor of the last element appears correct\n"
     ]
    }
   ],
   "source": [
    "check('Q1.2 middle charactor of the last element', middle_char_last_site, points=3)"
   ]
  },
  {
   "cell_type": "markdown",
   "metadata": {
    "editable": false
   },
   "source": [
    "## Q2 How long were the depth measurements recorded?\n",
    "\n",
    "Calculate the integer number (whole number) of days and \n",
    "the integer number (whole number) of hours beyond the last day that measurements were taken."
   ]
  },
  {
   "cell_type": "code",
   "execution_count": 10,
   "metadata": {},
   "outputs": [
    {
     "name": "stdout",
     "output_type": "stream",
     "text": [
      "The measurement in depthHourly went for 31 days and 0 hours.\n"
     ]
    }
   ],
   "source": [
    "# How many days were the measurements in hourlyDepth?\n",
    "days  = len(hourlyDepth)//24 # UPDATE THIS LINE WITH YOUR CODE\n",
    "# Beyond `days`, how many hours were the measurements in hourlyDepth\n",
    "hours = len(hourlyDepth)%24 # UPDATE THIS LINE WITH YOUR CODE\n",
    "print('The measurement in depthHourly went for', days, 'days and', hours, 'hours.')"
   ]
  },
  {
   "cell_type": "code",
   "execution_count": 11,
   "metadata": {
    "editable": false,
    "scrolled": true
   },
   "outputs": [
    {
     "name": "stdout",
     "output_type": "stream",
     "text": [
      "Q2 the number of days being measured is appears correct\n",
      "Q2 the number of hours being measured is appears correct\n"
     ]
    }
   ],
   "source": [
    "check('Q2 the number of days being measured is', days, points=5)\n",
    "check('Q2 the number of hours being measured is', hours, points=5)"
   ]
  },
  {
   "cell_type": "markdown",
   "metadata": {
    "editable": false
   },
   "source": [
    "## Q3 average hourly measurements\n",
    "\n",
    "What is the average of each of the sites (columns) of `hourlyDepth`?"
   ]
  },
  {
   "cell_type": "code",
   "execution_count": 12,
   "metadata": {},
   "outputs": [
    {
     "data": {
      "text/html": [
       "<table border=\"1\" class=\"dataframe\">\n",
       "  <thead>\n",
       "    <tr style=\"text-align: right;\">\n",
       "      <th></th>\n",
       "      <th>BEAVERDAM CREEK AT DAM NEAR CREEDMOOR, NC</th>\n",
       "      <th>FALLS LAKE ABOVE DAM NR FALLS, NC</th>\n",
       "      <th>NEUSE RIVER NEAR FALLS, NC</th>\n",
       "      <th>NEUSE RIVER NEAR CLAYTON, NC</th>\n",
       "      <th>NEUSE RIVER AT SMITHFIELD, NC</th>\n",
       "      <th>NEUSE RIVER NEAR GOLDSBORO, NC</th>\n",
       "      <th>NEUSE RIVER AT KINSTON, NC</th>\n",
       "    </tr>\n",
       "  </thead>\n",
       "  <tbody>\n",
       "    <tr>\n",
       "      <th>average</th>\n",
       "      <td>252.443817</td>\n",
       "      <td>252.437097</td>\n",
       "      <td>2.954046</td>\n",
       "      <td>5.547621</td>\n",
       "      <td>12.633723</td>\n",
       "      <td>14.461788</td>\n",
       "      <td>14.151142</td>\n",
       "    </tr>\n",
       "  </tbody>\n",
       "</table>"
      ],
      "text/plain": [
       "<IPython.core.display.HTML object>"
      ]
     },
     "metadata": {},
     "output_type": "display_data"
    }
   ],
   "source": [
    "# calculate the average of each of the sites\n",
    "average_sites = np.zeros(len(hourlyDepth)) # UPDATE THIS LINE WITH YOUR CODE\n",
    "average_sites = np.average(hourlyDepth, axis = 0 )\n",
    "comp116.array_to_html(average_sites.reshape((1, -1)), col_names=siteNames, row_names=['average'])"
   ]
  },
  {
   "cell_type": "code",
   "execution_count": 13,
   "metadata": {
    "editable": false,
    "scrolled": true
   },
   "outputs": [
    {
     "name": "stdout",
     "output_type": "stream",
     "text": [
      "Q3 average for each site appears correct\n"
     ]
    }
   ],
   "source": [
    "check('Q3 average for each site', average_sites, points=10)"
   ]
  },
  {
   "cell_type": "markdown",
   "metadata": {
    "editable": false
   },
   "source": [
    "## Q4 Maximum of FALLS_LAKE_SITE_NAME site?\n",
    "\n",
    "What is the maximum `hourlyDepth` of the column corresponding to FALLS_LAKE_SITE_NAME?\n",
    "\n",
    "**NOTE:** `FALLS_LAKE_SITE_NAME` is a constant that is in `siteNames`.\n",
    "Use `FALLS_LAKE_SITE_NAME` and `siteNames` to create a array of booleans\n",
    "as an index to the columns of `hourlyDepth`."
   ]
  },
  {
   "cell_type": "code",
   "execution_count": 14,
   "metadata": {},
   "outputs": [
    {
     "name": "stdout",
     "output_type": "stream",
     "text": [
      "The maximum depth level of FALLS LAKE ABOVE DAM NR FALLS, NC is 254.44\n"
     ]
    }
   ],
   "source": [
    "# calculate the maximum of site FALLS_LAKE_SITE_NAME\n",
    "falls_max = np.max(hourlyDepth[:,siteNames == FALLS_LAKE_SITE_NAME]) # UPDATE THIS LINE WITH YOUR CODE\n",
    "print('The maximum depth level of', FALLS_LAKE_SITE_NAME, 'is', falls_max)"
   ]
  },
  {
   "cell_type": "code",
   "execution_count": 15,
   "metadata": {
    "editable": false
   },
   "outputs": [
    {
     "name": "stdout",
     "output_type": "stream",
     "text": [
      "Q4 max Falls Lake appears correct\n"
     ]
    }
   ],
   "source": [
    "check('Q4 max Falls Lake', falls_max, points=10)"
   ]
  },
  {
   "cell_type": "markdown",
   "metadata": {
    "editable": false
   },
   "source": [
    "## Q5 What is the column index and row index of the minimum value in `hourlyDepth`?"
   ]
  },
  {
   "cell_type": "code",
   "execution_count": 16,
   "metadata": {},
   "outputs": [
    {
     "name": "stdout",
     "output_type": "stream",
     "text": [
      "The smallest value hourlyDepth[ 290 , 2 ]= 1.67\n"
     ]
    }
   ],
   "source": [
    "min_col_indx = np.argmin(np.min(hourlyDepth,axis = 0))# UPDATE THIS LINE WITH YOUR CODE\n",
    "min_row_indx = np.argmin(np.min(hourlyDepth,axis = 1))# UPDATE THIS LINE WITH YOUR CODE\n",
    "print('The smallest value hourlyDepth[', min_row_indx, ',',\n",
    "     min_col_indx, ']=', hourlyDepth[min_row_indx, min_col_indx])"
   ]
  },
  {
   "cell_type": "code",
   "execution_count": 17,
   "metadata": {
    "editable": false
   },
   "outputs": [
    {
     "name": "stdout",
     "output_type": "stream",
     "text": [
      "Q5 minimum row index appears correct\n",
      "Q5 minimum column index appears correct\n"
     ]
    }
   ],
   "source": [
    "check('Q5 minimum row index', min_row_indx, points=5)\n",
    "check('Q5 minimum column index', min_col_indx, points=5)"
   ]
  },
  {
   "cell_type": "markdown",
   "metadata": {
    "editable": false
   },
   "source": [
    "### Q6 Two measurements in Falls lake\n",
    "\n",
    "The first two sites (columns) of `hourlyDepth` are both in Falls Lake.\n",
    "In general, two measurement sites within a lake should be about the same.\n",
    "But as scientists, we know that two measurements in two sites might not be the same due to environmental issues.\n",
    "\n",
    "How many hours (rows) did the two Falls Lake sites differ by more than 0.1 feet?\n",
    "\n",
    "**NOTE:** np.abs() will return the absolute value of an array"
   ]
  },
  {
   "cell_type": "code",
   "execution_count": 18,
   "metadata": {},
   "outputs": [
    {
     "name": "stdout",
     "output_type": "stream",
     "text": [
      "Only 5  measurements differ by more than 0.1 foot.\n"
     ]
    }
   ],
   "source": [
    "# calculate the difference between the first column and the second column for each hour\n",
    "\n",
    "# count up the number of times this difference is greater than 0.1\n",
    "falls_diff_greater_than_one_tenth_foot = np.count_nonzero(np.abs(np.diff(hourlyDepth[:,:2]))> 0.1) # UPDATE THIS LINE WITH YOUR CODE\n",
    "print('Only', falls_diff_greater_than_one_tenth_foot, ' measurements differ by more than 0.1 foot.')"
   ]
  },
  {
   "cell_type": "code",
   "execution_count": 19,
   "metadata": {
    "editable": false
   },
   "outputs": [
    {
     "name": "stdout",
     "output_type": "stream",
     "text": [
      "Q6 two Falls Lake differ by more than 0.1 feet appears correct\n"
     ]
    }
   ],
   "source": [
    "check('Q6 two Falls Lake differ by more than 0.1 feet', falls_diff_greater_than_one_tenth_foot, points=20)"
   ]
  },
  {
   "cell_type": "markdown",
   "metadata": {},
   "source": [
    "<img src=\"plot1.png\" style=\"display:inline; width:200px; float:right\" />\n",
    "\n",
    "### Q7 Plot two **columns** of `hourlyDepth`\n",
    "\n",
    "<font color='red'>The above should say columns not rows</font>\n",
    "\n",
    "`COLS_TO_PLOT` is a array of booleans that is the same number of elements as `hourlyDepth` has columns.\n",
    "Use `COLS_TO_PLOT` as an index to the columns `hourlyDepth` and plot those columns."
   ]
  },
  {
   "cell_type": "code",
   "execution_count": 20,
   "metadata": {},
   "outputs": [
    {
     "name": "stdout",
     "output_type": "stream",
     "text": [
      "COLS_TO_PLOT= [False False False False  True False  True]\n"
     ]
    },
    {
     "data": {
      "image/png": "[encoded data removed]",
      "text/plain": [
       "<Figure size 432x288 with 1 Axes>"
      ]
     },
     "metadata": {
      "needs_background": "light"
     },
     "output_type": "display_data"
    }
   ],
   "source": [
    "print('COLS_TO_PLOT=', COLS_TO_PLOT)\n",
    "pylab.plot(hourlyDepth[:,COLS_TO_PLOT]) # UPDATE THIS AND ONLY THIS LINE\n",
    "\n",
    "# DO NOT UPDATE THE FOLLOWING LINES OF CODE!!!!\n",
    "pylab.title('Depth of two sites')\n",
    "pylab.ylabel('Depth in feet')\n",
    "pylab.xlabel('Hourly measurements')\n",
    "two_row_plot = pylab.gcf()"
   ]
  },
  {
   "cell_type": "code",
   "execution_count": 21,
   "metadata": {
    "editable": false,
    "scrolled": true
   },
   "outputs": [
    {
     "name": "stdout",
     "output_type": "stream",
     "text": [
      "Q7 plot two lines appears correct\n"
     ]
    }
   ],
   "source": [
    "check('Q7 plot two lines', two_row_plot, points=10)"
   ]
  },
  {
   "cell_type": "markdown",
   "metadata": {
    "editable": false
   },
   "source": [
    "<img src=\"plot2.png\" style=\"display:inline; width:200px; float:right\" />\n",
    "\n",
    "### Q8 Plot two columns of `hourlyDepth` average height per day\n",
    "\n",
    "`COLS_TO_PLOT` is a array of booleans that is the same number of elements as `hourlyDepth` has columns.\n",
    "Use `COLS_TO_PLOT` as an index to the columns in `hourlyDepth`.  \n",
    "\n",
    "Plot the first column of `COLS_TO_PLOT` as a line that is the average height per day.\n",
    "Plot the second column of `COLS_TO_PLOT` as a bar chart that is the average height per day.\n",
    "\n",
    "**NOTE:** This problem is broken down into multiple steps.\n",
    "You can solve **Q8.1** for the line graph daily average, **Q8.1** for the bar graph daily average, or\n",
    "**Q8.2** for the x axis array before the final **Q8.2** bar/line graph."
   ]
  },
  {
   "cell_type": "markdown",
   "metadata": {
    "editable": false
   },
   "source": [
    "#### Q8.1 Get columns slice to plot and compute the daily average for the line and bar of Q8.2\n",
    "\n",
    " 1. Create `columns_slice` to be a boolean slice of the `hourlyDepth` columns indicated by the `COLS_TO_PLOT`.  \n",
    " 1. The next two lines, which you do not have to update, create `line_slice` to be the first column of the `columns_slice`\n",
    "and `bar_slice` to be the second column of the `columns_slice`.\n",
    " 1. Finally create `line_daily_average` and `bar_daily_average` to be \n",
    " the average of `line_slice` and `bar_slice` reshaped into days .\n",
    " \n",
    "**NOTE:** You may want to use problem decomposition and problem determination to print out values\n",
    "of each step to ensure correctness."
   ]
  },
  {
   "cell_type": "code",
   "execution_count": 30,
   "metadata": {},
   "outputs": [],
   "source": [
    "columns_slice = hourlyDepth[:,COLS_TO_PLOT] # UPDATE THIS LINE WITH YOUR CODE\n",
    "\n",
    "line_slice = columns_slice[:, 0] # NO NEED TO UPDATE THIS\n",
    "bar_slice = columns_slice[:, 1] # NO NEED TO UPDATE THIS\n",
    "\n",
    "line_daily_average = np.average(np.reshape(line_slice,((np.shape(line_slice)[0])//24,24)),axis=1 ) # UPDATE THIS LINE WITH YOUR CODE\n",
    "bar_daily_average = np.average(np.reshape(bar_slice,((np.shape(bar_slice)[0])//24,24)),axis=1 ) # UPDATE THIS LINE WITH YOUR CODE\n"
   ]
  },
  {
   "cell_type": "code",
   "execution_count": 26,
   "metadata": {
    "editable": false
   },
   "outputs": [
    {
     "name": "stdout",
     "output_type": "stream",
     "text": [
      "Q8.1 line daily average appears correct\n",
      "Q8.1 bar daily average appears correct\n"
     ]
    }
   ],
   "source": [
    "check('Q8.1 line daily average', line_daily_average, points=5)\n",
    "check('Q8.1 bar daily average', bar_daily_average, points=5)"
   ]
  },
  {
   "cell_type": "markdown",
   "metadata": {
    "editable": false
   },
   "source": [
    "<img src=\"plot2.png\" style=\"display:inline; width:200px; float:right\" />\n",
    "\n",
    "#### Q8.2 Plot the line daily average and the bar daily average\n",
    "\n",
    "Use the `line_daily_average` and the `bar_daily_average` from **Q8.1** to create a plot like the one at the right with the x axis starting at zero up to the number of days minus one. \n",
    "\n",
    "You will have to:\n",
    " * Add the title **Line and bar**\n",
    " * Add the xlabel **Daily average**\n",
    " * Add the ylabel **Depth in feet**"
   ]
  },
  {
   "cell_type": "code",
   "execution_count": null,
   "metadata": {},
   "outputs": [],
   "source": [
    "x_axis = np.arange(len(bar_daily_average)) # UPDATE THIS LINE WITH YOUR CODE\n",
    "pylab.plot(x_axis,line_daily_average, 'r') # UPDATE THIS LINE WITH YOUR CODE\n",
    "pylab.bar(x_axis,bar_daily_average) # UPDATE THIS LINE WITH YOUR CODE\n",
    "\n",
    "pylab.title('Line and bar')\n",
    "pylab.ylabel('Depth in feet')\n",
    "pylab.xlabel('Daily average')\n",
    "\n",
    "# THIS LINE MUST BE THE LAST IN THE CELL\n",
    "line_and_bar_plot = pylab.gcf() # DO NOT UPDATE THIS LINE"
   ]
  },
  {
   "cell_type": "code",
   "execution_count": null,
   "metadata": {
    "editable": false
   },
   "outputs": [],
   "source": [
    "check('Q8.2 x_axis', x_axis, points=5)\n",
    "check('Q8.2 line and bar', line_and_bar_plot, points=5)"
   ]
  },
  {
   "cell_type": "code",
   "execution_count": null,
   "metadata": {
    "editable": false
   },
   "outputs": [],
   "source": [
    "# It is going to check that your Onyen and Pledge are filled out correctly.\n",
    "# If they are not filled out correctly, you should go back to the unlocker and execute the Submit your exam.\n",
    "report(Onyen, Pledge)\n",
    "print('The submit button for the quiz is in the ExamUnlocker notebook')"
   ]
  },
  {
   "cell_type": "markdown",
   "metadata": {
    "editable": false
   },
   "source": [
    "## Done!\n",
    "<img src=\"restartAndClearOutput.png\" width=\"300\" style=\"float: right\" />\n",
    "\n",
    "Now go back, restart the kernel (menu <font color=\"green\">Kernel</font>-><font color=\"green\">Restart and Clear</font>), and then Shift-Enter your way through the notebook to run all the cells again so you an be sure all your code will work as you expect during grading."
   ]
  },
  {
   "cell_type": "markdown",
   "metadata": {
    "editable": false
   },
   "source": [
    "## Saving your work\n",
    "<img src=\"saveAndCheckpoint.png\" width=\"300\" style=\"float: right\" />\n",
    "\n",
    "Now save your work by going to (menu <font color='green'>File</font>-><font color='green'>Save and Checkpoint</font>)"
   ]
  },
  {
   "cell_type": "markdown",
   "metadata": {
    "editable": false
   },
   "source": [
    "## Close this notebook and then go back to the Exam1AUnlocker\n",
    "<img src=\"closeAndHalt.png\" width=\"300\" style=\"float: right\" />\n",
    "\n",
    "Before going back to the Exam1AUnlocker and submit your work, you'll need to go close this\n",
    "notebook (menu <font color='green'>File</font>-><font color='green'>Close and Halt</font>.)\n",
    "\n",
    "\n",
    "Note that if you actually saved your work you should not see the leaving site message below.\n",
    "If you do see the `Leave Site` warning, cancel and save your work again.\n",
    "<br />\n",
    "<img src=\"leaveSite.png\" width=\"300\" style=\"float: left\" />"
   ]
  }
 ],
 "metadata": {
  "kernelspec": {
   "display_name": "Python 3",
   "language": "python",
   "name": "python3"
  },
  "language_info": {
   "codemirror_mode": {
    "name": "ipython",
    "version": 3
   },
   "file_extension": ".py",
   "mimetype": "text/x-python",
   "name": "python",
   "nbconvert_exporter": "python",
   "pygments_lexer": "ipython3",
   "version": "3.7.0"
  }
 },
 "nbformat": 4,
 "nbformat_minor": 1
}
